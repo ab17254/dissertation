{
  "nbformat": 4,
  "nbformat_minor": 0,
  "metadata": {
    "colab": {
      "name": "Untitled8.ipynb",
      "provenance": [],
      "authorship_tag": "ABX9TyM6xnrF72nPjQvG2cVge0Ti",
      "include_colab_link": true
    },
    "kernelspec": {
      "name": "python3",
      "display_name": "Python 3"
    },
    "language_info": {
      "name": "python"
    }
  },
  "cells": [
    {
      "cell_type": "markdown",
      "metadata": {
        "id": "view-in-github",
        "colab_type": "text"
      },
      "source": [
        "<a href=\"https://colab.research.google.com/github/ab17254/dissertation/blob/main/load_data.ipynb\" target=\"_parent\"><img src=\"https://colab.research.google.com/assets/colab-badge.svg\" alt=\"Open In Colab\"/></a>"
      ]
    },
    {
      "cell_type": "code",
      "metadata": {
        "id": "i7i2mlGl1nBF",
        "colab": {
          "resources": {
            "http://localhost:8080/nbextensions/google.colab/files.js": {
              "data": "Ly8gQ29weXJpZ2h0IDIwMTcgR29vZ2xlIExMQwovLwovLyBMaWNlbnNlZCB1bmRlciB0aGUgQXBhY2hlIExpY2Vuc2UsIFZlcnNpb24gMi4wICh0aGUgIkxpY2Vuc2UiKTsKLy8geW91IG1heSBub3QgdXNlIHRoaXMgZmlsZSBleGNlcHQgaW4gY29tcGxpYW5jZSB3aXRoIHRoZSBMaWNlbnNlLgovLyBZb3UgbWF5IG9idGFpbiBhIGNvcHkgb2YgdGhlIExpY2Vuc2UgYXQKLy8KLy8gICAgICBodHRwOi8vd3d3LmFwYWNoZS5vcmcvbGljZW5zZXMvTElDRU5TRS0yLjAKLy8KLy8gVW5sZXNzIHJlcXVpcmVkIGJ5IGFwcGxpY2FibGUgbGF3IG9yIGFncmVlZCB0byBpbiB3cml0aW5nLCBzb2Z0d2FyZQovLyBkaXN0cmlidXRlZCB1bmRlciB0aGUgTGljZW5zZSBpcyBkaXN0cmlidXRlZCBvbiBhbiAiQVMgSVMiIEJBU0lTLAovLyBXSVRIT1VUIFdBUlJBTlRJRVMgT1IgQ09ORElUSU9OUyBPRiBBTlkgS0lORCwgZWl0aGVyIGV4cHJlc3Mgb3IgaW1wbGllZC4KLy8gU2VlIHRoZSBMaWNlbnNlIGZvciB0aGUgc3BlY2lmaWMgbGFuZ3VhZ2UgZ292ZXJuaW5nIHBlcm1pc3Npb25zIGFuZAovLyBsaW1pdGF0aW9ucyB1bmRlciB0aGUgTGljZW5zZS4KCi8qKgogKiBAZmlsZW92ZXJ2aWV3IEhlbHBlcnMgZm9yIGdvb2dsZS5jb2xhYiBQeXRob24gbW9kdWxlLgogKi8KKGZ1bmN0aW9uKHNjb3BlKSB7CmZ1bmN0aW9uIHNwYW4odGV4dCwgc3R5bGVBdHRyaWJ1dGVzID0ge30pIHsKICBjb25zdCBlbGVtZW50ID0gZG9jdW1lbnQuY3JlYXRlRWxlbWVudCgnc3BhbicpOwogIGVsZW1lbnQudGV4dENvbnRlbnQgPSB0ZXh0OwogIGZvciAoY29uc3Qga2V5IG9mIE9iamVjdC5rZXlzKHN0eWxlQXR0cmlidXRlcykpIHsKICAgIGVsZW1lbnQuc3R5bGVba2V5XSA9IHN0eWxlQXR0cmlidXRlc1trZXldOwogIH0KICByZXR1cm4gZWxlbWVudDsKfQoKLy8gTWF4IG51bWJlciBvZiBieXRlcyB3aGljaCB3aWxsIGJlIHVwbG9hZGVkIGF0IGEgdGltZS4KY29uc3QgTUFYX1BBWUxPQURfU0laRSA9IDEwMCAqIDEwMjQ7CgpmdW5jdGlvbiBfdXBsb2FkRmlsZXMoaW5wdXRJZCwgb3V0cHV0SWQpIHsKICBjb25zdCBzdGVwcyA9IHVwbG9hZEZpbGVzU3RlcChpbnB1dElkLCBvdXRwdXRJZCk7CiAgY29uc3Qgb3V0cHV0RWxlbWVudCA9IGRvY3VtZW50LmdldEVsZW1lbnRCeUlkKG91dHB1dElkKTsKICAvLyBDYWNoZSBzdGVwcyBvbiB0aGUgb3V0cHV0RWxlbWVudCB0byBtYWtlIGl0IGF2YWlsYWJsZSBmb3IgdGhlIG5leHQgY2FsbAogIC8vIHRvIHVwbG9hZEZpbGVzQ29udGludWUgZnJvbSBQeXRob24uCiAgb3V0cHV0RWxlbWVudC5zdGVwcyA9IHN0ZXBzOwoKICByZXR1cm4gX3VwbG9hZEZpbGVzQ29udGludWUob3V0cHV0SWQpOwp9CgovLyBUaGlzIGlzIHJvdWdobHkgYW4gYXN5bmMgZ2VuZXJhdG9yIChub3Qgc3VwcG9ydGVkIGluIHRoZSBicm93c2VyIHlldCksCi8vIHdoZXJlIHRoZXJlIGFyZSBtdWx0aXBsZSBhc3luY2hyb25vdXMgc3RlcHMgYW5kIHRoZSBQeXRob24gc2lkZSBpcyBnb2luZwovLyB0byBwb2xsIGZvciBjb21wbGV0aW9uIG9mIGVhY2ggc3RlcC4KLy8gVGhpcyB1c2VzIGEgUHJvbWlzZSB0byBibG9jayB0aGUgcHl0aG9uIHNpZGUgb24gY29tcGxldGlvbiBvZiBlYWNoIHN0ZXAsCi8vIHRoZW4gcGFzc2VzIHRoZSByZXN1bHQgb2YgdGhlIHByZXZpb3VzIHN0ZXAgYXMgdGhlIGlucHV0IHRvIHRoZSBuZXh0IHN0ZXAuCmZ1bmN0aW9uIF91cGxvYWRGaWxlc0NvbnRpbnVlKG91dHB1dElkKSB7CiAgY29uc3Qgb3V0cHV0RWxlbWVudCA9IGRvY3VtZW50LmdldEVsZW1lbnRCeUlkKG91dHB1dElkKTsKICBjb25zdCBzdGVwcyA9IG91dHB1dEVsZW1lbnQuc3RlcHM7CgogIGNvbnN0IG5leHQgPSBzdGVwcy5uZXh0KG91dHB1dEVsZW1lbnQubGFzdFByb21pc2VWYWx1ZSk7CiAgcmV0dXJuIFByb21pc2UucmVzb2x2ZShuZXh0LnZhbHVlLnByb21pc2UpLnRoZW4oKHZhbHVlKSA9PiB7CiAgICAvLyBDYWNoZSB0aGUgbGFzdCBwcm9taXNlIHZhbHVlIHRvIG1ha2UgaXQgYXZhaWxhYmxlIHRvIHRoZSBuZXh0CiAgICAvLyBzdGVwIG9mIHRoZSBnZW5lcmF0b3IuCiAgICBvdXRwdXRFbGVtZW50Lmxhc3RQcm9taXNlVmFsdWUgPSB2YWx1ZTsKICAgIHJldHVybiBuZXh0LnZhbHVlLnJlc3BvbnNlOwogIH0pOwp9CgovKioKICogR2VuZXJhdG9yIGZ1bmN0aW9uIHdoaWNoIGlzIGNhbGxlZCBiZXR3ZWVuIGVhY2ggYXN5bmMgc3RlcCBvZiB0aGUgdXBsb2FkCiAqIHByb2Nlc3MuCiAqIEBwYXJhbSB7c3RyaW5nfSBpbnB1dElkIEVsZW1lbnQgSUQgb2YgdGhlIGlucHV0IGZpbGUgcGlja2VyIGVsZW1lbnQuCiAqIEBwYXJhbSB7c3RyaW5nfSBvdXRwdXRJZCBFbGVtZW50IElEIG9mIHRoZSBvdXRwdXQgZGlzcGxheS4KICogQHJldHVybiB7IUl0ZXJhYmxlPCFPYmplY3Q+fSBJdGVyYWJsZSBvZiBuZXh0IHN0ZXBzLgogKi8KZnVuY3Rpb24qIHVwbG9hZEZpbGVzU3RlcChpbnB1dElkLCBvdXRwdXRJZCkgewogIGNvbnN0IGlucHV0RWxlbWVudCA9IGRvY3VtZW50LmdldEVsZW1lbnRCeUlkKGlucHV0SWQpOwogIGlucHV0RWxlbWVudC5kaXNhYmxlZCA9IGZhbHNlOwoKICBjb25zdCBvdXRwdXRFbGVtZW50ID0gZG9jdW1lbnQuZ2V0RWxlbWVudEJ5SWQob3V0cHV0SWQpOwogIG91dHB1dEVsZW1lbnQuaW5uZXJIVE1MID0gJyc7CgogIGNvbnN0IHBpY2tlZFByb21pc2UgPSBuZXcgUHJvbWlzZSgocmVzb2x2ZSkgPT4gewogICAgaW5wdXRFbGVtZW50LmFkZEV2ZW50TGlzdGVuZXIoJ2NoYW5nZScsIChlKSA9PiB7CiAgICAgIHJlc29sdmUoZS50YXJnZXQuZmlsZXMpOwogICAgfSk7CiAgfSk7CgogIGNvbnN0IGNhbmNlbCA9IGRvY3VtZW50LmNyZWF0ZUVsZW1lbnQoJ2J1dHRvbicpOwogIGlucHV0RWxlbWVudC5wYXJlbnRFbGVtZW50LmFwcGVuZENoaWxkKGNhbmNlbCk7CiAgY2FuY2VsLnRleHRDb250ZW50ID0gJ0NhbmNlbCB1cGxvYWQnOwogIGNvbnN0IGNhbmNlbFByb21pc2UgPSBuZXcgUHJvbWlzZSgocmVzb2x2ZSkgPT4gewogICAgY2FuY2VsLm9uY2xpY2sgPSAoKSA9PiB7CiAgICAgIHJlc29sdmUobnVsbCk7CiAgICB9OwogIH0pOwoKICAvLyBXYWl0IGZvciB0aGUgdXNlciB0byBwaWNrIHRoZSBmaWxlcy4KICBjb25zdCBmaWxlcyA9IHlpZWxkIHsKICAgIHByb21pc2U6IFByb21pc2UucmFjZShbcGlja2VkUHJvbWlzZSwgY2FuY2VsUHJvbWlzZV0pLAogICAgcmVzcG9uc2U6IHsKICAgICAgYWN0aW9uOiAnc3RhcnRpbmcnLAogICAgfQogIH07CgogIGNhbmNlbC5yZW1vdmUoKTsKCiAgLy8gRGlzYWJsZSB0aGUgaW5wdXQgZWxlbWVudCBzaW5jZSBmdXJ0aGVyIHBpY2tzIGFyZSBub3QgYWxsb3dlZC4KICBpbnB1dEVsZW1lbnQuZGlzYWJsZWQgPSB0cnVlOwoKICBpZiAoIWZpbGVzKSB7CiAgICByZXR1cm4gewogICAgICByZXNwb25zZTogewogICAgICAgIGFjdGlvbjogJ2NvbXBsZXRlJywKICAgICAgfQogICAgfTsKICB9CgogIGZvciAoY29uc3QgZmlsZSBvZiBmaWxlcykgewogICAgY29uc3QgbGkgPSBkb2N1bWVudC5jcmVhdGVFbGVtZW50KCdsaScpOwogICAgbGkuYXBwZW5kKHNwYW4oZmlsZS5uYW1lLCB7Zm9udFdlaWdodDogJ2JvbGQnfSkpOwogICAgbGkuYXBwZW5kKHNwYW4oCiAgICAgICAgYCgke2ZpbGUudHlwZSB8fCAnbi9hJ30pIC0gJHtmaWxlLnNpemV9IGJ5dGVzLCBgICsKICAgICAgICBgbGFzdCBtb2RpZmllZDogJHsKICAgICAgICAgICAgZmlsZS5sYXN0TW9kaWZpZWREYXRlID8gZmlsZS5sYXN0TW9kaWZpZWREYXRlLnRvTG9jYWxlRGF0ZVN0cmluZygpIDoKICAgICAgICAgICAgICAgICAgICAgICAgICAgICAgICAgICAgJ24vYSd9IC0gYCkpOwogICAgY29uc3QgcGVyY2VudCA9IHNwYW4oJzAlIGRvbmUnKTsKICAgIGxpLmFwcGVuZENoaWxkKHBlcmNlbnQpOwoKICAgIG91dHB1dEVsZW1lbnQuYXBwZW5kQ2hpbGQobGkpOwoKICAgIGNvbnN0IGZpbGVEYXRhUHJvbWlzZSA9IG5ldyBQcm9taXNlKChyZXNvbHZlKSA9PiB7CiAgICAgIGNvbnN0IHJlYWRlciA9IG5ldyBGaWxlUmVhZGVyKCk7CiAgICAgIHJlYWRlci5vbmxvYWQgPSAoZSkgPT4gewogICAgICAgIHJlc29sdmUoZS50YXJnZXQucmVzdWx0KTsKICAgICAgfTsKICAgICAgcmVhZGVyLnJlYWRBc0FycmF5QnVmZmVyKGZpbGUpOwogICAgfSk7CiAgICAvLyBXYWl0IGZvciB0aGUgZGF0YSB0byBiZSByZWFkeS4KICAgIGxldCBmaWxlRGF0YSA9IHlpZWxkIHsKICAgICAgcHJvbWlzZTogZmlsZURhdGFQcm9taXNlLAogICAgICByZXNwb25zZTogewogICAgICAgIGFjdGlvbjogJ2NvbnRpbnVlJywKICAgICAgfQogICAgfTsKCiAgICAvLyBVc2UgYSBjaHVua2VkIHNlbmRpbmcgdG8gYXZvaWQgbWVzc2FnZSBzaXplIGxpbWl0cy4gU2VlIGIvNjIxMTU2NjAuCiAgICBsZXQgcG9zaXRpb24gPSAwOwogICAgd2hpbGUgKHBvc2l0aW9uIDwgZmlsZURhdGEuYnl0ZUxlbmd0aCkgewogICAgICBjb25zdCBsZW5ndGggPSBNYXRoLm1pbihmaWxlRGF0YS5ieXRlTGVuZ3RoIC0gcG9zaXRpb24sIE1BWF9QQVlMT0FEX1NJWkUpOwogICAgICBjb25zdCBjaHVuayA9IG5ldyBVaW50OEFycmF5KGZpbGVEYXRhLCBwb3NpdGlvbiwgbGVuZ3RoKTsKICAgICAgcG9zaXRpb24gKz0gbGVuZ3RoOwoKICAgICAgY29uc3QgYmFzZTY0ID0gYnRvYShTdHJpbmcuZnJvbUNoYXJDb2RlLmFwcGx5KG51bGwsIGNodW5rKSk7CiAgICAgIHlpZWxkIHsKICAgICAgICByZXNwb25zZTogewogICAgICAgICAgYWN0aW9uOiAnYXBwZW5kJywKICAgICAgICAgIGZpbGU6IGZpbGUubmFtZSwKICAgICAgICAgIGRhdGE6IGJhc2U2NCwKICAgICAgICB9LAogICAgICB9OwogICAgICBwZXJjZW50LnRleHRDb250ZW50ID0KICAgICAgICAgIGAke01hdGgucm91bmQoKHBvc2l0aW9uIC8gZmlsZURhdGEuYnl0ZUxlbmd0aCkgKiAxMDApfSUgZG9uZWA7CiAgICB9CiAgfQoKICAvLyBBbGwgZG9uZS4KICB5aWVsZCB7CiAgICByZXNwb25zZTogewogICAgICBhY3Rpb246ICdjb21wbGV0ZScsCiAgICB9CiAgfTsKfQoKc2NvcGUuZ29vZ2xlID0gc2NvcGUuZ29vZ2xlIHx8IHt9OwpzY29wZS5nb29nbGUuY29sYWIgPSBzY29wZS5nb29nbGUuY29sYWIgfHwge307CnNjb3BlLmdvb2dsZS5jb2xhYi5fZmlsZXMgPSB7CiAgX3VwbG9hZEZpbGVzLAogIF91cGxvYWRGaWxlc0NvbnRpbnVlLAp9Owp9KShzZWxmKTsK",
              "ok": true,
              "headers": [
                [
                  "content-type",
                  "application/javascript"
                ]
              ],
              "status": 200,
              "status_text": ""
            }
          },
          "base_uri": "https://localhost:8080/",
          "height": 72
        },
        "outputId": "8b60f7e3-1d79-4a98-c909-120d104c9b9d"
      },
      "source": [
        "# Upload config.py with API keys\n",
        "from google.colab import files\n",
        "uploaded = files.upload()"
      ],
      "execution_count": 1,
      "outputs": [
        {
          "output_type": "display_data",
          "data": {
            "text/html": [
              "\n",
              "     <input type=\"file\" id=\"files-89a32b71-c457-4393-8698-5ad543f75ca6\" name=\"files[]\" multiple disabled\n",
              "        style=\"border:none\" />\n",
              "     <output id=\"result-89a32b71-c457-4393-8698-5ad543f75ca6\">\n",
              "      Upload widget is only available when the cell has been executed in the\n",
              "      current browser session. Please rerun this cell to enable.\n",
              "      </output>\n",
              "      <script src=\"/nbextensions/google.colab/files.js\"></script> "
            ],
            "text/plain": [
              "<IPython.core.display.HTML object>"
            ]
          },
          "metadata": {
            "tags": []
          }
        },
        {
          "output_type": "stream",
          "text": [
            "Saving config.py to config.py\n"
          ],
          "name": "stdout"
        }
      ]
    },
    {
      "cell_type": "code",
      "metadata": {
        "colab": {
          "base_uri": "https://localhost:8080/"
        },
        "id": "yDCjtH-a_bt-",
        "outputId": "ef2fae53-1207-40f8-c68f-28bf2432656a"
      },
      "source": [
        "import os\n",
        "from config import KaggleKey\n",
        "os.environ['KAGGLE_USERNAME'] = KaggleKey.kaggle_username\n",
        "os.environ['KAGGLE_KEY'] = KaggleKey.kaggle_key\n",
        "!kaggle datasets download -d albrace/twitter-data"
      ],
      "execution_count": 2,
      "outputs": [
        {
          "output_type": "stream",
          "text": [
            "Downloading twitter-data.zip to /content\n",
            " 99% 291M/293M [00:03<00:00, 93.9MB/s]\n",
            "100% 293M/293M [00:03<00:00, 81.5MB/s]\n"
          ],
          "name": "stdout"
        }
      ]
    },
    {
      "cell_type": "code",
      "metadata": {
        "colab": {
          "base_uri": "https://localhost:8080/"
        },
        "id": "9YfIj2cEAjC2",
        "outputId": "3202e759-44dd-45af-9155-d98dd737934f"
      },
      "source": [
        "!unzip /content/twitter-data.zip -d /content/data"
      ],
      "execution_count": 3,
      "outputs": [
        {
          "output_type": "stream",
          "text": [
            "Archive:  /content/twitter-data.zip\n",
            "  inflating: /content/data/all_twitter_data.csv  \n",
            "  inflating: /content/data/political_twitter_data.csv  \n"
          ],
          "name": "stdout"
        }
      ]
    },
    {
      "cell_type": "code",
      "metadata": {
        "id": "WzwQu4MnFh9a",
        "colab": {
          "base_uri": "https://localhost:8080/"
        },
        "outputId": "8dc6ba69-1549-468e-a0f8-5a45e4b45766"
      },
      "source": [
        "import string\n",
        "import pandas as pd\n",
        "import matplotlib.pyplot as plt\n",
        "import seaborn as sns\n",
        "import re\n",
        "import numpy as np\n",
        "\n",
        "import nltk\n",
        "nltk.download('stopwords')\n",
        "from nltk.tokenize import TweetTokenizer\n",
        "from nltk.corpus import stopwords\n",
        "\n",
        "sns.set_style('whitegrid')"
      ],
      "execution_count": 4,
      "outputs": [
        {
          "output_type": "stream",
          "text": [
            "[nltk_data] Downloading package stopwords to /root/nltk_data...\n",
            "[nltk_data]   Unzipping corpora/stopwords.zip.\n"
          ],
          "name": "stdout"
        }
      ]
    },
    {
      "cell_type": "code",
      "metadata": {
        "id": "yDYLliJxFkzd"
      },
      "source": [
        "pol_df = pd.read_csv('/content/data/political_twitter_data.csv', encoding='cp1252')\n",
        "all_df = pd.read_csv('/content/data/all_twitter_data.csv',encoding='cp1252')"
      ],
      "execution_count": 7,
      "outputs": []
    },
    {
      "cell_type": "code",
      "metadata": {
        "id": "ZE6oDdI6FX3c",
        "colab": {
          "base_uri": "https://localhost:8080/"
        },
        "outputId": "afe6de2a-44d3-45e9-f2db-2449c742f248"
      },
      "source": [
        "print(all_df.shape)\n",
        "all_df.isnull().sum()"
      ],
      "execution_count": 8,
      "outputs": [
        {
          "output_type": "stream",
          "text": [
            "(2311105, 21)\n"
          ],
          "name": "stdout"
        },
        {
          "output_type": "execute_result",
          "data": {
            "text/plain": [
              "tweet_date                          0\n",
              "tweet_content                       0\n",
              "tweet_id                            0\n",
              "tweet_likes                         0\n",
              "tweet_replies                       0\n",
              "tweet_retweets                      0\n",
              "tweet_quotes                        0\n",
              "user_username                       0\n",
              "user_id                             0\n",
              "user_followers                      0\n",
              "user_friends                        0\n",
              "user_statuses                       0\n",
              "user_verified                       0\n",
              "user_url                            0\n",
              "tweet_url                           0\n",
              "mentioned_users               1688666\n",
              "quotedTweet_id                1924546\n",
              "quotedTweet_content           1924546\n",
              "quotedTweet_username          1924546\n",
              "quotedTweet_userID            1924546\n",
              "quotedTweet_mentionedUsers    2228417\n",
              "dtype: int64"
            ]
          },
          "metadata": {
            "tags": []
          },
          "execution_count": 8
        }
      ]
    },
    {
      "cell_type": "code",
      "metadata": {
        "colab": {
          "base_uri": "https://localhost:8080/"
        },
        "id": "QBF_qSTCL458",
        "outputId": "9ea30e5c-cad4-4776-e1b7-a3a729694908"
      },
      "source": [
        "print(pol_df.shape)\n",
        "pol_df.isnull().sum()"
      ],
      "execution_count": 9,
      "outputs": [
        {
          "output_type": "stream",
          "text": [
            "(21360, 21)\n"
          ],
          "name": "stdout"
        },
        {
          "output_type": "execute_result",
          "data": {
            "text/plain": [
              "tweet_date                        0\n",
              "tweet_content                     0\n",
              "tweet_id                          0\n",
              "tweet_likes                       0\n",
              "tweet_replies                     0\n",
              "tweet_retweets                    0\n",
              "tweet_quotes                      0\n",
              "user_username                     0\n",
              "user_id                           0\n",
              "user_followers                    0\n",
              "user_friends                      0\n",
              "user_statuses                     0\n",
              "user_verified                     0\n",
              "user_url                          0\n",
              "tweet_url                         0\n",
              "mentioned_users               13765\n",
              "quotedTweet_id                18654\n",
              "quotedTweet_content           18654\n",
              "quotedTweet_username          18654\n",
              "quotedTweet_userID            18654\n",
              "quotedTweet_mentionedUsers    20251\n",
              "dtype: int64"
            ]
          },
          "metadata": {
            "tags": []
          },
          "execution_count": 9
        }
      ]
    },
    {
      "cell_type": "code",
      "metadata": {
        "id": "x-uob5mAGE4j"
      },
      "source": [
        "pol_df['tweet_date'] = pol_df['tweet_date'].map(lambda x: str(x)[:-15])\n",
        "all_df['tweet_date'] = all_df['tweet_date'].map(lambda x: str(x)[:-15])\n",
        "\n",
        "all_df['tweet_date'] = pd.to_datetime(all_df['tweet_date'])\n",
        "all_df = all_df[~(all_df['tweet_date'] < '2017-04-18')]\n",
        "\n",
        "pol_df['tweet_date'] = pd.to_datetime(pol_df['tweet_date'])"
      ],
      "execution_count": 10,
      "outputs": []
    },
    {
      "cell_type": "code",
      "metadata": {
        "id": "sU_Edqx_IdOI"
      },
      "source": [
        "punc = list(string.punctuation)\n",
        "stop = stopwords.words('english') + punc + ['rt', 'via']\n",
        "\n",
        "tt = TweetTokenizer()"
      ],
      "execution_count": 11,
      "outputs": []
    },
    {
      "cell_type": "code",
      "metadata": {
        "id": "Ig9ljM4uG2DU"
      },
      "source": [
        "def hashtag_extract(s):\n",
        "  hashtags = []\n",
        "  for i in s:\n",
        "    ht = re.findall(r\"#(\\w+)\", i)\n",
        "    hashtags.append(ht)\n",
        "  return hashtags"
      ],
      "execution_count": 12,
      "outputs": []
    },
    {
      "cell_type": "code",
      "metadata": {
        "id": "_EbrAagkVnir"
      },
      "source": [
        "def fix_encode(df):\n",
        "  df['tweet_content'] = df['tweet_content'].str.replace('&amp', '&')\n",
        "  df['tweet_content'] = df['tweet_content'].str.replace('b\"', '')\n",
        "  df['tweet_content'] = df['tweet_content'].str.replace(\"b'\", '')\n",
        "  return df"
      ],
      "execution_count": 13,
      "outputs": []
    },
    {
      "cell_type": "code",
      "metadata": {
        "id": "XnmLFk4iXMUH"
      },
      "source": [
        "def join_punct(s):\n",
        "    return ''.join(ch for ch in s if ch not in punc)"
      ],
      "execution_count": 14,
      "outputs": []
    },
    {
      "cell_type": "code",
      "metadata": {
        "id": "RrFtCL-uXQ2z"
      },
      "source": [
        "def remove_emoji(s):\n",
        "    emoji_pattern = re.compile(\n",
        "        r'(\\u00a9|\\u00ae|[\\u2000-\\u3300]|\\ud83c[\\ud000-\\udfff]|\\ud83d[\\ud000-\\udfff]|\\ud83e[\\ud000-\\udfff]|(?:\\U0001f92d))',\n",
        "        re.UNICODE)\n",
        "    return emoji_pattern.sub(r'', s)"
      ],
      "execution_count": 15,
      "outputs": []
    },
    {
      "cell_type": "code",
      "metadata": {
        "id": "ybLgI-oXXScx"
      },
      "source": [
        "def remove_url(s):\n",
        "    url_pattern = re.compile(r'https?://\\S+|www\\.\\S+')\n",
        "    no_url = url_pattern.sub(r'', s)\n",
        "    return no_url"
      ],
      "execution_count": 16,
      "outputs": []
    },
    {
      "cell_type": "code",
      "metadata": {
        "id": "J24meGnIJ5UA"
      },
      "source": [
        "def clean_tweet(s):\n",
        "  clean_tweets = []\n",
        "  for i in s:\n",
        "    tweet_token = tt.tokenize(join_punct(remove_emoji(remove_url(i.lower()))))\n",
        "    no_stop_words = [token for token in tweet_token if not token in stop]\n",
        "    clean_tweets.append(no_stop_words)\n",
        "  return clean_tweets"
      ],
      "execution_count": 17,
      "outputs": []
    },
    {
      "cell_type": "code",
      "metadata": {
        "id": "nmMaYqSWFMms"
      },
      "source": [
        "def preprocessing_user(df):\n",
        "\n",
        "  df['mentioned_users']=df['mentioned_users'].fillna(\"\")\n",
        "  mentioned_user = []\n",
        "  for i, user in enumerate(df['mentioned_users']):\n",
        "    usernames = user.split(\"username='\")\n",
        "    username_list = []\n",
        "    for username in usernames:\n",
        "      username_list.append(re.findall(\"^(.+?)'\", username))\n",
        "    mentioned_user.append(username_list[1:])\n",
        "  df = df.drop(columns=['mentioned_users'])\n",
        "  df['mentioned_users'] = mentioned_user\n",
        "  df['mentioned_users'] = df['mentioned_users'].apply(lambda x: np.nan if len(x)==0 else x)\n",
        "\n",
        "  df['quotedTweet_mentionedUsers']=df['quotedTweet_mentionedUsers'].fillna(\"\")\n",
        "  mentioned_user = []\n",
        "  for i, user in enumerate(df['quotedTweet_mentionedUsers']):\n",
        "    usernames = user.split(\"username='\")\n",
        "    username_list = []\n",
        "    for username in usernames:\n",
        "      username_list.append(re.findall(\"^(.+?)'\", username))\n",
        "    mentioned_user.append(username_list[1:])\n",
        "  df = df.drop(columns=['quotedTweet_mentionedUsers'])\n",
        "  df['quotedTweet_mentionedUsers'] = mentioned_user\n",
        "  df['quotedTweet_mentionedUsers'] = df['quotedTweet_mentionedUsers'].apply(lambda x: np.nan if len(x)==0 else x)\n",
        "\n",
        "  return df"
      ],
      "execution_count": 18,
      "outputs": []
    },
    {
      "cell_type": "code",
      "metadata": {
        "id": "7D4599zrUoSN"
      },
      "source": [
        "pol_df = fix_encode(pol_df)\n",
        "pol_df['hashtags'] = hashtag_extract(pol_df['tweet_content'])\n",
        "pol_df['clean_tweet_content'] = clean_tweet(pol_df['tweet_content'])\n",
        "pol_df = preprocessing_user(pol_df)"
      ],
      "execution_count": 19,
      "outputs": []
    },
    {
      "cell_type": "code",
      "metadata": {
        "id": "iD-lZO5hm-cO",
        "colab": {
          "base_uri": "https://localhost:8080/",
          "height": 864
        },
        "outputId": "e0eb1a7f-6a24-4276-8adb-fe7bc29e8336"
      },
      "source": [
        "pol_df"
      ],
      "execution_count": 20,
      "outputs": [
        {
          "output_type": "execute_result",
          "data": {
            "text/html": [
              "<div>\n",
              "<style scoped>\n",
              "    .dataframe tbody tr th:only-of-type {\n",
              "        vertical-align: middle;\n",
              "    }\n",
              "\n",
              "    .dataframe tbody tr th {\n",
              "        vertical-align: top;\n",
              "    }\n",
              "\n",
              "    .dataframe thead th {\n",
              "        text-align: right;\n",
              "    }\n",
              "</style>\n",
              "<table border=\"1\" class=\"dataframe\">\n",
              "  <thead>\n",
              "    <tr style=\"text-align: right;\">\n",
              "      <th></th>\n",
              "      <th>tweet_date</th>\n",
              "      <th>tweet_content</th>\n",
              "      <th>tweet_id</th>\n",
              "      <th>tweet_likes</th>\n",
              "      <th>tweet_replies</th>\n",
              "      <th>tweet_retweets</th>\n",
              "      <th>tweet_quotes</th>\n",
              "      <th>user_username</th>\n",
              "      <th>user_id</th>\n",
              "      <th>user_followers</th>\n",
              "      <th>user_friends</th>\n",
              "      <th>user_statuses</th>\n",
              "      <th>user_verified</th>\n",
              "      <th>user_url</th>\n",
              "      <th>tweet_url</th>\n",
              "      <th>quotedTweet_id</th>\n",
              "      <th>quotedTweet_content</th>\n",
              "      <th>quotedTweet_username</th>\n",
              "      <th>quotedTweet_userID</th>\n",
              "      <th>hashtags</th>\n",
              "      <th>clean_tweet_content</th>\n",
              "      <th>mentioned_users</th>\n",
              "      <th>quotedTweet_mentionedUsers</th>\n",
              "    </tr>\n",
              "  </thead>\n",
              "  <tbody>\n",
              "    <tr>\n",
              "      <th>0</th>\n",
              "      <td>2017-06-08</td>\n",
              "      <td>Please #VoteConservative today &amp;; let's have a...</td>\n",
              "      <td>872880278473199616</td>\n",
              "      <td>10</td>\n",
              "      <td>1</td>\n",
              "      <td>4</td>\n",
              "      <td>0</td>\n",
              "      <td>AdamAfriyie</td>\n",
              "      <td>22031058</td>\n",
              "      <td>16392</td>\n",
              "      <td>860</td>\n",
              "      <td>2357</td>\n",
              "      <td>True</td>\n",
              "      <td>https://twitter.com/AdamAfriyie</td>\n",
              "      <td>https://twitter.com/AdamAfriyie/status/8728802...</td>\n",
              "      <td>NaN</td>\n",
              "      <td>NaN</td>\n",
              "      <td>NaN</td>\n",
              "      <td>NaN</td>\n",
              "      <td>[VoteConservative]</td>\n",
              "      <td>[please, voteconservative, today, lets, sensib...</td>\n",
              "      <td>[[theresa_may]]</td>\n",
              "      <td>NaN</td>\n",
              "    </tr>\n",
              "    <tr>\n",
              "      <th>1</th>\n",
              "      <td>2017-06-08</td>\n",
              "      <td>Visited polling stations across the constituen...</td>\n",
              "      <td>872786978256932864</td>\n",
              "      <td>12</td>\n",
              "      <td>1</td>\n",
              "      <td>5</td>\n",
              "      <td>0</td>\n",
              "      <td>AdamAfriyie</td>\n",
              "      <td>22031058</td>\n",
              "      <td>16392</td>\n",
              "      <td>860</td>\n",
              "      <td>2357</td>\n",
              "      <td>True</td>\n",
              "      <td>https://twitter.com/AdamAfriyie</td>\n",
              "      <td>https://twitter.com/AdamAfriyie/status/8727869...</td>\n",
              "      <td>NaN</td>\n",
              "      <td>NaN</td>\n",
              "      <td>NaN</td>\n",
              "      <td>NaN</td>\n",
              "      <td>[VoteConservative]</td>\n",
              "      <td>[visited, polling, stations, across, constitue...</td>\n",
              "      <td>NaN</td>\n",
              "      <td>NaN</td>\n",
              "    </tr>\n",
              "    <tr>\n",
              "      <th>2</th>\n",
              "      <td>2017-05-29</td>\n",
              "      <td>Another uplifting visit to Slough doorsteps to...</td>\n",
              "      <td>869274966352646145</td>\n",
              "      <td>13</td>\n",
              "      <td>2</td>\n",
              "      <td>5</td>\n",
              "      <td>1</td>\n",
              "      <td>AdamAfriyie</td>\n",
              "      <td>22031058</td>\n",
              "      <td>16392</td>\n",
              "      <td>860</td>\n",
              "      <td>2357</td>\n",
              "      <td>True</td>\n",
              "      <td>https://twitter.com/AdamAfriyie</td>\n",
              "      <td>https://twitter.com/AdamAfriyie/status/8692749...</td>\n",
              "      <td>NaN</td>\n",
              "      <td>NaN</td>\n",
              "      <td>NaN</td>\n",
              "      <td>NaN</td>\n",
              "      <td>[VoteConservative]</td>\n",
              "      <td>[another, uplifting, visit, slough, doorsteps,...</td>\n",
              "      <td>[[MarkVivis], [GregHands]]</td>\n",
              "      <td>NaN</td>\n",
              "    </tr>\n",
              "    <tr>\n",
              "      <th>3</th>\n",
              "      <td>2017-05-27</td>\n",
              "      <td>The residents of Ascot were on the whole remar...</td>\n",
              "      <td>868539438644723712</td>\n",
              "      <td>9</td>\n",
              "      <td>1</td>\n",
              "      <td>3</td>\n",
              "      <td>0</td>\n",
              "      <td>AdamAfriyie</td>\n",
              "      <td>22031058</td>\n",
              "      <td>16392</td>\n",
              "      <td>860</td>\n",
              "      <td>2357</td>\n",
              "      <td>True</td>\n",
              "      <td>https://twitter.com/AdamAfriyie</td>\n",
              "      <td>https://twitter.com/AdamAfriyie/status/8685394...</td>\n",
              "      <td>NaN</td>\n",
              "      <td>NaN</td>\n",
              "      <td>NaN</td>\n",
              "      <td>NaN</td>\n",
              "      <td>[VoteConservative]</td>\n",
              "      <td>[residents, ascot, whole, remarkably, polite, ...</td>\n",
              "      <td>NaN</td>\n",
              "      <td>NaN</td>\n",
              "    </tr>\n",
              "    <tr>\n",
              "      <th>4</th>\n",
              "      <td>2017-05-16</td>\n",
              "      <td>Very happy to sign the #RefugeePledge. Importa...</td>\n",
              "      <td>864500887246577664</td>\n",
              "      <td>0</td>\n",
              "      <td>0</td>\n",
              "      <td>0</td>\n",
              "      <td>0</td>\n",
              "      <td>AdamBernard_HA</td>\n",
              "      <td>855166968525094914</td>\n",
              "      <td>898</td>\n",
              "      <td>1104</td>\n",
              "      <td>13128</td>\n",
              "      <td>False</td>\n",
              "      <td>https://twitter.com/AdamBernard_HA</td>\n",
              "      <td>https://twitter.com/AdamBernard_HA/status/8645...</td>\n",
              "      <td>NaN</td>\n",
              "      <td>NaN</td>\n",
              "      <td>NaN</td>\n",
              "      <td>NaN</td>\n",
              "      <td>[RefugeePledge, GE2017, RefugeesWelcome]</td>\n",
              "      <td>[happy, sign, refugeepledge, important, rememb...</td>\n",
              "      <td>NaN</td>\n",
              "      <td>NaN</td>\n",
              "    </tr>\n",
              "    <tr>\n",
              "      <th>...</th>\n",
              "      <td>...</td>\n",
              "      <td>...</td>\n",
              "      <td>...</td>\n",
              "      <td>...</td>\n",
              "      <td>...</td>\n",
              "      <td>...</td>\n",
              "      <td>...</td>\n",
              "      <td>...</td>\n",
              "      <td>...</td>\n",
              "      <td>...</td>\n",
              "      <td>...</td>\n",
              "      <td>...</td>\n",
              "      <td>...</td>\n",
              "      <td>...</td>\n",
              "      <td>...</td>\n",
              "      <td>...</td>\n",
              "      <td>...</td>\n",
              "      <td>...</td>\n",
              "      <td>...</td>\n",
              "      <td>...</td>\n",
              "      <td>...</td>\n",
              "      <td>...</td>\n",
              "      <td>...</td>\n",
              "    </tr>\n",
              "    <tr>\n",
              "      <th>21355</th>\n",
              "      <td>2017-04-30</td>\n",
              "      <td>Tomorrow @mandoconserv need help in the aftern...</td>\n",
              "      <td>858664419269779457</td>\n",
              "      <td>0</td>\n",
              "      <td>0</td>\n",
              "      <td>0</td>\n",
              "      <td>0</td>\n",
              "      <td>LeedsCityTories</td>\n",
              "      <td>1688863044</td>\n",
              "      <td>1564</td>\n",
              "      <td>731</td>\n",
              "      <td>1837</td>\n",
              "      <td>False</td>\n",
              "      <td>https://twitter.com/LeedsCityTories</td>\n",
              "      <td>https://twitter.com/LeedsCityTories/status/858...</td>\n",
              "      <td>NaN</td>\n",
              "      <td>NaN</td>\n",
              "      <td>NaN</td>\n",
              "      <td>NaN</td>\n",
              "      <td>[GE2017, conhold, Leeds]</td>\n",
              "      <td>[tomorrow, mandoconserv, need, help, afternoon...</td>\n",
              "      <td>[[mandoconserv], [PudseyCons]]</td>\n",
              "      <td>NaN</td>\n",
              "    </tr>\n",
              "    <tr>\n",
              "      <th>21356</th>\n",
              "      <td>2017-04-30</td>\n",
              "      <td>Thanks to all our activists who were out campa...</td>\n",
              "      <td>858653858284937216</td>\n",
              "      <td>1</td>\n",
              "      <td>0</td>\n",
              "      <td>1</td>\n",
              "      <td>0</td>\n",
              "      <td>LeedsCityTories</td>\n",
              "      <td>1688863044</td>\n",
              "      <td>1564</td>\n",
              "      <td>731</td>\n",
              "      <td>1837</td>\n",
              "      <td>False</td>\n",
              "      <td>https://twitter.com/LeedsCityTories</td>\n",
              "      <td>https://twitter.com/LeedsCityTories/status/858...</td>\n",
              "      <td>NaN</td>\n",
              "      <td>NaN</td>\n",
              "      <td>NaN</td>\n",
              "      <td>NaN</td>\n",
              "      <td>[conhold, GE2017]</td>\n",
              "      <td>[thanks, activists, campaigning, yesterday, to...</td>\n",
              "      <td>[[PudseyCons], [mandoconserv]]</td>\n",
              "      <td>NaN</td>\n",
              "    </tr>\n",
              "    <tr>\n",
              "      <th>21357</th>\n",
              "      <td>2017-04-27</td>\n",
              "      <td>A great evening with our PM. Lovely to see so ...</td>\n",
              "      <td>857701195040919552</td>\n",
              "      <td>11</td>\n",
              "      <td>0</td>\n",
              "      <td>4</td>\n",
              "      <td>2</td>\n",
              "      <td>LeedsCityTories</td>\n",
              "      <td>1688863044</td>\n",
              "      <td>1564</td>\n",
              "      <td>731</td>\n",
              "      <td>1837</td>\n",
              "      <td>False</td>\n",
              "      <td>https://twitter.com/LeedsCityTories</td>\n",
              "      <td>https://twitter.com/LeedsCityTories/status/857...</td>\n",
              "      <td>NaN</td>\n",
              "      <td>NaN</td>\n",
              "      <td>NaN</td>\n",
              "      <td>NaN</td>\n",
              "      <td>[GE2017]</td>\n",
              "      <td>[great, evening, pm, lovely, see, many, member...</td>\n",
              "      <td>NaN</td>\n",
              "      <td>NaN</td>\n",
              "    </tr>\n",
              "    <tr>\n",
              "      <th>21358</th>\n",
              "      <td>2017-04-20</td>\n",
              "      <td>This Sat campaigning for @StuartAndrew  @Pudse...</td>\n",
              "      <td>855167700917776384</td>\n",
              "      <td>4</td>\n",
              "      <td>0</td>\n",
              "      <td>1</td>\n",
              "      <td>0</td>\n",
              "      <td>LeedsCityTories</td>\n",
              "      <td>1688863044</td>\n",
              "      <td>1564</td>\n",
              "      <td>731</td>\n",
              "      <td>1837</td>\n",
              "      <td>False</td>\n",
              "      <td>https://twitter.com/LeedsCityTories</td>\n",
              "      <td>https://twitter.com/LeedsCityTories/status/855...</td>\n",
              "      <td>NaN</td>\n",
              "      <td>NaN</td>\n",
              "      <td>NaN</td>\n",
              "      <td>NaN</td>\n",
              "      <td>[Conservatives]</td>\n",
              "      <td>[sat, campaigning, stuartandrew, pudseycons, a...</td>\n",
              "      <td>[[StuartAndrew], [PudseyCons], [andreajenkyns]...</td>\n",
              "      <td>NaN</td>\n",
              "    </tr>\n",
              "    <tr>\n",
              "      <th>21359</th>\n",
              "      <td>2017-04-19</td>\n",
              "      <td>We will be supporting @PudseyCons and @EandRTo...</td>\n",
              "      <td>854810803995897857</td>\n",
              "      <td>2</td>\n",
              "      <td>0</td>\n",
              "      <td>7</td>\n",
              "      <td>0</td>\n",
              "      <td>LeedsCityTories</td>\n",
              "      <td>1688863044</td>\n",
              "      <td>1564</td>\n",
              "      <td>731</td>\n",
              "      <td>1837</td>\n",
              "      <td>False</td>\n",
              "      <td>https://twitter.com/LeedsCityTories</td>\n",
              "      <td>https://twitter.com/LeedsCityTories/status/854...</td>\n",
              "      <td>NaN</td>\n",
              "      <td>NaN</td>\n",
              "      <td>NaN</td>\n",
              "      <td>NaN</td>\n",
              "      <td>[GE2017, conwin]</td>\n",
              "      <td>[supporting, pudseycons, eandrtories, weekend,...</td>\n",
              "      <td>[[PudseyCons], [EandRTories]]</td>\n",
              "      <td>NaN</td>\n",
              "    </tr>\n",
              "  </tbody>\n",
              "</table>\n",
              "<p>21360 rows × 23 columns</p>\n",
              "</div>"
            ],
            "text/plain": [
              "      tweet_date  ... quotedTweet_mentionedUsers\n",
              "0     2017-06-08  ...                        NaN\n",
              "1     2017-06-08  ...                        NaN\n",
              "2     2017-05-29  ...                        NaN\n",
              "3     2017-05-27  ...                        NaN\n",
              "4     2017-05-16  ...                        NaN\n",
              "...          ...  ...                        ...\n",
              "21355 2017-04-30  ...                        NaN\n",
              "21356 2017-04-30  ...                        NaN\n",
              "21357 2017-04-27  ...                        NaN\n",
              "21358 2017-04-20  ...                        NaN\n",
              "21359 2017-04-19  ...                        NaN\n",
              "\n",
              "[21360 rows x 23 columns]"
            ]
          },
          "metadata": {
            "tags": []
          },
          "execution_count": 20
        }
      ]
    },
    {
      "cell_type": "code",
      "metadata": {
        "id": "xfTutR5_GDSf"
      },
      "source": [
        "fig, ax = plt.subplots(figsize=(20,10))\n",
        "g = sns.histplot(data=pol_df, x='tweet_date')\n",
        "plt.setp(g.get_xticklabels(), rotation=45)\n",
        "plt.show()"
      ],
      "execution_count": null,
      "outputs": []
    },
    {
      "cell_type": "code",
      "metadata": {
        "id": "j4ax6DY4Xx7N"
      },
      "source": [
        "!mkdir output"
      ],
      "execution_count": 21,
      "outputs": []
    },
    {
      "cell_type": "code",
      "metadata": {
        "id": "Wj_YknZZYeAZ"
      },
      "source": [
        "pol_df.to_csv('output/pol_actor_users.csv')\n",
        "all_df.to_csv('output/all_users.csv')"
      ],
      "execution_count": 22,
      "outputs": []
    },
    {
      "cell_type": "code",
      "metadata": {
        "id": "btCuBj3YY9Y8",
        "outputId": "05362d6f-f668-4cf1-8342-0eefc0faf7a2",
        "colab": {
          "base_uri": "https://localhost:8080/"
        }
      },
      "source": [
        "!zip -r /content/output.zip /content/output"
      ],
      "execution_count": 23,
      "outputs": [
        {
          "output_type": "stream",
          "text": [
            "  adding: content/output/ (stored 0%)\n",
            "  adding: content/output/pol_actor_users.csv (deflated 75%)\n",
            "  adding: content/output/all_users.csv (deflated 75%)\n"
          ],
          "name": "stdout"
        }
      ]
    }
  ]
}