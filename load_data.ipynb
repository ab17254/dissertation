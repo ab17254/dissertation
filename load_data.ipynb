{
  "nbformat": 4,
  "nbformat_minor": 0,
  "metadata": {
    "colab": {
      "name": "Untitled8.ipynb",
      "provenance": [],
      "authorship_tag": "ABX9TyOnlMh9RqzHv4uDWPRCGu1B",
      "include_colab_link": true
    },
    "kernelspec": {
      "name": "python3",
      "display_name": "Python 3"
    },
    "language_info": {
      "name": "python"
    }
  },
  "cells": [
    {
      "cell_type": "markdown",
      "metadata": {
        "id": "view-in-github",
        "colab_type": "text"
      },
      "source": [
        "<a href=\"https://colab.research.google.com/github/ab17254/dissertation/blob/main/load_data.ipynb\" target=\"_parent\"><img src=\"https://colab.research.google.com/assets/colab-badge.svg\" alt=\"Open In Colab\"/></a>"
      ]
    },
    {
      "cell_type": "code",
      "metadata": {
        "colab": {
          "base_uri": "https://localhost:8080/"
        },
        "id": "yDCjtH-a_bt-",
        "outputId": "6b40cdbf-a02d-4a62-a7db-ea0e997c14d3"
      },
      "source": [
        "import os\n",
        "os.environ['KAGGLE_USERNAME'] = \"albrace\" # username from the json file\n",
        "os.environ['KAGGLE_KEY'] = \"f9e1240f435d88603209646d4bc571a6\" # key from the json file\n",
        "!kaggle datasets download -d albrace/twitter-data"
      ],
      "execution_count": 2,
      "outputs": [
        {
          "output_type": "stream",
          "text": [
            "Downloading twitter-data.zip to /content\n",
            " 93% 234M/252M [00:01<00:00, 123MB/s]\n",
            "100% 252M/252M [00:02<00:00, 127MB/s]\n"
          ],
          "name": "stdout"
        }
      ]
    },
    {
      "cell_type": "code",
      "metadata": {
        "colab": {
          "base_uri": "https://localhost:8080/"
        },
        "id": "9YfIj2cEAjC2",
        "outputId": "d07f656f-6954-431a-da04-59c0cd2dd8e4"
      },
      "source": [
        "!unzip /content/twitter-data.zip"
      ],
      "execution_count": 3,
      "outputs": [
        {
          "output_type": "stream",
          "text": [
            "Archive:  /content/twitter-data.zip\n",
            "  inflating: all_twitter_data.csv    \n",
            "  inflating: political_twitter_data.csv  \n"
          ],
          "name": "stdout"
        }
      ]
    }
  ]
}