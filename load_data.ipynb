{
  "nbformat": 4,
  "nbformat_minor": 0,
  "metadata": {
    "colab": {
      "name": "Untitled8.ipynb",
      "provenance": []
    },
    "kernelspec": {
      "name": "python3",
      "display_name": "Python 3"
    },
    "language_info": {
      "name": "python"
    },
    "widgets": {
      "application/vnd.jupyter.widget-state+json": {
        "be68a6f7d86741e998c82b0c613b6c30": {
          "model_module": "@jupyter-widgets/controls",
          "model_name": "HBoxModel",
          "model_module_version": "1.5.0",
          "state": {
            "_view_name": "HBoxView",
            "_dom_classes": [],
            "_model_name": "HBoxModel",
            "_view_module": "@jupyter-widgets/controls",
            "_model_module_version": "1.5.0",
            "_view_count": null,
            "_view_module_version": "1.5.0",
            "box_style": "",
            "layout": "IPY_MODEL_02af55ef8bc440a6b040dbf8df2e37cd",
            "_model_module": "@jupyter-widgets/controls",
            "children": [
              "IPY_MODEL_6a19d29fc972495f83860d16d7453468",
              "IPY_MODEL_2bb20acf51d24af3be970374d63c45d1"
            ]
          }
        },
        "02af55ef8bc440a6b040dbf8df2e37cd": {
          "model_module": "@jupyter-widgets/base",
          "model_name": "LayoutModel",
          "model_module_version": "1.2.0",
          "state": {
            "_view_name": "LayoutView",
            "grid_template_rows": null,
            "right": null,
            "justify_content": null,
            "_view_module": "@jupyter-widgets/base",
            "overflow": null,
            "_model_module_version": "1.2.0",
            "_view_count": null,
            "flex_flow": null,
            "width": null,
            "min_width": null,
            "border": null,
            "align_items": null,
            "bottom": null,
            "_model_module": "@jupyter-widgets/base",
            "top": null,
            "grid_column": null,
            "overflow_y": null,
            "overflow_x": null,
            "grid_auto_flow": null,
            "grid_area": null,
            "grid_template_columns": null,
            "flex": null,
            "_model_name": "LayoutModel",
            "justify_items": null,
            "grid_row": null,
            "max_height": null,
            "align_content": null,
            "visibility": null,
            "align_self": null,
            "height": null,
            "min_height": null,
            "padding": null,
            "grid_auto_rows": null,
            "grid_gap": null,
            "max_width": null,
            "order": null,
            "_view_module_version": "1.2.0",
            "grid_template_areas": null,
            "object_position": null,
            "object_fit": null,
            "grid_auto_columns": null,
            "margin": null,
            "display": null,
            "left": null
          }
        },
        "6a19d29fc972495f83860d16d7453468": {
          "model_module": "@jupyter-widgets/controls",
          "model_name": "FloatProgressModel",
          "model_module_version": "1.5.0",
          "state": {
            "_view_name": "ProgressView",
            "style": "IPY_MODEL_6be54c87015d465aa1280ce81024b61f",
            "_dom_classes": [],
            "description": "Downloading https://raw.githubusercontent.com/stanfordnlp/stanza-resources/main/resources_1.2.2.json: ",
            "_model_name": "FloatProgressModel",
            "bar_style": "success",
            "max": 23856,
            "_view_module": "@jupyter-widgets/controls",
            "_model_module_version": "1.5.0",
            "value": 23856,
            "_view_count": null,
            "_view_module_version": "1.5.0",
            "orientation": "horizontal",
            "min": 0,
            "description_tooltip": null,
            "_model_module": "@jupyter-widgets/controls",
            "layout": "IPY_MODEL_b7764f3c8c1b4defb32a69216a3486b9"
          }
        },
        "2bb20acf51d24af3be970374d63c45d1": {
          "model_module": "@jupyter-widgets/controls",
          "model_name": "HTMLModel",
          "model_module_version": "1.5.0",
          "state": {
            "_view_name": "HTMLView",
            "style": "IPY_MODEL_18b7f6eeb3924ad48a7f419f6777c906",
            "_dom_classes": [],
            "description": "",
            "_model_name": "HTMLModel",
            "placeholder": "​",
            "_view_module": "@jupyter-widgets/controls",
            "_model_module_version": "1.5.0",
            "value": " 139k/? [00:00&lt;00:00, 2.24MB/s]",
            "_view_count": null,
            "_view_module_version": "1.5.0",
            "description_tooltip": null,
            "_model_module": "@jupyter-widgets/controls",
            "layout": "IPY_MODEL_13c4e4d853e64d629fd3f50c20708e70"
          }
        },
        "6be54c87015d465aa1280ce81024b61f": {
          "model_module": "@jupyter-widgets/controls",
          "model_name": "ProgressStyleModel",
          "model_module_version": "1.5.0",
          "state": {
            "_view_name": "StyleView",
            "_model_name": "ProgressStyleModel",
            "description_width": "initial",
            "_view_module": "@jupyter-widgets/base",
            "_model_module_version": "1.5.0",
            "_view_count": null,
            "_view_module_version": "1.2.0",
            "bar_color": null,
            "_model_module": "@jupyter-widgets/controls"
          }
        },
        "b7764f3c8c1b4defb32a69216a3486b9": {
          "model_module": "@jupyter-widgets/base",
          "model_name": "LayoutModel",
          "model_module_version": "1.2.0",
          "state": {
            "_view_name": "LayoutView",
            "grid_template_rows": null,
            "right": null,
            "justify_content": null,
            "_view_module": "@jupyter-widgets/base",
            "overflow": null,
            "_model_module_version": "1.2.0",
            "_view_count": null,
            "flex_flow": null,
            "width": null,
            "min_width": null,
            "border": null,
            "align_items": null,
            "bottom": null,
            "_model_module": "@jupyter-widgets/base",
            "top": null,
            "grid_column": null,
            "overflow_y": null,
            "overflow_x": null,
            "grid_auto_flow": null,
            "grid_area": null,
            "grid_template_columns": null,
            "flex": null,
            "_model_name": "LayoutModel",
            "justify_items": null,
            "grid_row": null,
            "max_height": null,
            "align_content": null,
            "visibility": null,
            "align_self": null,
            "height": null,
            "min_height": null,
            "padding": null,
            "grid_auto_rows": null,
            "grid_gap": null,
            "max_width": null,
            "order": null,
            "_view_module_version": "1.2.0",
            "grid_template_areas": null,
            "object_position": null,
            "object_fit": null,
            "grid_auto_columns": null,
            "margin": null,
            "display": null,
            "left": null
          }
        },
        "18b7f6eeb3924ad48a7f419f6777c906": {
          "model_module": "@jupyter-widgets/controls",
          "model_name": "DescriptionStyleModel",
          "model_module_version": "1.5.0",
          "state": {
            "_view_name": "StyleView",
            "_model_name": "DescriptionStyleModel",
            "description_width": "",
            "_view_module": "@jupyter-widgets/base",
            "_model_module_version": "1.5.0",
            "_view_count": null,
            "_view_module_version": "1.2.0",
            "_model_module": "@jupyter-widgets/controls"
          }
        },
        "13c4e4d853e64d629fd3f50c20708e70": {
          "model_module": "@jupyter-widgets/base",
          "model_name": "LayoutModel",
          "model_module_version": "1.2.0",
          "state": {
            "_view_name": "LayoutView",
            "grid_template_rows": null,
            "right": null,
            "justify_content": null,
            "_view_module": "@jupyter-widgets/base",
            "overflow": null,
            "_model_module_version": "1.2.0",
            "_view_count": null,
            "flex_flow": null,
            "width": null,
            "min_width": null,
            "border": null,
            "align_items": null,
            "bottom": null,
            "_model_module": "@jupyter-widgets/base",
            "top": null,
            "grid_column": null,
            "overflow_y": null,
            "overflow_x": null,
            "grid_auto_flow": null,
            "grid_area": null,
            "grid_template_columns": null,
            "flex": null,
            "_model_name": "LayoutModel",
            "justify_items": null,
            "grid_row": null,
            "max_height": null,
            "align_content": null,
            "visibility": null,
            "align_self": null,
            "height": null,
            "min_height": null,
            "padding": null,
            "grid_auto_rows": null,
            "grid_gap": null,
            "max_width": null,
            "order": null,
            "_view_module_version": "1.2.0",
            "grid_template_areas": null,
            "object_position": null,
            "object_fit": null,
            "grid_auto_columns": null,
            "margin": null,
            "display": null,
            "left": null
          }
        },
        "97d2c336b59c497cab9fe1d68c8f066c": {
          "model_module": "@jupyter-widgets/controls",
          "model_name": "HBoxModel",
          "model_module_version": "1.5.0",
          "state": {
            "_view_name": "HBoxView",
            "_dom_classes": [],
            "_model_name": "HBoxModel",
            "_view_module": "@jupyter-widgets/controls",
            "_model_module_version": "1.5.0",
            "_view_count": null,
            "_view_module_version": "1.5.0",
            "box_style": "",
            "layout": "IPY_MODEL_895cc5ad21974991bf53e1233c53dc52",
            "_model_module": "@jupyter-widgets/controls",
            "children": [
              "IPY_MODEL_37d3fc0bf2804588bd2c4d7005387fee",
              "IPY_MODEL_f9fba04b6775469588b9cffd8b6e943a"
            ]
          }
        },
        "895cc5ad21974991bf53e1233c53dc52": {
          "model_module": "@jupyter-widgets/base",
          "model_name": "LayoutModel",
          "model_module_version": "1.2.0",
          "state": {
            "_view_name": "LayoutView",
            "grid_template_rows": null,
            "right": null,
            "justify_content": null,
            "_view_module": "@jupyter-widgets/base",
            "overflow": null,
            "_model_module_version": "1.2.0",
            "_view_count": null,
            "flex_flow": null,
            "width": null,
            "min_width": null,
            "border": null,
            "align_items": null,
            "bottom": null,
            "_model_module": "@jupyter-widgets/base",
            "top": null,
            "grid_column": null,
            "overflow_y": null,
            "overflow_x": null,
            "grid_auto_flow": null,
            "grid_area": null,
            "grid_template_columns": null,
            "flex": null,
            "_model_name": "LayoutModel",
            "justify_items": null,
            "grid_row": null,
            "max_height": null,
            "align_content": null,
            "visibility": null,
            "align_self": null,
            "height": null,
            "min_height": null,
            "padding": null,
            "grid_auto_rows": null,
            "grid_gap": null,
            "max_width": null,
            "order": null,
            "_view_module_version": "1.2.0",
            "grid_template_areas": null,
            "object_position": null,
            "object_fit": null,
            "grid_auto_columns": null,
            "margin": null,
            "display": null,
            "left": null
          }
        },
        "37d3fc0bf2804588bd2c4d7005387fee": {
          "model_module": "@jupyter-widgets/controls",
          "model_name": "FloatProgressModel",
          "model_module_version": "1.5.0",
          "state": {
            "_view_name": "ProgressView",
            "style": "IPY_MODEL_462af0a26c694b01863eafd2b5e3a39f",
            "_dom_classes": [],
            "description": "Downloading http://nlp.stanford.edu/software/stanza/1.2.2/en/default.zip: 100%",
            "_model_name": "FloatProgressModel",
            "bar_style": "success",
            "max": 411784510,
            "_view_module": "@jupyter-widgets/controls",
            "_model_module_version": "1.5.0",
            "value": 411784510,
            "_view_count": null,
            "_view_module_version": "1.5.0",
            "orientation": "horizontal",
            "min": 0,
            "description_tooltip": null,
            "_model_module": "@jupyter-widgets/controls",
            "layout": "IPY_MODEL_8fa3df4e915c4b38847b9b32efb50cfb"
          }
        },
        "f9fba04b6775469588b9cffd8b6e943a": {
          "model_module": "@jupyter-widgets/controls",
          "model_name": "HTMLModel",
          "model_module_version": "1.5.0",
          "state": {
            "_view_name": "HTMLView",
            "style": "IPY_MODEL_1e5a9cac823649ef96c4d2a865893519",
            "_dom_classes": [],
            "description": "",
            "_model_name": "HTMLModel",
            "placeholder": "​",
            "_view_module": "@jupyter-widgets/controls",
            "_model_module_version": "1.5.0",
            "value": " 412M/412M [03:23&lt;00:00, 2.03MB/s]",
            "_view_count": null,
            "_view_module_version": "1.5.0",
            "description_tooltip": null,
            "_model_module": "@jupyter-widgets/controls",
            "layout": "IPY_MODEL_3174b9e57a434522945d31cbd9252a67"
          }
        },
        "462af0a26c694b01863eafd2b5e3a39f": {
          "model_module": "@jupyter-widgets/controls",
          "model_name": "ProgressStyleModel",
          "model_module_version": "1.5.0",
          "state": {
            "_view_name": "StyleView",
            "_model_name": "ProgressStyleModel",
            "description_width": "initial",
            "_view_module": "@jupyter-widgets/base",
            "_model_module_version": "1.5.0",
            "_view_count": null,
            "_view_module_version": "1.2.0",
            "bar_color": null,
            "_model_module": "@jupyter-widgets/controls"
          }
        },
        "8fa3df4e915c4b38847b9b32efb50cfb": {
          "model_module": "@jupyter-widgets/base",
          "model_name": "LayoutModel",
          "model_module_version": "1.2.0",
          "state": {
            "_view_name": "LayoutView",
            "grid_template_rows": null,
            "right": null,
            "justify_content": null,
            "_view_module": "@jupyter-widgets/base",
            "overflow": null,
            "_model_module_version": "1.2.0",
            "_view_count": null,
            "flex_flow": null,
            "width": null,
            "min_width": null,
            "border": null,
            "align_items": null,
            "bottom": null,
            "_model_module": "@jupyter-widgets/base",
            "top": null,
            "grid_column": null,
            "overflow_y": null,
            "overflow_x": null,
            "grid_auto_flow": null,
            "grid_area": null,
            "grid_template_columns": null,
            "flex": null,
            "_model_name": "LayoutModel",
            "justify_items": null,
            "grid_row": null,
            "max_height": null,
            "align_content": null,
            "visibility": null,
            "align_self": null,
            "height": null,
            "min_height": null,
            "padding": null,
            "grid_auto_rows": null,
            "grid_gap": null,
            "max_width": null,
            "order": null,
            "_view_module_version": "1.2.0",
            "grid_template_areas": null,
            "object_position": null,
            "object_fit": null,
            "grid_auto_columns": null,
            "margin": null,
            "display": null,
            "left": null
          }
        },
        "1e5a9cac823649ef96c4d2a865893519": {
          "model_module": "@jupyter-widgets/controls",
          "model_name": "DescriptionStyleModel",
          "model_module_version": "1.5.0",
          "state": {
            "_view_name": "StyleView",
            "_model_name": "DescriptionStyleModel",
            "description_width": "",
            "_view_module": "@jupyter-widgets/base",
            "_model_module_version": "1.5.0",
            "_view_count": null,
            "_view_module_version": "1.2.0",
            "_model_module": "@jupyter-widgets/controls"
          }
        },
        "3174b9e57a434522945d31cbd9252a67": {
          "model_module": "@jupyter-widgets/base",
          "model_name": "LayoutModel",
          "model_module_version": "1.2.0",
          "state": {
            "_view_name": "LayoutView",
            "grid_template_rows": null,
            "right": null,
            "justify_content": null,
            "_view_module": "@jupyter-widgets/base",
            "overflow": null,
            "_model_module_version": "1.2.0",
            "_view_count": null,
            "flex_flow": null,
            "width": null,
            "min_width": null,
            "border": null,
            "align_items": null,
            "bottom": null,
            "_model_module": "@jupyter-widgets/base",
            "top": null,
            "grid_column": null,
            "overflow_y": null,
            "overflow_x": null,
            "grid_auto_flow": null,
            "grid_area": null,
            "grid_template_columns": null,
            "flex": null,
            "_model_name": "LayoutModel",
            "justify_items": null,
            "grid_row": null,
            "max_height": null,
            "align_content": null,
            "visibility": null,
            "align_self": null,
            "height": null,
            "min_height": null,
            "padding": null,
            "grid_auto_rows": null,
            "grid_gap": null,
            "max_width": null,
            "order": null,
            "_view_module_version": "1.2.0",
            "grid_template_areas": null,
            "object_position": null,
            "object_fit": null,
            "grid_auto_columns": null,
            "margin": null,
            "display": null,
            "left": null
          }
        }
      }
    }
  },
  "cells": [
    {
      "cell_type": "code",
      "metadata": {
        "id": "fkY1GUum0Un1",
        "colab": {
          "base_uri": "https://localhost:8080/"
        },
        "outputId": "5dde0935-8ebb-4847-c15d-65fa6eb9ce56"
      },
      "source": [
        "!pip install stanza"
      ],
      "execution_count": null,
      "outputs": [
        {
          "output_type": "stream",
          "text": [
            "Collecting stanza\n",
            "  Downloading stanza-1.2.2-py3-none-any.whl (337 kB)\n",
            "\u001b[?25l\r\u001b[K     |█                               | 10 kB 24.3 MB/s eta 0:00:01\r\u001b[K     |██                              | 20 kB 10.2 MB/s eta 0:00:01\r\u001b[K     |███                             | 30 kB 8.6 MB/s eta 0:00:01\r\u001b[K     |███▉                            | 40 kB 7.8 MB/s eta 0:00:01\r\u001b[K     |████▉                           | 51 kB 4.3 MB/s eta 0:00:01\r\u001b[K     |█████▉                          | 61 kB 4.5 MB/s eta 0:00:01\r\u001b[K     |██████▉                         | 71 kB 4.8 MB/s eta 0:00:01\r\u001b[K     |███████▊                        | 81 kB 5.2 MB/s eta 0:00:01\r\u001b[K     |████████▊                       | 92 kB 5.2 MB/s eta 0:00:01\r\u001b[K     |█████████▊                      | 102 kB 4.3 MB/s eta 0:00:01\r\u001b[K     |██████████▊                     | 112 kB 4.3 MB/s eta 0:00:01\r\u001b[K     |███████████▋                    | 122 kB 4.3 MB/s eta 0:00:01\r\u001b[K     |████████████▋                   | 133 kB 4.3 MB/s eta 0:00:01\r\u001b[K     |█████████████▋                  | 143 kB 4.3 MB/s eta 0:00:01\r\u001b[K     |██████████████▌                 | 153 kB 4.3 MB/s eta 0:00:01\r\u001b[K     |███████████████▌                | 163 kB 4.3 MB/s eta 0:00:01\r\u001b[K     |████████████████▌               | 174 kB 4.3 MB/s eta 0:00:01\r\u001b[K     |█████████████████▌              | 184 kB 4.3 MB/s eta 0:00:01\r\u001b[K     |██████████████████▍             | 194 kB 4.3 MB/s eta 0:00:01\r\u001b[K     |███████████████████▍            | 204 kB 4.3 MB/s eta 0:00:01\r\u001b[K     |████████████████████▍           | 215 kB 4.3 MB/s eta 0:00:01\r\u001b[K     |█████████████████████▍          | 225 kB 4.3 MB/s eta 0:00:01\r\u001b[K     |██████████████████████▎         | 235 kB 4.3 MB/s eta 0:00:01\r\u001b[K     |███████████████████████▎        | 245 kB 4.3 MB/s eta 0:00:01\r\u001b[K     |████████████████████████▎       | 256 kB 4.3 MB/s eta 0:00:01\r\u001b[K     |█████████████████████████▏      | 266 kB 4.3 MB/s eta 0:00:01\r\u001b[K     |██████████████████████████▏     | 276 kB 4.3 MB/s eta 0:00:01\r\u001b[K     |███████████████████████████▏    | 286 kB 4.3 MB/s eta 0:00:01\r\u001b[K     |████████████████████████████▏   | 296 kB 4.3 MB/s eta 0:00:01\r\u001b[K     |█████████████████████████████   | 307 kB 4.3 MB/s eta 0:00:01\r\u001b[K     |██████████████████████████████  | 317 kB 4.3 MB/s eta 0:00:01\r\u001b[K     |███████████████████████████████ | 327 kB 4.3 MB/s eta 0:00:01\r\u001b[K     |████████████████████████████████| 337 kB 4.3 MB/s \n",
            "\u001b[?25hRequirement already satisfied: protobuf in /usr/local/lib/python3.7/dist-packages (from stanza) (3.17.3)\n",
            "Requirement already satisfied: requests in /usr/local/lib/python3.7/dist-packages (from stanza) (2.23.0)\n",
            "Requirement already satisfied: tqdm in /usr/local/lib/python3.7/dist-packages (from stanza) (4.41.1)\n",
            "Requirement already satisfied: torch>=1.3.0 in /usr/local/lib/python3.7/dist-packages (from stanza) (1.9.0+cu102)\n",
            "Requirement already satisfied: numpy in /usr/local/lib/python3.7/dist-packages (from stanza) (1.19.5)\n",
            "Requirement already satisfied: typing-extensions in /usr/local/lib/python3.7/dist-packages (from torch>=1.3.0->stanza) (3.7.4.3)\n",
            "Requirement already satisfied: six>=1.9 in /usr/local/lib/python3.7/dist-packages (from protobuf->stanza) (1.15.0)\n",
            "Requirement already satisfied: chardet<4,>=3.0.2 in /usr/local/lib/python3.7/dist-packages (from requests->stanza) (3.0.4)\n",
            "Requirement already satisfied: urllib3!=1.25.0,!=1.25.1,<1.26,>=1.21.1 in /usr/local/lib/python3.7/dist-packages (from requests->stanza) (1.24.3)\n",
            "Requirement already satisfied: certifi>=2017.4.17 in /usr/local/lib/python3.7/dist-packages (from requests->stanza) (2021.5.30)\n",
            "Requirement already satisfied: idna<3,>=2.5 in /usr/local/lib/python3.7/dist-packages (from requests->stanza) (2.10)\n",
            "Installing collected packages: stanza\n",
            "Successfully installed stanza-1.2.2\n"
          ],
          "name": "stdout"
        }
      ]
    },
    {
      "cell_type": "code",
      "metadata": {
        "id": "i7i2mlGl1nBF",
        "colab": {
          "resources": {
            "http://localhost:8080/nbextensions/google.colab/files.js": {
              "data": "Ly8gQ29weXJpZ2h0IDIwMTcgR29vZ2xlIExMQwovLwovLyBMaWNlbnNlZCB1bmRlciB0aGUgQXBhY2hlIExpY2Vuc2UsIFZlcnNpb24gMi4wICh0aGUgIkxpY2Vuc2UiKTsKLy8geW91IG1heSBub3QgdXNlIHRoaXMgZmlsZSBleGNlcHQgaW4gY29tcGxpYW5jZSB3aXRoIHRoZSBMaWNlbnNlLgovLyBZb3UgbWF5IG9idGFpbiBhIGNvcHkgb2YgdGhlIExpY2Vuc2UgYXQKLy8KLy8gICAgICBodHRwOi8vd3d3LmFwYWNoZS5vcmcvbGljZW5zZXMvTElDRU5TRS0yLjAKLy8KLy8gVW5sZXNzIHJlcXVpcmVkIGJ5IGFwcGxpY2FibGUgbGF3IG9yIGFncmVlZCB0byBpbiB3cml0aW5nLCBzb2Z0d2FyZQovLyBkaXN0cmlidXRlZCB1bmRlciB0aGUgTGljZW5zZSBpcyBkaXN0cmlidXRlZCBvbiBhbiAiQVMgSVMiIEJBU0lTLAovLyBXSVRIT1VUIFdBUlJBTlRJRVMgT1IgQ09ORElUSU9OUyBPRiBBTlkgS0lORCwgZWl0aGVyIGV4cHJlc3Mgb3IgaW1wbGllZC4KLy8gU2VlIHRoZSBMaWNlbnNlIGZvciB0aGUgc3BlY2lmaWMgbGFuZ3VhZ2UgZ292ZXJuaW5nIHBlcm1pc3Npb25zIGFuZAovLyBsaW1pdGF0aW9ucyB1bmRlciB0aGUgTGljZW5zZS4KCi8qKgogKiBAZmlsZW92ZXJ2aWV3IEhlbHBlcnMgZm9yIGdvb2dsZS5jb2xhYiBQeXRob24gbW9kdWxlLgogKi8KKGZ1bmN0aW9uKHNjb3BlKSB7CmZ1bmN0aW9uIHNwYW4odGV4dCwgc3R5bGVBdHRyaWJ1dGVzID0ge30pIHsKICBjb25zdCBlbGVtZW50ID0gZG9jdW1lbnQuY3JlYXRlRWxlbWVudCgnc3BhbicpOwogIGVsZW1lbnQudGV4dENvbnRlbnQgPSB0ZXh0OwogIGZvciAoY29uc3Qga2V5IG9mIE9iamVjdC5rZXlzKHN0eWxlQXR0cmlidXRlcykpIHsKICAgIGVsZW1lbnQuc3R5bGVba2V5XSA9IHN0eWxlQXR0cmlidXRlc1trZXldOwogIH0KICByZXR1cm4gZWxlbWVudDsKfQoKLy8gTWF4IG51bWJlciBvZiBieXRlcyB3aGljaCB3aWxsIGJlIHVwbG9hZGVkIGF0IGEgdGltZS4KY29uc3QgTUFYX1BBWUxPQURfU0laRSA9IDEwMCAqIDEwMjQ7CgpmdW5jdGlvbiBfdXBsb2FkRmlsZXMoaW5wdXRJZCwgb3V0cHV0SWQpIHsKICBjb25zdCBzdGVwcyA9IHVwbG9hZEZpbGVzU3RlcChpbnB1dElkLCBvdXRwdXRJZCk7CiAgY29uc3Qgb3V0cHV0RWxlbWVudCA9IGRvY3VtZW50LmdldEVsZW1lbnRCeUlkKG91dHB1dElkKTsKICAvLyBDYWNoZSBzdGVwcyBvbiB0aGUgb3V0cHV0RWxlbWVudCB0byBtYWtlIGl0IGF2YWlsYWJsZSBmb3IgdGhlIG5leHQgY2FsbAogIC8vIHRvIHVwbG9hZEZpbGVzQ29udGludWUgZnJvbSBQeXRob24uCiAgb3V0cHV0RWxlbWVudC5zdGVwcyA9IHN0ZXBzOwoKICByZXR1cm4gX3VwbG9hZEZpbGVzQ29udGludWUob3V0cHV0SWQpOwp9CgovLyBUaGlzIGlzIHJvdWdobHkgYW4gYXN5bmMgZ2VuZXJhdG9yIChub3Qgc3VwcG9ydGVkIGluIHRoZSBicm93c2VyIHlldCksCi8vIHdoZXJlIHRoZXJlIGFyZSBtdWx0aXBsZSBhc3luY2hyb25vdXMgc3RlcHMgYW5kIHRoZSBQeXRob24gc2lkZSBpcyBnb2luZwovLyB0byBwb2xsIGZvciBjb21wbGV0aW9uIG9mIGVhY2ggc3RlcC4KLy8gVGhpcyB1c2VzIGEgUHJvbWlzZSB0byBibG9jayB0aGUgcHl0aG9uIHNpZGUgb24gY29tcGxldGlvbiBvZiBlYWNoIHN0ZXAsCi8vIHRoZW4gcGFzc2VzIHRoZSByZXN1bHQgb2YgdGhlIHByZXZpb3VzIHN0ZXAgYXMgdGhlIGlucHV0IHRvIHRoZSBuZXh0IHN0ZXAuCmZ1bmN0aW9uIF91cGxvYWRGaWxlc0NvbnRpbnVlKG91dHB1dElkKSB7CiAgY29uc3Qgb3V0cHV0RWxlbWVudCA9IGRvY3VtZW50LmdldEVsZW1lbnRCeUlkKG91dHB1dElkKTsKICBjb25zdCBzdGVwcyA9IG91dHB1dEVsZW1lbnQuc3RlcHM7CgogIGNvbnN0IG5leHQgPSBzdGVwcy5uZXh0KG91dHB1dEVsZW1lbnQubGFzdFByb21pc2VWYWx1ZSk7CiAgcmV0dXJuIFByb21pc2UucmVzb2x2ZShuZXh0LnZhbHVlLnByb21pc2UpLnRoZW4oKHZhbHVlKSA9PiB7CiAgICAvLyBDYWNoZSB0aGUgbGFzdCBwcm9taXNlIHZhbHVlIHRvIG1ha2UgaXQgYXZhaWxhYmxlIHRvIHRoZSBuZXh0CiAgICAvLyBzdGVwIG9mIHRoZSBnZW5lcmF0b3IuCiAgICBvdXRwdXRFbGVtZW50Lmxhc3RQcm9taXNlVmFsdWUgPSB2YWx1ZTsKICAgIHJldHVybiBuZXh0LnZhbHVlLnJlc3BvbnNlOwogIH0pOwp9CgovKioKICogR2VuZXJhdG9yIGZ1bmN0aW9uIHdoaWNoIGlzIGNhbGxlZCBiZXR3ZWVuIGVhY2ggYXN5bmMgc3RlcCBvZiB0aGUgdXBsb2FkCiAqIHByb2Nlc3MuCiAqIEBwYXJhbSB7c3RyaW5nfSBpbnB1dElkIEVsZW1lbnQgSUQgb2YgdGhlIGlucHV0IGZpbGUgcGlja2VyIGVsZW1lbnQuCiAqIEBwYXJhbSB7c3RyaW5nfSBvdXRwdXRJZCBFbGVtZW50IElEIG9mIHRoZSBvdXRwdXQgZGlzcGxheS4KICogQHJldHVybiB7IUl0ZXJhYmxlPCFPYmplY3Q+fSBJdGVyYWJsZSBvZiBuZXh0IHN0ZXBzLgogKi8KZnVuY3Rpb24qIHVwbG9hZEZpbGVzU3RlcChpbnB1dElkLCBvdXRwdXRJZCkgewogIGNvbnN0IGlucHV0RWxlbWVudCA9IGRvY3VtZW50LmdldEVsZW1lbnRCeUlkKGlucHV0SWQpOwogIGlucHV0RWxlbWVudC5kaXNhYmxlZCA9IGZhbHNlOwoKICBjb25zdCBvdXRwdXRFbGVtZW50ID0gZG9jdW1lbnQuZ2V0RWxlbWVudEJ5SWQob3V0cHV0SWQpOwogIG91dHB1dEVsZW1lbnQuaW5uZXJIVE1MID0gJyc7CgogIGNvbnN0IHBpY2tlZFByb21pc2UgPSBuZXcgUHJvbWlzZSgocmVzb2x2ZSkgPT4gewogICAgaW5wdXRFbGVtZW50LmFkZEV2ZW50TGlzdGVuZXIoJ2NoYW5nZScsIChlKSA9PiB7CiAgICAgIHJlc29sdmUoZS50YXJnZXQuZmlsZXMpOwogICAgfSk7CiAgfSk7CgogIGNvbnN0IGNhbmNlbCA9IGRvY3VtZW50LmNyZWF0ZUVsZW1lbnQoJ2J1dHRvbicpOwogIGlucHV0RWxlbWVudC5wYXJlbnRFbGVtZW50LmFwcGVuZENoaWxkKGNhbmNlbCk7CiAgY2FuY2VsLnRleHRDb250ZW50ID0gJ0NhbmNlbCB1cGxvYWQnOwogIGNvbnN0IGNhbmNlbFByb21pc2UgPSBuZXcgUHJvbWlzZSgocmVzb2x2ZSkgPT4gewogICAgY2FuY2VsLm9uY2xpY2sgPSAoKSA9PiB7CiAgICAgIHJlc29sdmUobnVsbCk7CiAgICB9OwogIH0pOwoKICAvLyBXYWl0IGZvciB0aGUgdXNlciB0byBwaWNrIHRoZSBmaWxlcy4KICBjb25zdCBmaWxlcyA9IHlpZWxkIHsKICAgIHByb21pc2U6IFByb21pc2UucmFjZShbcGlja2VkUHJvbWlzZSwgY2FuY2VsUHJvbWlzZV0pLAogICAgcmVzcG9uc2U6IHsKICAgICAgYWN0aW9uOiAnc3RhcnRpbmcnLAogICAgfQogIH07CgogIGNhbmNlbC5yZW1vdmUoKTsKCiAgLy8gRGlzYWJsZSB0aGUgaW5wdXQgZWxlbWVudCBzaW5jZSBmdXJ0aGVyIHBpY2tzIGFyZSBub3QgYWxsb3dlZC4KICBpbnB1dEVsZW1lbnQuZGlzYWJsZWQgPSB0cnVlOwoKICBpZiAoIWZpbGVzKSB7CiAgICByZXR1cm4gewogICAgICByZXNwb25zZTogewogICAgICAgIGFjdGlvbjogJ2NvbXBsZXRlJywKICAgICAgfQogICAgfTsKICB9CgogIGZvciAoY29uc3QgZmlsZSBvZiBmaWxlcykgewogICAgY29uc3QgbGkgPSBkb2N1bWVudC5jcmVhdGVFbGVtZW50KCdsaScpOwogICAgbGkuYXBwZW5kKHNwYW4oZmlsZS5uYW1lLCB7Zm9udFdlaWdodDogJ2JvbGQnfSkpOwogICAgbGkuYXBwZW5kKHNwYW4oCiAgICAgICAgYCgke2ZpbGUudHlwZSB8fCAnbi9hJ30pIC0gJHtmaWxlLnNpemV9IGJ5dGVzLCBgICsKICAgICAgICBgbGFzdCBtb2RpZmllZDogJHsKICAgICAgICAgICAgZmlsZS5sYXN0TW9kaWZpZWREYXRlID8gZmlsZS5sYXN0TW9kaWZpZWREYXRlLnRvTG9jYWxlRGF0ZVN0cmluZygpIDoKICAgICAgICAgICAgICAgICAgICAgICAgICAgICAgICAgICAgJ24vYSd9IC0gYCkpOwogICAgY29uc3QgcGVyY2VudCA9IHNwYW4oJzAlIGRvbmUnKTsKICAgIGxpLmFwcGVuZENoaWxkKHBlcmNlbnQpOwoKICAgIG91dHB1dEVsZW1lbnQuYXBwZW5kQ2hpbGQobGkpOwoKICAgIGNvbnN0IGZpbGVEYXRhUHJvbWlzZSA9IG5ldyBQcm9taXNlKChyZXNvbHZlKSA9PiB7CiAgICAgIGNvbnN0IHJlYWRlciA9IG5ldyBGaWxlUmVhZGVyKCk7CiAgICAgIHJlYWRlci5vbmxvYWQgPSAoZSkgPT4gewogICAgICAgIHJlc29sdmUoZS50YXJnZXQucmVzdWx0KTsKICAgICAgfTsKICAgICAgcmVhZGVyLnJlYWRBc0FycmF5QnVmZmVyKGZpbGUpOwogICAgfSk7CiAgICAvLyBXYWl0IGZvciB0aGUgZGF0YSB0byBiZSByZWFkeS4KICAgIGxldCBmaWxlRGF0YSA9IHlpZWxkIHsKICAgICAgcHJvbWlzZTogZmlsZURhdGFQcm9taXNlLAogICAgICByZXNwb25zZTogewogICAgICAgIGFjdGlvbjogJ2NvbnRpbnVlJywKICAgICAgfQogICAgfTsKCiAgICAvLyBVc2UgYSBjaHVua2VkIHNlbmRpbmcgdG8gYXZvaWQgbWVzc2FnZSBzaXplIGxpbWl0cy4gU2VlIGIvNjIxMTU2NjAuCiAgICBsZXQgcG9zaXRpb24gPSAwOwogICAgZG8gewogICAgICBjb25zdCBsZW5ndGggPSBNYXRoLm1pbihmaWxlRGF0YS5ieXRlTGVuZ3RoIC0gcG9zaXRpb24sIE1BWF9QQVlMT0FEX1NJWkUpOwogICAgICBjb25zdCBjaHVuayA9IG5ldyBVaW50OEFycmF5KGZpbGVEYXRhLCBwb3NpdGlvbiwgbGVuZ3RoKTsKICAgICAgcG9zaXRpb24gKz0gbGVuZ3RoOwoKICAgICAgY29uc3QgYmFzZTY0ID0gYnRvYShTdHJpbmcuZnJvbUNoYXJDb2RlLmFwcGx5KG51bGwsIGNodW5rKSk7CiAgICAgIHlpZWxkIHsKICAgICAgICByZXNwb25zZTogewogICAgICAgICAgYWN0aW9uOiAnYXBwZW5kJywKICAgICAgICAgIGZpbGU6IGZpbGUubmFtZSwKICAgICAgICAgIGRhdGE6IGJhc2U2NCwKICAgICAgICB9LAogICAgICB9OwoKICAgICAgbGV0IHBlcmNlbnREb25lID0gZmlsZURhdGEuYnl0ZUxlbmd0aCA9PT0gMCA/CiAgICAgICAgICAxMDAgOgogICAgICAgICAgTWF0aC5yb3VuZCgocG9zaXRpb24gLyBmaWxlRGF0YS5ieXRlTGVuZ3RoKSAqIDEwMCk7CiAgICAgIHBlcmNlbnQudGV4dENvbnRlbnQgPSBgJHtwZXJjZW50RG9uZX0lIGRvbmVgOwoKICAgIH0gd2hpbGUgKHBvc2l0aW9uIDwgZmlsZURhdGEuYnl0ZUxlbmd0aCk7CiAgfQoKICAvLyBBbGwgZG9uZS4KICB5aWVsZCB7CiAgICByZXNwb25zZTogewogICAgICBhY3Rpb246ICdjb21wbGV0ZScsCiAgICB9CiAgfTsKfQoKc2NvcGUuZ29vZ2xlID0gc2NvcGUuZ29vZ2xlIHx8IHt9OwpzY29wZS5nb29nbGUuY29sYWIgPSBzY29wZS5nb29nbGUuY29sYWIgfHwge307CnNjb3BlLmdvb2dsZS5jb2xhYi5fZmlsZXMgPSB7CiAgX3VwbG9hZEZpbGVzLAogIF91cGxvYWRGaWxlc0NvbnRpbnVlLAp9Owp9KShzZWxmKTsK",
              "ok": true,
              "headers": [
                [
                  "content-type",
                  "application/javascript"
                ]
              ],
              "status": 200,
              "status_text": ""
            }
          },
          "base_uri": "https://localhost:8080/",
          "height": 72
        },
        "outputId": "2a91fa0e-8e57-49bd-eaf9-adaf7be90400"
      },
      "source": [
        "# Upload config.py with API keys\n",
        "from google.colab import files\n",
        "uploaded = files.upload()"
      ],
      "execution_count": null,
      "outputs": [
        {
          "output_type": "display_data",
          "data": {
            "text/html": [
              "\n",
              "     <input type=\"file\" id=\"files-7835a134-9109-486a-9f73-e573c71fa33f\" name=\"files[]\" multiple disabled\n",
              "        style=\"border:none\" />\n",
              "     <output id=\"result-7835a134-9109-486a-9f73-e573c71fa33f\">\n",
              "      Upload widget is only available when the cell has been executed in the\n",
              "      current browser session. Please rerun this cell to enable.\n",
              "      </output>\n",
              "      <script src=\"/nbextensions/google.colab/files.js\"></script> "
            ],
            "text/plain": [
              "<IPython.core.display.HTML object>"
            ]
          },
          "metadata": {
            "tags": []
          }
        },
        {
          "output_type": "stream",
          "text": [
            "Saving config.py to config.py\n"
          ],
          "name": "stdout"
        }
      ]
    },
    {
      "cell_type": "code",
      "metadata": {
        "colab": {
          "base_uri": "https://localhost:8080/"
        },
        "id": "yDCjtH-a_bt-",
        "outputId": "a7ab18ad-5be3-4f32-8910-fb91c0e11f9b"
      },
      "source": [
        "# Download dataset from Kaggle\n",
        "import os\n",
        "from config import KaggleKey\n",
        "os.environ['KAGGLE_USERNAME'] = KaggleKey.kaggle_username\n",
        "os.environ['KAGGLE_KEY'] = KaggleKey.kaggle_key\n",
        "!kaggle datasets download -d albrace/twitter-data"
      ],
      "execution_count": null,
      "outputs": [
        {
          "output_type": "stream",
          "text": [
            "Downloading twitter-data.zip to /content\n",
            " 99% 769M/780M [00:29<00:00, 23.9MB/s]\n",
            "100% 780M/780M [00:29<00:00, 27.9MB/s]\n"
          ],
          "name": "stdout"
        }
      ]
    },
    {
      "cell_type": "code",
      "metadata": {
        "colab": {
          "base_uri": "https://localhost:8080/"
        },
        "id": "9YfIj2cEAjC2",
        "outputId": "f037beb9-af23-428b-f6c6-1ed0fed9ace9"
      },
      "source": [
        "!unzip /content/twitter-data.zip -d /content/data"
      ],
      "execution_count": null,
      "outputs": [
        {
          "output_type": "stream",
          "text": [
            "Archive:  /content/twitter-data.zip\n",
            "  inflating: /content/data/2019_all_twitter_data/2019_all_twitter_data.csv  \n",
            "  inflating: /content/data/bot_df/bot_df.csv  \n",
            "  inflating: /content/data/clean_twitter_data/all_2019.csv  \n",
            "  inflating: /content/data/clean_twitter_data/all_users.csv  \n",
            "  inflating: /content/data/clean_twitter_data/pol_actor_users.csv  \n",
            "  inflating: /content/data/ge2017_cand_data/ge2017_cand_data.csv  \n",
            "  inflating: /content/data/twitter_data/all_twitter_data.csv  \n",
            "  inflating: /content/data/twitter_data/political_twitter_data.csv  \n"
          ],
          "name": "stdout"
        }
      ]
    },
    {
      "cell_type": "code",
      "metadata": {
        "id": "WzwQu4MnFh9a",
        "colab": {
          "base_uri": "https://localhost:8080/",
          "height": 183,
          "referenced_widgets": [
            "be68a6f7d86741e998c82b0c613b6c30",
            "02af55ef8bc440a6b040dbf8df2e37cd",
            "6a19d29fc972495f83860d16d7453468",
            "2bb20acf51d24af3be970374d63c45d1",
            "6be54c87015d465aa1280ce81024b61f",
            "b7764f3c8c1b4defb32a69216a3486b9",
            "18b7f6eeb3924ad48a7f419f6777c906",
            "13c4e4d853e64d629fd3f50c20708e70",
            "97d2c336b59c497cab9fe1d68c8f066c",
            "895cc5ad21974991bf53e1233c53dc52",
            "37d3fc0bf2804588bd2c4d7005387fee",
            "f9fba04b6775469588b9cffd8b6e943a",
            "462af0a26c694b01863eafd2b5e3a39f",
            "8fa3df4e915c4b38847b9b32efb50cfb",
            "1e5a9cac823649ef96c4d2a865893519",
            "3174b9e57a434522945d31cbd9252a67"
          ]
        },
        "outputId": "c2611ca7-b3f9-410e-ae36-defc7c09ff23"
      },
      "source": [
        "# Import libaries \n",
        "import string\n",
        "import pandas as pd\n",
        "import matplotlib.pyplot as plt\n",
        "import seaborn as sns\n",
        "import re\n",
        "import numpy as np\n",
        "\n",
        "import nltk\n",
        "nltk.download('stopwords')\n",
        "from nltk.tokenize import TweetTokenizer\n",
        "from nltk.corpus import stopwords\n",
        "\n",
        "import stanza\n",
        "stanza.download('en')\n",
        "\n",
        "sns.set_style('whitegrid')"
      ],
      "execution_count": null,
      "outputs": [
        {
          "output_type": "stream",
          "text": [
            "[nltk_data] Downloading package stopwords to /root/nltk_data...\n",
            "[nltk_data]   Unzipping corpora/stopwords.zip.\n"
          ],
          "name": "stdout"
        },
        {
          "output_type": "display_data",
          "data": {
            "application/vnd.jupyter.widget-view+json": {
              "model_id": "be68a6f7d86741e998c82b0c613b6c30",
              "version_minor": 0,
              "version_major": 2
            },
            "text/plain": [
              "HBox(children=(FloatProgress(value=0.0, description='Downloading https://raw.githubusercontent.com/stanfordnlp…"
            ]
          },
          "metadata": {
            "tags": []
          }
        },
        {
          "output_type": "stream",
          "text": [
            "2021-07-27 12:35:08 INFO: Downloading default packages for language: en (English)...\n"
          ],
          "name": "stderr"
        },
        {
          "output_type": "stream",
          "text": [
            "\n"
          ],
          "name": "stdout"
        },
        {
          "output_type": "display_data",
          "data": {
            "application/vnd.jupyter.widget-view+json": {
              "model_id": "97d2c336b59c497cab9fe1d68c8f066c",
              "version_minor": 0,
              "version_major": 2
            },
            "text/plain": [
              "HBox(children=(FloatProgress(value=0.0, description='Downloading http://nlp.stanford.edu/software/stanza/1.2.2…"
            ]
          },
          "metadata": {
            "tags": []
          }
        },
        {
          "output_type": "stream",
          "text": [
            "\n"
          ],
          "name": "stdout"
        },
        {
          "output_type": "stream",
          "text": [
            "2021-07-27 12:36:31 INFO: Finished downloading models and saved to /root/stanza_resources.\n"
          ],
          "name": "stderr"
        }
      ]
    },
    {
      "cell_type": "code",
      "metadata": {
        "id": "edJCcPTO0cr8",
        "colab": {
          "base_uri": "https://localhost:8080/"
        },
        "outputId": "fbfd77c9-0f7e-4a38-cffd-363e751fc067"
      },
      "source": [
        "# Initialize stanza pipeline for sentiment analysis  \n",
        "nlp = stanza.Pipeline('en', processors='tokenize,sentiment')"
      ],
      "execution_count": null,
      "outputs": [
        {
          "output_type": "stream",
          "text": [
            "2021-07-27 12:38:32 INFO: Loading these models for language: en (English):\n",
            "========================\n",
            "| Processor | Package  |\n",
            "------------------------\n",
            "| tokenize  | combined |\n",
            "| sentiment | sstplus  |\n",
            "========================\n",
            "\n",
            "2021-07-27 12:38:32 INFO: Use device: cpu\n",
            "2021-07-27 12:38:32 INFO: Loading: tokenize\n",
            "2021-07-27 12:38:33 INFO: Loading: sentiment\n",
            "2021-07-27 12:38:33 INFO: Done loading processors!\n"
          ],
          "name": "stderr"
        }
      ]
    },
    {
      "cell_type": "code",
      "metadata": {
        "id": "-aDaGrvDPe7V"
      },
      "source": [
        "# Read csv files to Pandas DataFrame\n",
        "all_2019_df = pd.read_csv('/content/data/2019_all_twitter_data/2019_all_twitter_data.csv', encoding='cp1252')\n",
        "score_df = pd.read_csv('/content/botscores.txt', delimiter=',', header=None)\n",
        "score_df.columns = ['score', 'user']"
      ],
      "execution_count": null,
      "outputs": []
    },
    {
      "cell_type": "code",
      "metadata": {
        "id": "_S0v9AFkPNli",
        "colab": {
          "base_uri": "https://localhost:8080/",
          "height": 624
        },
        "outputId": "5f22fadd-3fa5-4976-eb98-a8a5fc1e9597"
      },
      "source": [
        "fig, ax = plt.subplots(figsize=(14,10))\n",
        "sns.histplot(data=score_df, kde=True)\n",
        "ax.set_title('Distribution of Bot Scores')"
      ],
      "execution_count": null,
      "outputs": [
        {
          "output_type": "execute_result",
          "data": {
            "text/plain": [
              "Text(0.5, 1.0, 'Distribution of Bot Scores')"
            ]
          },
          "metadata": {
            "tags": []
          },
          "execution_count": 33
        },
        {
          "output_type": "display_data",
          "data": {
            "image/png": "[encoded data removed]",
            "text/plain": [
              "<Figure size 1008x720 with 1 Axes>"
            ]
          },
          "metadata": {
            "tags": []
          }
        }
      ]
    },
    {
      "cell_type": "code",
      "metadata": {
        "id": "hxRNMMT-K4US"
      },
      "source": [
        "# Merge Twitter data with bot scores and creates an bot and human dataframe\n",
        "all_2019_df = pd.merge(left=score_df, right=all_2019_df, left_on='user', right_on='quotedTweet_username')\n",
        "all_2019_df = all_2019_df.drop(columns=['user'])\n",
        "bot_df = all_2019_df[~(all_2019_df['score'] < 0.87)]\n",
        "human_df = all_2019_df[~(all_2019_df['score'] > 0.5)]"
      ],
      "execution_count": null,
      "outputs": []
    },
    {
      "cell_type": "code",
      "metadata": {
        "id": "uLmmmx3jMWcd",
        "colab": {
          "base_uri": "https://localhost:8080/"
        },
        "outputId": "dcbe9c4e-68ee-44cf-9730-854c962dedac"
      },
      "source": [
        "# Number of bots in data\n",
        "len(bot_df['quotedTweet_username'].unique())"
      ],
      "execution_count": null,
      "outputs": [
        {
          "output_type": "execute_result",
          "data": {
            "text/plain": [
              "615"
            ]
          },
          "metadata": {
            "tags": []
          },
          "execution_count": 96
        }
      ]
    },
    {
      "cell_type": "code",
      "metadata": {
        "id": "-fL-mpuXPm8r"
      },
      "source": [
        "# Removes time from date column and converts from string to datetime type\n",
        "bot_df['tweet_date'] = bot_df['tweet_date'].map(lambda x: str(x)[:-15])\n",
        "bot_df['tweet_date'] = pd.to_datetime(bot_df['tweet_date'])\n",
        "bot_df = bot_df[~(bot_df['tweet_date'] < '2019-11-06')]\n",
        "\n",
        "human_df['tweet_date'] = human_df['tweet_date'].map(lambda x: str(x)[:-15])\n",
        "human_df['tweet_date'] = pd.to_datetime(human_df['tweet_date'])\n",
        "human_df = human_df[~(human_df['tweet_date'] < '2019-11-06')]"
      ],
      "execution_count": null,
      "outputs": []
    },
    {
      "cell_type": "code",
      "metadata": {
        "id": "sU_Edqx_IdOI"
      },
      "source": [
        "punc = list(string.punctuation)\n",
        "stop = stopwords.words('english') + punc + ['rt', 'via']\n",
        "\n",
        "tt = TweetTokenizer()"
      ],
      "execution_count": null,
      "outputs": []
    },
    {
      "cell_type": "code",
      "metadata": {
        "id": "Ig9ljM4uG2DU"
      },
      "source": [
        "def hashtag_extract(s):\n",
        "  '''\n",
        "  Function which uses an regular expression to find hashtags in an tweet and return them as an list\n",
        "  :param s (string): String of an tweet\n",
        "  :return hashtags (list): list of hashtags\n",
        "  '''\n",
        "  hashtags = []\n",
        "  for i in s:\n",
        "    ht = re.findall(r\"#(\\w+)\", i)\n",
        "    hashtags.append(ht)\n",
        "  return hashtags"
      ],
      "execution_count": null,
      "outputs": []
    },
    {
      "cell_type": "code",
      "metadata": {
        "id": "_EbrAagkVnir"
      },
      "source": [
        "def fix_encode(df):\n",
        "  '''\n",
        "  Function to remove trailing characters from encode error when collecting data\n",
        "  :param df (DataFrame): \n",
        "  :return df (DataFrame):\n",
        "  '''\n",
        "  df['tweet_content'] = df['tweet_content'].str.replace('&amp', '&')\n",
        "  df['tweet_content'] = df['tweet_content'].str.replace('b\"', '')\n",
        "  df['tweet_content'] = df['tweet_content'].str.replace(\"b'\", '')\n",
        "  return df"
      ],
      "execution_count": null,
      "outputs": []
    },
    {
      "cell_type": "code",
      "metadata": {
        "id": "XnmLFk4iXMUH"
      },
      "source": [
        "def join_punct(s):\n",
        "  '''\n",
        "  Removes punctuation from string\n",
        "  :param s (string): String with punctuation\n",
        "  :return s (string): String with puncutaion removed\n",
        "  '''\n",
        "    return ''.join(ch for ch in s if ch not in punc)"
      ],
      "execution_count": null,
      "outputs": []
    },
    {
      "cell_type": "code",
      "metadata": {
        "id": "RrFtCL-uXQ2z"
      },
      "source": [
        "def remove_emoji(s):\n",
        "  '''\n",
        "  Removes unicode characters (emojis) from string\n",
        "  '''\n",
        "    emoji_pattern = re.compile(\n",
        "        r'(\\u00a9|\\u00ae|[\\u2000-\\u3300]|\\ud83c[\\ud000-\\udfff]|\\ud83d[\\ud000-\\udfff]|\\ud83e[\\ud000-\\udfff]|(?:\\U0001f92d))',\n",
        "        re.UNICODE)\n",
        "    return emoji_pattern.sub(r'', s)"
      ],
      "execution_count": null,
      "outputs": []
    },
    {
      "cell_type": "code",
      "metadata": {
        "id": "ybLgI-oXXScx"
      },
      "source": [
        "def remove_url(s):\n",
        "  '''\n",
        "  Removes URL from string\n",
        "  '''\n",
        "    url_pattern = re.compile(r'https?://\\S+|www\\.\\S+')\n",
        "    no_url = url_pattern.sub(r'', s)\n",
        "    return no_url"
      ],
      "execution_count": null,
      "outputs": []
    },
    {
      "cell_type": "code",
      "metadata": {
        "id": "J24meGnIJ5UA"
      },
      "source": [
        "def clean_tweet(s):\n",
        "  '''\n",
        "  Function which tokenizes tweet, removes punctuation, url, emoji and stopwords and converts tweet to same case (lower) \n",
        "  :param s (string): \n",
        "  :return clean_tweets (list): token list from s\n",
        "  '''\n",
        "  clean_tweets = []\n",
        "  for i in s:\n",
        "    tweet_token = tt.tokenize(join_punct(remove_emoji(remove_url(i.lower()))))\n",
        "    no_stop_words = [token for token in tweet_token if not token in stop]\n",
        "    clean_tweets.append(no_stop_words)\n",
        "  return clean_tweets"
      ],
      "execution_count": null,
      "outputs": []
    },
    {
      "cell_type": "code",
      "metadata": {
        "id": "nmMaYqSWFMms"
      },
      "source": [
        "def preprocessing_user(df):\n",
        "  '''\n",
        "  Cleans user columns in dataframe. When collecting data an User object is collected. We only need the user name so this is filtered here\n",
        "  For more information on twitter user objects see below\n",
        "  https://developer.twitter.com/en/docs/twitter-api/v1/data-dictionary/object-model/user\n",
        "  '''\n",
        "\n",
        "  df['mentioned_users']=df['mentioned_users'].fillna(\"\")\n",
        "  mentioned_user = []\n",
        "  for i, user in enumerate(df['mentioned_users']):\n",
        "    usernames = user.split(\"username='\")\n",
        "    username_list = []\n",
        "    for username in usernames:\n",
        "      username_list.append(re.findall(\"^(.+?)'\", username))\n",
        "    mentioned_user.append(username_list[1:])\n",
        "  df = df.drop(columns=['mentioned_users'])\n",
        "  df['mentioned_users'] = mentioned_user\n",
        "  df['mentioned_users'] = df['mentioned_users'].apply(lambda x: np.nan if len(x)==0 else x)\n",
        "\n",
        "  df['quotedTweet_mentionedUsers']=df['quotedTweet_mentionedUsers'].fillna(\"\")\n",
        "  mentioned_user = []\n",
        "  for i, user in enumerate(df['quotedTweet_mentionedUsers']):\n",
        "    usernames = user.split(\"username='\")\n",
        "    username_list = []\n",
        "    for username in usernames:\n",
        "      username_list.append(re.findall(\"^(.+?)'\", username))\n",
        "    mentioned_user.append(username_list[1:])\n",
        "  df = df.drop(columns=['quotedTweet_mentionedUsers'])\n",
        "  df['quotedTweet_mentionedUsers'] = mentioned_user\n",
        "  df['quotedTweet_mentionedUsers'] = df['quotedTweet_mentionedUsers'].apply(lambda x: np.nan if len(x)==0 else x)\n",
        "\n",
        "  return df"
      ],
      "execution_count": null,
      "outputs": []
    },
    {
      "cell_type": "code",
      "metadata": {
        "id": "ys47Gh94KZCh"
      },
      "source": [
        "def clean_sentiment(s):\n",
        "  '''\n",
        "  Cleans tweet for sentiment analysis\n",
        "  '''\n",
        "  clean_tweets = []\n",
        "  for i in s:\n",
        "    x = join_punct(remove_url(i.lower()))\n",
        "    clean_tweets.append(x)\n",
        "  return clean_tweets"
      ],
      "execution_count": null,
      "outputs": []
    },
    {
      "cell_type": "code",
      "metadata": {
        "id": "DgaVZCLFMGyF"
      },
      "source": [
        "def sentiment(df, col):\n",
        "  '''\n",
        "  Performs sentiment anlysis on column\n",
        "  :param df (DataFrame): Dataframe which contains data\n",
        "  :param col (String): Name of the column of the dataframe which needs to be analysised\n",
        "  :return dataframe (DataFrame): Dataframe of 2 columns - sentiment and text\n",
        "  '''\n",
        "  rows = []\n",
        "  for tweet in df[col]:\n",
        "    doc = nlp(tweet)\n",
        "    for sentence in doc.sentences:\n",
        "      row={\n",
        "          'text_'+col: sentence.text,\n",
        "          'sentiment_'+col: sentence.sentiment\n",
        "      }\n",
        "    rows.append(row)\n",
        "  return pd.DataFrame(rows)"
      ],
      "execution_count": null,
      "outputs": []
    },
    {
      "cell_type": "code",
      "metadata": {
        "id": "4b0FV5zf_Lw1"
      },
      "source": [
        "# Calls functions on human dataset\n",
        "human_df = fix_encode(human_df)\n",
        "human_df['hashtags'] = hashtag_extract(human_df['tweet_content'])\n",
        "human_df['quoted_hashtags'] = hashtag_extract(human_df['quotedTweet_content'])\n",
        "human_df['clean_tweet_content'] = clean_tweet(human_df['tweet_content'])\n",
        "human_df['clean_quotedTweet_content'] = clean_tweet(human_df['quotedTweet_content'])\n",
        "human_df = preprocessing_user(human_df)"
      ],
      "execution_count": null,
      "outputs": []
    },
    {
      "cell_type": "code",
      "metadata": {
        "id": "q_gKI71aVb8m"
      },
      "source": [
        "# Calls functions on bot dataset\n",
        "bot_df = fix_encode(bot_df)\n",
        "bot_df['hashtags'] = hashtag_extract(bot_df['tweet_content'])\n",
        "bot_df['quoted_hashtags'] = hashtag_extract(bot_df['quotedTweet_content'])\n",
        "bot_df['clean_tweet_content'] = clean_tweet(bot_df['tweet_content'])\n",
        "bot_df['clean_quotedTweet_content'] = clean_tweet(bot_df['quotedTweet_content'])\n",
        "bot_df = preprocessing_user(bot_df)\n",
        "bot_df['clean_sentiment_content'] = clean_sentiment(bot_df['tweet_content'])\n",
        "bot_df['clean_sentiment_quoted'] = clean_sentiment(bot_df['quotedTweet_content'])\n",
        "sentiment_2019_df = sentiment(bot_df, 'clean_sentiment_content')\n",
        "all_2019_sent_df=sentiment_2019_df.merge(right=bot_df, left_on='text_clean_sentiment_content', right_on='clean_sentiment_content')\n",
        "sentiment_2019_quoted_df = sentiment(bot_df, 'clean_sentiment_quoted')\n",
        "final_df=sentiment_2019_quoted_df.merge(right=all_2019_sent_df, left_on='text_clean_sentiment_quoted', right_on='clean_sentiment_quoted')\n",
        "final_df = final_df.drop(columns=['text_clean_sentiment_quoted', 'text_clean_sentiment_content', 'clean_sentiment_content', 'clean_sentiment_quoted'])"
      ],
      "execution_count": null,
      "outputs": []
    },
    {
      "cell_type": "code",
      "metadata": {
        "id": "j4ax6DY4Xx7N"
      },
      "source": [
        "!mkdir output"
      ],
      "execution_count": null,
      "outputs": []
    },
    {
      "cell_type": "code",
      "metadata": {
        "id": "wWGaE2whrOct"
      },
      "source": [
        "human_df.to_csv('output/human_df.csv')\n",
        "bot_df.to_csv('output/final_df.csv')"
      ],
      "execution_count": null,
      "outputs": []
    },
    {
      "cell_type": "code",
      "metadata": {
        "id": "btCuBj3YY9Y8"
      },
      "source": [
        "!zip -r /content/output.zip /content/output"
      ],
      "execution_count": null,
      "outputs": []
    }
  ]
}