{
  "nbformat": 4,
  "nbformat_minor": 0,
  "metadata": {
    "colab": {
      "name": "Untitled8.ipynb",
      "provenance": []
    },
    "kernelspec": {
      "name": "python3",
      "display_name": "Python 3"
    },
    "language_info": {
      "name": "python"
    },
    "widgets": {
      "application/vnd.jupyter.widget-state+json": {
        "11138d4dfc9d41f0955d60fbcc94b125": {
          "model_module": "@jupyter-widgets/controls",
          "model_name": "HBoxModel",
          "state": {
            "_view_name": "HBoxView",
            "_dom_classes": [],
            "_model_name": "HBoxModel",
            "_view_module": "@jupyter-widgets/controls",
            "_model_module_version": "1.5.0",
            "_view_count": null,
            "_view_module_version": "1.5.0",
            "box_style": "",
            "layout": "IPY_MODEL_f15bcc0bdb354e7993a13830d1e82f9b",
            "_model_module": "@jupyter-widgets/controls",
            "children": [
              "IPY_MODEL_02c367bfc25748cab0ae47216df87acf",
              "IPY_MODEL_7a4d85dbd3e949deb72e8535de0af40d"
            ]
          }
        },
        "f15bcc0bdb354e7993a13830d1e82f9b": {
          "model_module": "@jupyter-widgets/base",
          "model_name": "LayoutModel",
          "state": {
            "_view_name": "LayoutView",
            "grid_template_rows": null,
            "right": null,
            "justify_content": null,
            "_view_module": "@jupyter-widgets/base",
            "overflow": null,
            "_model_module_version": "1.2.0",
            "_view_count": null,
            "flex_flow": null,
            "width": null,
            "min_width": null,
            "border": null,
            "align_items": null,
            "bottom": null,
            "_model_module": "@jupyter-widgets/base",
            "top": null,
            "grid_column": null,
            "overflow_y": null,
            "overflow_x": null,
            "grid_auto_flow": null,
            "grid_area": null,
            "grid_template_columns": null,
            "flex": null,
            "_model_name": "LayoutModel",
            "justify_items": null,
            "grid_row": null,
            "max_height": null,
            "align_content": null,
            "visibility": null,
            "align_self": null,
            "height": null,
            "min_height": null,
            "padding": null,
            "grid_auto_rows": null,
            "grid_gap": null,
            "max_width": null,
            "order": null,
            "_view_module_version": "1.2.0",
            "grid_template_areas": null,
            "object_position": null,
            "object_fit": null,
            "grid_auto_columns": null,
            "margin": null,
            "display": null,
            "left": null
          }
        },
        "02c367bfc25748cab0ae47216df87acf": {
          "model_module": "@jupyter-widgets/controls",
          "model_name": "FloatProgressModel",
          "state": {
            "_view_name": "ProgressView",
            "style": "IPY_MODEL_8213fce6cc4e445baca7e3dd69ab92b2",
            "_dom_classes": [],
            "description": "Downloading https://raw.githubusercontent.com/stanfordnlp/stanza-resources/main/resources_1.2.2.json: ",
            "_model_name": "FloatProgressModel",
            "bar_style": "success",
            "max": 23856,
            "_view_module": "@jupyter-widgets/controls",
            "_model_module_version": "1.5.0",
            "value": 23856,
            "_view_count": null,
            "_view_module_version": "1.5.0",
            "orientation": "horizontal",
            "min": 0,
            "description_tooltip": null,
            "_model_module": "@jupyter-widgets/controls",
            "layout": "IPY_MODEL_fa04f023c05743b2997ea49f5e15080d"
          }
        },
        "7a4d85dbd3e949deb72e8535de0af40d": {
          "model_module": "@jupyter-widgets/controls",
          "model_name": "HTMLModel",
          "state": {
            "_view_name": "HTMLView",
            "style": "IPY_MODEL_aee604822751417582e962df66e57bf3",
            "_dom_classes": [],
            "description": "",
            "_model_name": "HTMLModel",
            "placeholder": "​",
            "_view_module": "@jupyter-widgets/controls",
            "_model_module_version": "1.5.0",
            "value": " 139k/? [00:00&lt;00:00, 2.57MB/s]",
            "_view_count": null,
            "_view_module_version": "1.5.0",
            "description_tooltip": null,
            "_model_module": "@jupyter-widgets/controls",
            "layout": "IPY_MODEL_caa8222ae1b548d2a0b7b1c834995643"
          }
        },
        "8213fce6cc4e445baca7e3dd69ab92b2": {
          "model_module": "@jupyter-widgets/controls",
          "model_name": "ProgressStyleModel",
          "state": {
            "_view_name": "StyleView",
            "_model_name": "ProgressStyleModel",
            "description_width": "initial",
            "_view_module": "@jupyter-widgets/base",
            "_model_module_version": "1.5.0",
            "_view_count": null,
            "_view_module_version": "1.2.0",
            "bar_color": null,
            "_model_module": "@jupyter-widgets/controls"
          }
        },
        "fa04f023c05743b2997ea49f5e15080d": {
          "model_module": "@jupyter-widgets/base",
          "model_name": "LayoutModel",
          "state": {
            "_view_name": "LayoutView",
            "grid_template_rows": null,
            "right": null,
            "justify_content": null,
            "_view_module": "@jupyter-widgets/base",
            "overflow": null,
            "_model_module_version": "1.2.0",
            "_view_count": null,
            "flex_flow": null,
            "width": null,
            "min_width": null,
            "border": null,
            "align_items": null,
            "bottom": null,
            "_model_module": "@jupyter-widgets/base",
            "top": null,
            "grid_column": null,
            "overflow_y": null,
            "overflow_x": null,
            "grid_auto_flow": null,
            "grid_area": null,
            "grid_template_columns": null,
            "flex": null,
            "_model_name": "LayoutModel",
            "justify_items": null,
            "grid_row": null,
            "max_height": null,
            "align_content": null,
            "visibility": null,
            "align_self": null,
            "height": null,
            "min_height": null,
            "padding": null,
            "grid_auto_rows": null,
            "grid_gap": null,
            "max_width": null,
            "order": null,
            "_view_module_version": "1.2.0",
            "grid_template_areas": null,
            "object_position": null,
            "object_fit": null,
            "grid_auto_columns": null,
            "margin": null,
            "display": null,
            "left": null
          }
        },
        "aee604822751417582e962df66e57bf3": {
          "model_module": "@jupyter-widgets/controls",
          "model_name": "DescriptionStyleModel",
          "state": {
            "_view_name": "StyleView",
            "_model_name": "DescriptionStyleModel",
            "description_width": "",
            "_view_module": "@jupyter-widgets/base",
            "_model_module_version": "1.5.0",
            "_view_count": null,
            "_view_module_version": "1.2.0",
            "_model_module": "@jupyter-widgets/controls"
          }
        },
        "caa8222ae1b548d2a0b7b1c834995643": {
          "model_module": "@jupyter-widgets/base",
          "model_name": "LayoutModel",
          "state": {
            "_view_name": "LayoutView",
            "grid_template_rows": null,
            "right": null,
            "justify_content": null,
            "_view_module": "@jupyter-widgets/base",
            "overflow": null,
            "_model_module_version": "1.2.0",
            "_view_count": null,
            "flex_flow": null,
            "width": null,
            "min_width": null,
            "border": null,
            "align_items": null,
            "bottom": null,
            "_model_module": "@jupyter-widgets/base",
            "top": null,
            "grid_column": null,
            "overflow_y": null,
            "overflow_x": null,
            "grid_auto_flow": null,
            "grid_area": null,
            "grid_template_columns": null,
            "flex": null,
            "_model_name": "LayoutModel",
            "justify_items": null,
            "grid_row": null,
            "max_height": null,
            "align_content": null,
            "visibility": null,
            "align_self": null,
            "height": null,
            "min_height": null,
            "padding": null,
            "grid_auto_rows": null,
            "grid_gap": null,
            "max_width": null,
            "order": null,
            "_view_module_version": "1.2.0",
            "grid_template_areas": null,
            "object_position": null,
            "object_fit": null,
            "grid_auto_columns": null,
            "margin": null,
            "display": null,
            "left": null
          }
        },
        "1fca8a71dba24ffabebb890e441c47d4": {
          "model_module": "@jupyter-widgets/controls",
          "model_name": "HBoxModel",
          "state": {
            "_view_name": "HBoxView",
            "_dom_classes": [],
            "_model_name": "HBoxModel",
            "_view_module": "@jupyter-widgets/controls",
            "_model_module_version": "1.5.0",
            "_view_count": null,
            "_view_module_version": "1.5.0",
            "box_style": "",
            "layout": "IPY_MODEL_27ce62422a3b4b9baa4134ef5f0f1319",
            "_model_module": "@jupyter-widgets/controls",
            "children": [
              "IPY_MODEL_8d4f22e4fbab44b7bf83ad14e52068f2",
              "IPY_MODEL_abd192e27c044c9fbbdf74f5715685ef"
            ]
          }
        },
        "27ce62422a3b4b9baa4134ef5f0f1319": {
          "model_module": "@jupyter-widgets/base",
          "model_name": "LayoutModel",
          "state": {
            "_view_name": "LayoutView",
            "grid_template_rows": null,
            "right": null,
            "justify_content": null,
            "_view_module": "@jupyter-widgets/base",
            "overflow": null,
            "_model_module_version": "1.2.0",
            "_view_count": null,
            "flex_flow": null,
            "width": null,
            "min_width": null,
            "border": null,
            "align_items": null,
            "bottom": null,
            "_model_module": "@jupyter-widgets/base",
            "top": null,
            "grid_column": null,
            "overflow_y": null,
            "overflow_x": null,
            "grid_auto_flow": null,
            "grid_area": null,
            "grid_template_columns": null,
            "flex": null,
            "_model_name": "LayoutModel",
            "justify_items": null,
            "grid_row": null,
            "max_height": null,
            "align_content": null,
            "visibility": null,
            "align_self": null,
            "height": null,
            "min_height": null,
            "padding": null,
            "grid_auto_rows": null,
            "grid_gap": null,
            "max_width": null,
            "order": null,
            "_view_module_version": "1.2.0",
            "grid_template_areas": null,
            "object_position": null,
            "object_fit": null,
            "grid_auto_columns": null,
            "margin": null,
            "display": null,
            "left": null
          }
        },
        "8d4f22e4fbab44b7bf83ad14e52068f2": {
          "model_module": "@jupyter-widgets/controls",
          "model_name": "FloatProgressModel",
          "state": {
            "_view_name": "ProgressView",
            "style": "IPY_MODEL_f2c8bdfbe1e64fbcbd07c70b88936d24",
            "_dom_classes": [],
            "description": "Downloading http://nlp.stanford.edu/software/stanza/1.2.2/en/default.zip: 100%",
            "_model_name": "FloatProgressModel",
            "bar_style": "success",
            "max": 411784510,
            "_view_module": "@jupyter-widgets/controls",
            "_model_module_version": "1.5.0",
            "value": 411784510,
            "_view_count": null,
            "_view_module_version": "1.5.0",
            "orientation": "horizontal",
            "min": 0,
            "description_tooltip": null,
            "_model_module": "@jupyter-widgets/controls",
            "layout": "IPY_MODEL_d93f093359354a059c209b8168d44573"
          }
        },
        "abd192e27c044c9fbbdf74f5715685ef": {
          "model_module": "@jupyter-widgets/controls",
          "model_name": "HTMLModel",
          "state": {
            "_view_name": "HTMLView",
            "style": "IPY_MODEL_f7e1e768ae664bd586591cd1f649c258",
            "_dom_classes": [],
            "description": "",
            "_model_name": "HTMLModel",
            "placeholder": "​",
            "_view_module": "@jupyter-widgets/controls",
            "_model_module_version": "1.5.0",
            "value": " 412M/412M [01:58&lt;00:00, 3.47MB/s]",
            "_view_count": null,
            "_view_module_version": "1.5.0",
            "description_tooltip": null,
            "_model_module": "@jupyter-widgets/controls",
            "layout": "IPY_MODEL_28567cb82ba5467985e68efb2fa7e1f3"
          }
        },
        "f2c8bdfbe1e64fbcbd07c70b88936d24": {
          "model_module": "@jupyter-widgets/controls",
          "model_name": "ProgressStyleModel",
          "state": {
            "_view_name": "StyleView",
            "_model_name": "ProgressStyleModel",
            "description_width": "initial",
            "_view_module": "@jupyter-widgets/base",
            "_model_module_version": "1.5.0",
            "_view_count": null,
            "_view_module_version": "1.2.0",
            "bar_color": null,
            "_model_module": "@jupyter-widgets/controls"
          }
        },
        "d93f093359354a059c209b8168d44573": {
          "model_module": "@jupyter-widgets/base",
          "model_name": "LayoutModel",
          "state": {
            "_view_name": "LayoutView",
            "grid_template_rows": null,
            "right": null,
            "justify_content": null,
            "_view_module": "@jupyter-widgets/base",
            "overflow": null,
            "_model_module_version": "1.2.0",
            "_view_count": null,
            "flex_flow": null,
            "width": null,
            "min_width": null,
            "border": null,
            "align_items": null,
            "bottom": null,
            "_model_module": "@jupyter-widgets/base",
            "top": null,
            "grid_column": null,
            "overflow_y": null,
            "overflow_x": null,
            "grid_auto_flow": null,
            "grid_area": null,
            "grid_template_columns": null,
            "flex": null,
            "_model_name": "LayoutModel",
            "justify_items": null,
            "grid_row": null,
            "max_height": null,
            "align_content": null,
            "visibility": null,
            "align_self": null,
            "height": null,
            "min_height": null,
            "padding": null,
            "grid_auto_rows": null,
            "grid_gap": null,
            "max_width": null,
            "order": null,
            "_view_module_version": "1.2.0",
            "grid_template_areas": null,
            "object_position": null,
            "object_fit": null,
            "grid_auto_columns": null,
            "margin": null,
            "display": null,
            "left": null
          }
        },
        "f7e1e768ae664bd586591cd1f649c258": {
          "model_module": "@jupyter-widgets/controls",
          "model_name": "DescriptionStyleModel",
          "state": {
            "_view_name": "StyleView",
            "_model_name": "DescriptionStyleModel",
            "description_width": "",
            "_view_module": "@jupyter-widgets/base",
            "_model_module_version": "1.5.0",
            "_view_count": null,
            "_view_module_version": "1.2.0",
            "_model_module": "@jupyter-widgets/controls"
          }
        },
        "28567cb82ba5467985e68efb2fa7e1f3": {
          "model_module": "@jupyter-widgets/base",
          "model_name": "LayoutModel",
          "state": {
            "_view_name": "LayoutView",
            "grid_template_rows": null,
            "right": null,
            "justify_content": null,
            "_view_module": "@jupyter-widgets/base",
            "overflow": null,
            "_model_module_version": "1.2.0",
            "_view_count": null,
            "flex_flow": null,
            "width": null,
            "min_width": null,
            "border": null,
            "align_items": null,
            "bottom": null,
            "_model_module": "@jupyter-widgets/base",
            "top": null,
            "grid_column": null,
            "overflow_y": null,
            "overflow_x": null,
            "grid_auto_flow": null,
            "grid_area": null,
            "grid_template_columns": null,
            "flex": null,
            "_model_name": "LayoutModel",
            "justify_items": null,
            "grid_row": null,
            "max_height": null,
            "align_content": null,
            "visibility": null,
            "align_self": null,
            "height": null,
            "min_height": null,
            "padding": null,
            "grid_auto_rows": null,
            "grid_gap": null,
            "max_width": null,
            "order": null,
            "_view_module_version": "1.2.0",
            "grid_template_areas": null,
            "object_position": null,
            "object_fit": null,
            "grid_auto_columns": null,
            "margin": null,
            "display": null,
            "left": null
          }
        }
      }
    }
  },
  "cells": [
    {
      "cell_type": "code",
      "metadata": {
        "id": "fkY1GUum0Un1",
        "colab": {
          "base_uri": "https://localhost:8080/"
        },
        "outputId": "dc89def6-aead-42e9-8fb2-74efe495eabd"
      },
      "source": [
        "!pip install stanza"
      ],
      "execution_count": 1,
      "outputs": [
        {
          "output_type": "stream",
          "text": [
            "Collecting stanza\n",
            "  Downloading stanza-1.2.2-py3-none-any.whl (337 kB)\n",
            "\u001b[?25l\r\u001b[K     |█                               | 10 kB 17.4 MB/s eta 0:00:01\r\u001b[K     |██                              | 20 kB 22.9 MB/s eta 0:00:01\r\u001b[K     |███                             | 30 kB 19.0 MB/s eta 0:00:01\r\u001b[K     |███▉                            | 40 kB 13.2 MB/s eta 0:00:01\r\u001b[K     |████▉                           | 51 kB 5.4 MB/s eta 0:00:01\r\u001b[K     |█████▉                          | 61 kB 5.4 MB/s eta 0:00:01\r\u001b[K     |██████▉                         | 71 kB 5.8 MB/s eta 0:00:01\r\u001b[K     |███████▊                        | 81 kB 6.1 MB/s eta 0:00:01\r\u001b[K     |████████▊                       | 92 kB 6.1 MB/s eta 0:00:01\r\u001b[K     |█████████▊                      | 102 kB 6.0 MB/s eta 0:00:01\r\u001b[K     |██████████▊                     | 112 kB 6.0 MB/s eta 0:00:01\r\u001b[K     |███████████▋                    | 122 kB 6.0 MB/s eta 0:00:01\r\u001b[K     |████████████▋                   | 133 kB 6.0 MB/s eta 0:00:01\r\u001b[K     |█████████████▋                  | 143 kB 6.0 MB/s eta 0:00:01\r\u001b[K     |██████████████▌                 | 153 kB 6.0 MB/s eta 0:00:01\r\u001b[K     |███████████████▌                | 163 kB 6.0 MB/s eta 0:00:01\r\u001b[K     |████████████████▌               | 174 kB 6.0 MB/s eta 0:00:01\r\u001b[K     |█████████████████▌              | 184 kB 6.0 MB/s eta 0:00:01\r\u001b[K     |██████████████████▍             | 194 kB 6.0 MB/s eta 0:00:01\r\u001b[K     |███████████████████▍            | 204 kB 6.0 MB/s eta 0:00:01\r\u001b[K     |████████████████████▍           | 215 kB 6.0 MB/s eta 0:00:01\r\u001b[K     |█████████████████████▍          | 225 kB 6.0 MB/s eta 0:00:01\r\u001b[K     |██████████████████████▎         | 235 kB 6.0 MB/s eta 0:00:01\r\u001b[K     |███████████████████████▎        | 245 kB 6.0 MB/s eta 0:00:01\r\u001b[K     |████████████████████████▎       | 256 kB 6.0 MB/s eta 0:00:01\r\u001b[K     |█████████████████████████▏      | 266 kB 6.0 MB/s eta 0:00:01\r\u001b[K     |██████████████████████████▏     | 276 kB 6.0 MB/s eta 0:00:01\r\u001b[K     |███████████████████████████▏    | 286 kB 6.0 MB/s eta 0:00:01\r\u001b[K     |████████████████████████████▏   | 296 kB 6.0 MB/s eta 0:00:01\r\u001b[K     |█████████████████████████████   | 307 kB 6.0 MB/s eta 0:00:01\r\u001b[K     |██████████████████████████████  | 317 kB 6.0 MB/s eta 0:00:01\r\u001b[K     |███████████████████████████████ | 327 kB 6.0 MB/s eta 0:00:01\r\u001b[K     |████████████████████████████████| 337 kB 6.0 MB/s \n",
            "\u001b[?25hRequirement already satisfied: protobuf in /usr/local/lib/python3.7/dist-packages (from stanza) (3.17.3)\n",
            "Requirement already satisfied: numpy in /usr/local/lib/python3.7/dist-packages (from stanza) (1.19.5)\n",
            "Requirement already satisfied: tqdm in /usr/local/lib/python3.7/dist-packages (from stanza) (4.41.1)\n",
            "Requirement already satisfied: torch>=1.3.0 in /usr/local/lib/python3.7/dist-packages (from stanza) (1.9.0+cu102)\n",
            "Requirement already satisfied: requests in /usr/local/lib/python3.7/dist-packages (from stanza) (2.23.0)\n",
            "Requirement already satisfied: typing-extensions in /usr/local/lib/python3.7/dist-packages (from torch>=1.3.0->stanza) (3.7.4.3)\n",
            "Requirement already satisfied: six>=1.9 in /usr/local/lib/python3.7/dist-packages (from protobuf->stanza) (1.15.0)\n",
            "Requirement already satisfied: urllib3!=1.25.0,!=1.25.1,<1.26,>=1.21.1 in /usr/local/lib/python3.7/dist-packages (from requests->stanza) (1.24.3)\n",
            "Requirement already satisfied: idna<3,>=2.5 in /usr/local/lib/python3.7/dist-packages (from requests->stanza) (2.10)\n",
            "Requirement already satisfied: certifi>=2017.4.17 in /usr/local/lib/python3.7/dist-packages (from requests->stanza) (2021.5.30)\n",
            "Requirement already satisfied: chardet<4,>=3.0.2 in /usr/local/lib/python3.7/dist-packages (from requests->stanza) (3.0.4)\n",
            "Installing collected packages: stanza\n",
            "Successfully installed stanza-1.2.2\n"
          ],
          "name": "stdout"
        }
      ]
    },
    {
      "cell_type": "code",
      "metadata": {
        "id": "i7i2mlGl1nBF",
        "colab": {
          "resources": {
            "http://localhost:8080/nbextensions/google.colab/files.js": {
              "data": "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",
              "ok": true,
              "headers": [
                [
                  "content-type",
                  "application/javascript"
                ]
              ],
              "status": 200,
              "status_text": ""
            }
          },
          "base_uri": "https://localhost:8080/",
          "height": 72
        },
        "outputId": "046472b4-9349-4ea0-f745-f373f651944d"
      },
      "source": [
        "# Upload config.py with API keys\n",
        "from google.colab import files\n",
        "uploaded = files.upload()"
      ],
      "execution_count": 2,
      "outputs": [
        {
          "output_type": "display_data",
          "data": {
            "text/html": [
              "\n",
              "     <input type=\"file\" id=\"files-b132a000-0574-4bf3-978b-64d2cb59fd00\" name=\"files[]\" multiple disabled\n",
              "        style=\"border:none\" />\n",
              "     <output id=\"result-b132a000-0574-4bf3-978b-64d2cb59fd00\">\n",
              "      Upload widget is only available when the cell has been executed in the\n",
              "      current browser session. Please rerun this cell to enable.\n",
              "      </output>\n",
              "      <script src=\"/nbextensions/google.colab/files.js\"></script> "
            ],
            "text/plain": [
              "<IPython.core.display.HTML object>"
            ]
          },
          "metadata": {
            "tags": []
          }
        },
        {
          "output_type": "stream",
          "text": [
            "Saving config.py to config.py\n"
          ],
          "name": "stdout"
        }
      ]
    },
    {
      "cell_type": "code",
      "metadata": {
        "colab": {
          "base_uri": "https://localhost:8080/"
        },
        "id": "yDCjtH-a_bt-",
        "outputId": "9092992e-06e2-4a3f-bc7f-e9b77c0b333f"
      },
      "source": [
        "import os\n",
        "from config import KaggleKey\n",
        "os.environ['KAGGLE_USERNAME'] = KaggleKey.kaggle_username\n",
        "os.environ['KAGGLE_KEY'] = KaggleKey.kaggle_key\n",
        "!kaggle datasets download -d albrace/twitter-data"
      ],
      "execution_count": 3,
      "outputs": [
        {
          "output_type": "stream",
          "text": [
            "Downloading twitter-data.zip to /content\n",
            " 99% 770M/779M [00:07<00:00, 95.5MB/s]\n",
            "100% 779M/779M [00:07<00:00, 114MB/s] \n"
          ],
          "name": "stdout"
        }
      ]
    },
    {
      "cell_type": "code",
      "metadata": {
        "colab": {
          "base_uri": "https://localhost:8080/"
        },
        "id": "9YfIj2cEAjC2",
        "outputId": "c7026b36-e620-4a8d-a74c-5d51ebf0dd1e"
      },
      "source": [
        "!unzip /content/twitter-data.zip -d /content/data"
      ],
      "execution_count": 4,
      "outputs": [
        {
          "output_type": "stream",
          "text": [
            "Archive:  /content/twitter-data.zip\n",
            "  inflating: /content/data/2019_all_twitter_data/2019_all_twitter_data.csv  \n",
            "  inflating: /content/data/bots/bots.csv  \n",
            "  inflating: /content/data/clean_twitter_data/all_2019.csv  \n",
            "  inflating: /content/data/clean_twitter_data/all_users.csv  \n",
            "  inflating: /content/data/clean_twitter_data/pol_actor_users.csv  \n",
            "  inflating: /content/data/ge2017_cand_data/ge2017_cand_data.csv  \n",
            "  inflating: /content/data/twitter_data/all_twitter_data.csv  \n",
            "  inflating: /content/data/twitter_data/political_twitter_data.csv  \n"
          ],
          "name": "stdout"
        }
      ]
    },
    {
      "cell_type": "code",
      "metadata": {
        "id": "WzwQu4MnFh9a",
        "colab": {
          "base_uri": "https://localhost:8080/",
          "height": 183,
          "referenced_widgets": [
            "11138d4dfc9d41f0955d60fbcc94b125",
            "f15bcc0bdb354e7993a13830d1e82f9b",
            "02c367bfc25748cab0ae47216df87acf",
            "7a4d85dbd3e949deb72e8535de0af40d",
            "8213fce6cc4e445baca7e3dd69ab92b2",
            "fa04f023c05743b2997ea49f5e15080d",
            "aee604822751417582e962df66e57bf3",
            "caa8222ae1b548d2a0b7b1c834995643",
            "1fca8a71dba24ffabebb890e441c47d4",
            "27ce62422a3b4b9baa4134ef5f0f1319",
            "8d4f22e4fbab44b7bf83ad14e52068f2",
            "abd192e27c044c9fbbdf74f5715685ef",
            "f2c8bdfbe1e64fbcbd07c70b88936d24",
            "d93f093359354a059c209b8168d44573",
            "f7e1e768ae664bd586591cd1f649c258",
            "28567cb82ba5467985e68efb2fa7e1f3"
          ]
        },
        "outputId": "1d40bd09-bfb0-4b6d-93b8-79722f53b679"
      },
      "source": [
        "import string\n",
        "import pandas as pd\n",
        "import matplotlib.pyplot as plt\n",
        "import seaborn as sns\n",
        "import re\n",
        "import numpy as np\n",
        "\n",
        "import nltk\n",
        "nltk.download('stopwords')\n",
        "from nltk.tokenize import TweetTokenizer\n",
        "from nltk.corpus import stopwords\n",
        "\n",
        "import stanza\n",
        "stanza.download('en')\n",
        "\n",
        "sns.set_style('whitegrid')"
      ],
      "execution_count": 5,
      "outputs": [
        {
          "output_type": "stream",
          "text": [
            "[nltk_data] Downloading package stopwords to /root/nltk_data...\n",
            "[nltk_data]   Unzipping corpora/stopwords.zip.\n"
          ],
          "name": "stdout"
        },
        {
          "output_type": "display_data",
          "data": {
            "application/vnd.jupyter.widget-view+json": {
              "model_id": "11138d4dfc9d41f0955d60fbcc94b125",
              "version_minor": 0,
              "version_major": 2
            },
            "text/plain": [
              "HBox(children=(FloatProgress(value=0.0, description='Downloading https://raw.githubusercontent.com/stanfordnlp…"
            ]
          },
          "metadata": {
            "tags": []
          }
        },
        {
          "output_type": "stream",
          "text": [
            "2021-07-26 14:18:28 INFO: Downloading default packages for language: en (English)...\n"
          ],
          "name": "stderr"
        },
        {
          "output_type": "stream",
          "text": [
            "\n"
          ],
          "name": "stdout"
        },
        {
          "output_type": "display_data",
          "data": {
            "application/vnd.jupyter.widget-view+json": {
              "model_id": "1fca8a71dba24ffabebb890e441c47d4",
              "version_minor": 0,
              "version_major": 2
            },
            "text/plain": [
              "HBox(children=(FloatProgress(value=0.0, description='Downloading http://nlp.stanford.edu/software/stanza/1.2.2…"
            ]
          },
          "metadata": {
            "tags": []
          }
        },
        {
          "output_type": "stream",
          "text": [
            "\n"
          ],
          "name": "stdout"
        },
        {
          "output_type": "stream",
          "text": [
            "2021-07-26 14:19:51 INFO: Finished downloading models and saved to /root/stanza_resources.\n"
          ],
          "name": "stderr"
        }
      ]
    },
    {
      "cell_type": "code",
      "metadata": {
        "id": "edJCcPTO0cr8",
        "colab": {
          "base_uri": "https://localhost:8080/"
        },
        "outputId": "82d8acf1-84e5-4412-c781-2964755ffaca"
      },
      "source": [
        "nlp = stanza.Pipeline('en', processors='tokenize,sentiment')"
      ],
      "execution_count": 6,
      "outputs": [
        {
          "output_type": "stream",
          "text": [
            "2021-07-26 14:20:27 INFO: Loading these models for language: en (English):\n",
            "========================\n",
            "| Processor | Package  |\n",
            "------------------------\n",
            "| tokenize  | combined |\n",
            "| sentiment | sstplus  |\n",
            "========================\n",
            "\n",
            "2021-07-26 14:20:27 INFO: Use device: cpu\n",
            "2021-07-26 14:20:27 INFO: Loading: tokenize\n",
            "2021-07-26 14:20:27 INFO: Loading: sentiment\n",
            "2021-07-26 14:20:28 INFO: Done loading processors!\n"
          ],
          "name": "stderr"
        }
      ]
    },
    {
      "cell_type": "code",
      "metadata": {
        "id": "-aDaGrvDPe7V"
      },
      "source": [
        "all_2019_df = pd.read_csv('/content/data/2019_all_twitter_data/2019_all_twitter_data.csv', encoding='cp1252')\n",
        "score_df = pd.read_csv('/content/botscores.txt', delimiter=',', header=None)\n",
        "score_df.columns = ['score', 'user']"
      ],
      "execution_count": 92,
      "outputs": []
    },
    {
      "cell_type": "code",
      "metadata": {
        "id": "_S0v9AFkPNli",
        "outputId": "5f22fadd-3fa5-4976-eb98-a8a5fc1e9597",
        "colab": {
          "base_uri": "https://localhost:8080/",
          "height": 624
        }
      },
      "source": [
        "fig, ax = plt.subplots(figsize=(14,10))\n",
        "sns.histplot(data=score_df, kde=True)\n",
        "ax.set_title('Distribution of Bot Scores')"
      ],
      "execution_count": 33,
      "outputs": [
        {
          "output_type": "execute_result",
          "data": {
            "text/plain": [
              "Text(0.5, 1.0, 'Distribution of Bot Scores')"
            ]
          },
          "metadata": {
            "tags": []
          },
          "execution_count": 33
        },
        {
          "output_type": "display_data",
          "data": {
            "image/png": "[encoded data removed]",
            "text/plain": [
              "<Figure size 1008x720 with 1 Axes>"
            ]
          },
          "metadata": {
            "tags": []
          }
        }
      ]
    },
    {
      "cell_type": "code",
      "metadata": {
        "id": "2L9qy4SBKhSn"
      },
      "source": [
        "all_2019_df = pd.merge(left=score_df, right=all_2019_df, left_on='user', right_on='quotedTweet_username')\n",
        "all_2019_df = all_2019_df.drop(columns=['user'])"
      ],
      "execution_count": 93,
      "outputs": []
    },
    {
      "cell_type": "code",
      "metadata": {
        "id": "hxRNMMT-K4US"
      },
      "source": [
        "bot_df = all_2019_df[~(all_2019_df['score'] < 0.87)]"
      ],
      "execution_count": 94,
      "outputs": []
    },
    {
      "cell_type": "code",
      "metadata": {
        "id": "m6kXwA53MgnD",
        "outputId": "0287f36f-e861-442d-ab7a-500ae9623e90",
        "colab": {
          "base_uri": "https://localhost:8080/",
          "height": 660
        }
      },
      "source": [
        "bot_df"
      ],
      "execution_count": 95,
      "outputs": [
        {
          "output_type": "execute_result",
          "data": {
            "text/html": [
              "<div>\n",
              "<style scoped>\n",
              "    .dataframe tbody tr th:only-of-type {\n",
              "        vertical-align: middle;\n",
              "    }\n",
              "\n",
              "    .dataframe tbody tr th {\n",
              "        vertical-align: top;\n",
              "    }\n",
              "\n",
              "    .dataframe thead th {\n",
              "        text-align: right;\n",
              "    }\n",
              "</style>\n",
              "<table border=\"1\" class=\"dataframe\">\n",
              "  <thead>\n",
              "    <tr style=\"text-align: right;\">\n",
              "      <th></th>\n",
              "      <th>score</th>\n",
              "      <th>tweet_date</th>\n",
              "      <th>tweet_content</th>\n",
              "      <th>tweet_id</th>\n",
              "      <th>tweet_likes</th>\n",
              "      <th>tweet_replies</th>\n",
              "      <th>tweet_retweets</th>\n",
              "      <th>tweet_quotes</th>\n",
              "      <th>user_username</th>\n",
              "      <th>user_id</th>\n",
              "      <th>user_followers</th>\n",
              "      <th>user_friends</th>\n",
              "      <th>user_statuses</th>\n",
              "      <th>user_verified</th>\n",
              "      <th>user_url</th>\n",
              "      <th>tweet_url</th>\n",
              "      <th>mentioned_users</th>\n",
              "      <th>quotedTweet_id</th>\n",
              "      <th>quotedTweet_content</th>\n",
              "      <th>quotedTweet_username</th>\n",
              "      <th>quotedTweet_userID</th>\n",
              "      <th>quotedTweet_mentionedUsers</th>\n",
              "    </tr>\n",
              "  </thead>\n",
              "  <tbody>\n",
              "    <tr>\n",
              "      <th>126299</th>\n",
              "      <td>0.88</td>\n",
              "      <td>2019-12-12 21:31:57+00:00</td>\n",
              "      <td>b\"After more than 30 yrs paying tax, when I wa...</td>\n",
              "      <td>1205238885808254977</td>\n",
              "      <td>2</td>\n",
              "      <td>0</td>\n",
              "      <td>1</td>\n",
              "      <td>0</td>\n",
              "      <td>EvadneyC</td>\n",
              "      <td>176166517</td>\n",
              "      <td>2523</td>\n",
              "      <td>1751</td>\n",
              "      <td>15525</td>\n",
              "      <td>False</td>\n",
              "      <td>https://twitter.com/EvadneyC</td>\n",
              "      <td>https://twitter.com/EvadneyC/status/1205238885...</td>\n",
              "      <td>NaN</td>\n",
              "      <td>1.205117e+18</td>\n",
              "      <td>b'DISGUSTING: Man is given just \\xc2\\xa37 in U...</td>\n",
              "      <td>pauldashworth</td>\n",
              "      <td>2.591720e+09</td>\n",
              "      <td>NaN</td>\n",
              "    </tr>\n",
              "    <tr>\n",
              "      <th>126300</th>\n",
              "      <td>0.88</td>\n",
              "      <td>2019-12-12 21:21:19+00:00</td>\n",
              "      <td>b'#stillTime to #saveourNHS https://t.co/VmSJx...</td>\n",
              "      <td>1205236210479828992</td>\n",
              "      <td>1</td>\n",
              "      <td>0</td>\n",
              "      <td>0</td>\n",
              "      <td>0</td>\n",
              "      <td>vicofstswithuns</td>\n",
              "      <td>277624909</td>\n",
              "      <td>665</td>\n",
              "      <td>640</td>\n",
              "      <td>21987</td>\n",
              "      <td>False</td>\n",
              "      <td>https://twitter.com/vicofstswithuns</td>\n",
              "      <td>https://twitter.com/vicofstswithuns/status/120...</td>\n",
              "      <td>NaN</td>\n",
              "      <td>1.205117e+18</td>\n",
              "      <td>b'STARS FOR LABOUR: The biggest names in showb...</td>\n",
              "      <td>pauldashworth</td>\n",
              "      <td>2.591720e+09</td>\n",
              "      <td>NaN</td>\n",
              "    </tr>\n",
              "    <tr>\n",
              "      <th>126301</th>\n",
              "      <td>0.88</td>\n",
              "      <td>2019-12-12 19:29:22+00:00</td>\n",
              "      <td>b'\\xf0\\x9f\\x98\\xa1\\n#GE2019 https://t.co/qxjvU...</td>\n",
              "      <td>1205208036245151745</td>\n",
              "      <td>1</td>\n",
              "      <td>0</td>\n",
              "      <td>2</td>\n",
              "      <td>0</td>\n",
              "      <td>Gill_666</td>\n",
              "      <td>212628855</td>\n",
              "      <td>2216</td>\n",
              "      <td>2482</td>\n",
              "      <td>28455</td>\n",
              "      <td>False</td>\n",
              "      <td>https://twitter.com/Gill_666</td>\n",
              "      <td>https://twitter.com/Gill_666/status/1205208036...</td>\n",
              "      <td>NaN</td>\n",
              "      <td>1.205117e+18</td>\n",
              "      <td>b'DISGUSTING: Man is given just \\xc2\\xa37 in U...</td>\n",
              "      <td>pauldashworth</td>\n",
              "      <td>2.591720e+09</td>\n",
              "      <td>NaN</td>\n",
              "    </tr>\n",
              "    <tr>\n",
              "      <th>126302</th>\n",
              "      <td>0.88</td>\n",
              "      <td>2019-12-12 19:28:41+00:00</td>\n",
              "      <td>b'Blind sided Boris... \\xf0\\x9f\\x8c\\xb9\\n\\nWat...</td>\n",
              "      <td>1205207864853352450</td>\n",
              "      <td>0</td>\n",
              "      <td>0</td>\n",
              "      <td>0</td>\n",
              "      <td>0</td>\n",
              "      <td>SirClouseau</td>\n",
              "      <td>1199334401349476353</td>\n",
              "      <td>131</td>\n",
              "      <td>687</td>\n",
              "      <td>5743</td>\n",
              "      <td>False</td>\n",
              "      <td>https://twitter.com/SirClouseau</td>\n",
              "      <td>https://twitter.com/SirClouseau/status/1205207...</td>\n",
              "      <td>NaN</td>\n",
              "      <td>1.205153e+18</td>\n",
              "      <td>b'To save our #NHS, to protect public services...</td>\n",
              "      <td>pauldashworth</td>\n",
              "      <td>2.591720e+09</td>\n",
              "      <td>NaN</td>\n",
              "    </tr>\n",
              "    <tr>\n",
              "      <th>126303</th>\n",
              "      <td>0.88</td>\n",
              "      <td>2019-12-12 19:01:55+00:00</td>\n",
              "      <td>b'#SaveOurNHS #VoteTactically #GeneralElection...</td>\n",
              "      <td>1205201128343949313</td>\n",
              "      <td>1</td>\n",
              "      <td>0</td>\n",
              "      <td>0</td>\n",
              "      <td>0</td>\n",
              "      <td>Socialistdawn</td>\n",
              "      <td>221310328</td>\n",
              "      <td>11354</td>\n",
              "      <td>10328</td>\n",
              "      <td>225026</td>\n",
              "      <td>False</td>\n",
              "      <td>https://twitter.com/Socialistdawn</td>\n",
              "      <td>https://twitter.com/Socialistdawn/status/12052...</td>\n",
              "      <td>NaN</td>\n",
              "      <td>1.205153e+18</td>\n",
              "      <td>b'To save our #NHS, to protect public services...</td>\n",
              "      <td>pauldashworth</td>\n",
              "      <td>2.591720e+09</td>\n",
              "      <td>NaN</td>\n",
              "    </tr>\n",
              "    <tr>\n",
              "      <th>...</th>\n",
              "      <td>...</td>\n",
              "      <td>...</td>\n",
              "      <td>...</td>\n",
              "      <td>...</td>\n",
              "      <td>...</td>\n",
              "      <td>...</td>\n",
              "      <td>...</td>\n",
              "      <td>...</td>\n",
              "      <td>...</td>\n",
              "      <td>...</td>\n",
              "      <td>...</td>\n",
              "      <td>...</td>\n",
              "      <td>...</td>\n",
              "      <td>...</td>\n",
              "      <td>...</td>\n",
              "      <td>...</td>\n",
              "      <td>...</td>\n",
              "      <td>...</td>\n",
              "      <td>...</td>\n",
              "      <td>...</td>\n",
              "      <td>...</td>\n",
              "      <td>...</td>\n",
              "    </tr>\n",
              "    <tr>\n",
              "      <th>255097</th>\n",
              "      <td>0.89</td>\n",
              "      <td>2019-11-23 14:47:14+00:00</td>\n",
              "      <td>b\"But when I'm in power I will do exactly what...</td>\n",
              "      <td>1198251666895712259</td>\n",
              "      <td>2</td>\n",
              "      <td>1</td>\n",
              "      <td>0</td>\n",
              "      <td>0</td>\n",
              "      <td>SLOTE3</td>\n",
              "      <td>1387392716</td>\n",
              "      <td>3117</td>\n",
              "      <td>2907</td>\n",
              "      <td>53811</td>\n",
              "      <td>False</td>\n",
              "      <td>https://twitter.com/SLOTE3</td>\n",
              "      <td>https://twitter.com/SLOTE3/status/119825166689...</td>\n",
              "      <td>NaN</td>\n",
              "      <td>1.198250e+18</td>\n",
              "      <td>b'There is a snag with Corbyn\\xe2\\x80\\x99s sta...</td>\n",
              "      <td>Gemac91138162</td>\n",
              "      <td>1.086001e+18</td>\n",
              "      <td>NaN</td>\n",
              "    </tr>\n",
              "    <tr>\n",
              "      <th>255163</th>\n",
              "      <td>0.87</td>\n",
              "      <td>2019-11-25 12:47:36+00:00</td>\n",
              "      <td>b'At least the spending on EV infrastructure m...</td>\n",
              "      <td>1198946334860021760</td>\n",
              "      <td>0</td>\n",
              "      <td>0</td>\n",
              "      <td>0</td>\n",
              "      <td>0</td>\n",
              "      <td>GraniteSharesUK</td>\n",
              "      <td>1142048307566583808</td>\n",
              "      <td>199</td>\n",
              "      <td>288</td>\n",
              "      <td>920</td>\n",
              "      <td>False</td>\n",
              "      <td>https://twitter.com/GraniteSharesUK</td>\n",
              "      <td>https://twitter.com/GraniteSharesUK/status/119...</td>\n",
              "      <td>NaN</td>\n",
              "      <td>1.198930e+18</td>\n",
              "      <td>b'The \\xc2\\xa33bn hole in the Tory manifesto h...</td>\n",
              "      <td>FTAlphaville</td>\n",
              "      <td>1.446564e+07</td>\n",
              "      <td>NaN</td>\n",
              "    </tr>\n",
              "    <tr>\n",
              "      <th>255180</th>\n",
              "      <td>0.92</td>\n",
              "      <td>2019-12-12 23:12:17+00:00</td>\n",
              "      <td>b'#GE19 for those not liking the projected out...</td>\n",
              "      <td>1205264138408099840</td>\n",
              "      <td>0</td>\n",
              "      <td>0</td>\n",
              "      <td>0</td>\n",
              "      <td>0</td>\n",
              "      <td>NickPfitzner</td>\n",
              "      <td>309526317</td>\n",
              "      <td>665</td>\n",
              "      <td>701</td>\n",
              "      <td>40657</td>\n",
              "      <td>False</td>\n",
              "      <td>https://twitter.com/NickPfitzner</td>\n",
              "      <td>https://twitter.com/NickPfitzner/status/120526...</td>\n",
              "      <td>NaN</td>\n",
              "      <td>1.205261e+18</td>\n",
              "      <td>b'https://t.co/ICQG0iU5lS'</td>\n",
              "      <td>heelersbot</td>\n",
              "      <td>7.272298e+17</td>\n",
              "      <td>NaN</td>\n",
              "    </tr>\n",
              "    <tr>\n",
              "      <th>255226</th>\n",
              "      <td>0.95</td>\n",
              "      <td>2019-11-15 17:23:12+00:00</td>\n",
              "      <td>b'Every time I see a tweet that corbyns an IRA...</td>\n",
              "      <td>1195391816130072576</td>\n",
              "      <td>0</td>\n",
              "      <td>0</td>\n",
              "      <td>0</td>\n",
              "      <td>0</td>\n",
              "      <td>JMAG1892_2</td>\n",
              "      <td>1173998229148569601</td>\n",
              "      <td>94</td>\n",
              "      <td>348</td>\n",
              "      <td>5586</td>\n",
              "      <td>False</td>\n",
              "      <td>https://twitter.com/JMAG1892_2</td>\n",
              "      <td>https://twitter.com/JMAG1892_2/status/11953918...</td>\n",
              "      <td>NaN</td>\n",
              "      <td>1.195009e+18</td>\n",
              "      <td>b'https://t.co/iaG6G3WJrR'</td>\n",
              "      <td>binksOutContext</td>\n",
              "      <td>1.195008e+18</td>\n",
              "      <td>NaN</td>\n",
              "    </tr>\n",
              "    <tr>\n",
              "      <th>255283</th>\n",
              "      <td>0.87</td>\n",
              "      <td>2019-11-26 22:23:12+00:00</td>\n",
              "      <td>b'#VoteLabourDecember12 #VoteLabour2019 #NHS #...</td>\n",
              "      <td>1199453577686605824</td>\n",
              "      <td>0</td>\n",
              "      <td>0</td>\n",
              "      <td>0</td>\n",
              "      <td>0</td>\n",
              "      <td>CorruptNSW</td>\n",
              "      <td>158123632</td>\n",
              "      <td>5432</td>\n",
              "      <td>5967</td>\n",
              "      <td>529388</td>\n",
              "      <td>False</td>\n",
              "      <td>https://twitter.com/CorruptNSW</td>\n",
              "      <td>https://twitter.com/CorruptNSW/status/11994535...</td>\n",
              "      <td>[[User(username='BorisJohnson', displayname='B...</td>\n",
              "      <td>1.199450e+18</td>\n",
              "      <td>b'General Election: The 25 Key Seats That Coul...</td>\n",
              "      <td>HuffPostAU</td>\n",
              "      <td>2.707159e+09</td>\n",
              "      <td>NaN</td>\n",
              "    </tr>\n",
              "  </tbody>\n",
              "</table>\n",
              "<p>2917 rows × 22 columns</p>\n",
              "</div>"
            ],
            "text/plain": [
              "        score  ... quotedTweet_mentionedUsers\n",
              "126299   0.88  ...                        NaN\n",
              "126300   0.88  ...                        NaN\n",
              "126301   0.88  ...                        NaN\n",
              "126302   0.88  ...                        NaN\n",
              "126303   0.88  ...                        NaN\n",
              "...       ...  ...                        ...\n",
              "255097   0.89  ...                        NaN\n",
              "255163   0.87  ...                        NaN\n",
              "255180   0.92  ...                        NaN\n",
              "255226   0.95  ...                        NaN\n",
              "255283   0.87  ...                        NaN\n",
              "\n",
              "[2917 rows x 22 columns]"
            ]
          },
          "metadata": {
            "tags": []
          },
          "execution_count": 95
        }
      ]
    },
    {
      "cell_type": "code",
      "metadata": {
        "id": "uLmmmx3jMWcd",
        "outputId": "dcbe9c4e-68ee-44cf-9730-854c962dedac",
        "colab": {
          "base_uri": "https://localhost:8080/"
        }
      },
      "source": [
        "len(bot_df['quotedTweet_username'].unique())"
      ],
      "execution_count": 96,
      "outputs": [
        {
          "output_type": "execute_result",
          "data": {
            "text/plain": [
              "615"
            ]
          },
          "metadata": {
            "tags": []
          },
          "execution_count": 96
        }
      ]
    },
    {
      "cell_type": "code",
      "metadata": {
        "colab": {
          "base_uri": "https://localhost:8080/"
        },
        "id": "0XwVZCZp-dlZ",
        "outputId": "f32e9dc8-349b-4165-c14c-6939bf90d3f6"
      },
      "source": [
        "print(bot_df.shape)\n",
        "bot_df.isnull().sum()"
      ],
      "execution_count": 68,
      "outputs": [
        {
          "output_type": "stream",
          "text": [
            "(2895, 22)\n"
          ],
          "name": "stdout"
        },
        {
          "output_type": "execute_result",
          "data": {
            "text/plain": [
              "score                            0\n",
              "tweet_date                       0\n",
              "tweet_content                    0\n",
              "tweet_id                         0\n",
              "tweet_likes                      0\n",
              "tweet_replies                    0\n",
              "tweet_retweets                   0\n",
              "tweet_quotes                     0\n",
              "user_username                    0\n",
              "user_id                          0\n",
              "user_followers                   0\n",
              "user_friends                     0\n",
              "user_statuses                    0\n",
              "user_verified                    0\n",
              "user_url                         0\n",
              "tweet_url                        0\n",
              "mentioned_users               2315\n",
              "quotedTweet_id                   0\n",
              "quotedTweet_content              0\n",
              "quotedTweet_username             0\n",
              "quotedTweet_userID               0\n",
              "quotedTweet_mentionedUsers    2384\n",
              "dtype: int64"
            ]
          },
          "metadata": {
            "tags": []
          },
          "execution_count": 68
        }
      ]
    },
    {
      "cell_type": "code",
      "metadata": {
        "id": "x-uob5mAGE4j",
        "outputId": "c1fbe74e-f70f-4cfe-91e4-620f8df458fe",
        "colab": {
          "base_uri": "https://localhost:8080/"
        }
      },
      "source": [
        "bot_df['tweet_date'] = bot_df['tweet_date'].map(lambda x: str(x)[:-15])"
      ],
      "execution_count": 97,
      "outputs": [
        {
          "output_type": "stream",
          "text": [
            "/usr/local/lib/python3.7/dist-packages/ipykernel_launcher.py:1: SettingWithCopyWarning: \n",
            "A value is trying to be set on a copy of a slice from a DataFrame.\n",
            "Try using .loc[row_indexer,col_indexer] = value instead\n",
            "\n",
            "See the caveats in the documentation: https://pandas.pydata.org/pandas-docs/stable/user_guide/indexing.html#returning-a-view-versus-a-copy\n",
            "  \"\"\"Entry point for launching an IPython kernel.\n"
          ],
          "name": "stderr"
        }
      ]
    },
    {
      "cell_type": "code",
      "metadata": {
        "id": "-fL-mpuXPm8r",
        "outputId": "b123a7b2-3b81-4c5f-eac8-b3f132836bd2",
        "colab": {
          "base_uri": "https://localhost:8080/"
        }
      },
      "source": [
        "bot_df['tweet_date'] = pd.to_datetime(bot_df['tweet_date'])\n",
        "bot_df = bot_df[~(bot_df['tweet_date'] < '2019-11-06')]"
      ],
      "execution_count": 98,
      "outputs": [
        {
          "output_type": "stream",
          "text": [
            "/usr/local/lib/python3.7/dist-packages/ipykernel_launcher.py:1: SettingWithCopyWarning: \n",
            "A value is trying to be set on a copy of a slice from a DataFrame.\n",
            "Try using .loc[row_indexer,col_indexer] = value instead\n",
            "\n",
            "See the caveats in the documentation: https://pandas.pydata.org/pandas-docs/stable/user_guide/indexing.html#returning-a-view-versus-a-copy\n",
            "  \"\"\"Entry point for launching an IPython kernel.\n"
          ],
          "name": "stderr"
        }
      ]
    },
    {
      "cell_type": "code",
      "metadata": {
        "id": "sU_Edqx_IdOI"
      },
      "source": [
        "punc = list(string.punctuation)\n",
        "stop = stopwords.words('english') + punc + ['rt', 'via']\n",
        "\n",
        "tt = TweetTokenizer()"
      ],
      "execution_count": 99,
      "outputs": []
    },
    {
      "cell_type": "code",
      "metadata": {
        "id": "Ig9ljM4uG2DU"
      },
      "source": [
        "def hashtag_extract(s):\n",
        "  hashtags = []\n",
        "  for i in s:\n",
        "    ht = re.findall(r\"#(\\w+)\", i)\n",
        "    hashtags.append(ht)\n",
        "  return hashtags"
      ],
      "execution_count": 47,
      "outputs": []
    },
    {
      "cell_type": "code",
      "metadata": {
        "id": "_EbrAagkVnir"
      },
      "source": [
        "def fix_encode(df):\n",
        "  df['tweet_content'] = df['tweet_content'].str.replace('&amp', '&')\n",
        "  df['tweet_content'] = df['tweet_content'].str.replace('b\"', '')\n",
        "  df['tweet_content'] = df['tweet_content'].str.replace(\"b'\", '')\n",
        "  return df"
      ],
      "execution_count": 48,
      "outputs": []
    },
    {
      "cell_type": "code",
      "metadata": {
        "id": "XnmLFk4iXMUH"
      },
      "source": [
        "def join_punct(s):\n",
        "    return ''.join(ch for ch in s if ch not in punc)"
      ],
      "execution_count": 49,
      "outputs": []
    },
    {
      "cell_type": "code",
      "metadata": {
        "id": "RrFtCL-uXQ2z"
      },
      "source": [
        "def remove_emoji(s):\n",
        "    emoji_pattern = re.compile(\n",
        "        r'(\\u00a9|\\u00ae|[\\u2000-\\u3300]|\\ud83c[\\ud000-\\udfff]|\\ud83d[\\ud000-\\udfff]|\\ud83e[\\ud000-\\udfff]|(?:\\U0001f92d))',\n",
        "        re.UNICODE)\n",
        "    return emoji_pattern.sub(r'', s)"
      ],
      "execution_count": 50,
      "outputs": []
    },
    {
      "cell_type": "code",
      "metadata": {
        "id": "ybLgI-oXXScx"
      },
      "source": [
        "def remove_url(s):\n",
        "    url_pattern = re.compile(r'https?://\\S+|www\\.\\S+')\n",
        "    no_url = url_pattern.sub(r'', s)\n",
        "    return no_url"
      ],
      "execution_count": 51,
      "outputs": []
    },
    {
      "cell_type": "code",
      "metadata": {
        "id": "J24meGnIJ5UA"
      },
      "source": [
        "def clean_tweet(s):\n",
        "  clean_tweets = []\n",
        "  for i in s:\n",
        "    tweet_token = tt.tokenize(join_punct(remove_emoji(remove_url(i.lower()))))\n",
        "    no_stop_words = [token for token in tweet_token if not token in stop]\n",
        "    clean_tweets.append(no_stop_words)\n",
        "  return clean_tweets"
      ],
      "execution_count": 52,
      "outputs": []
    },
    {
      "cell_type": "code",
      "metadata": {
        "id": "nmMaYqSWFMms"
      },
      "source": [
        "def preprocessing_user(df):\n",
        "\n",
        "  df['mentioned_users']=df['mentioned_users'].fillna(\"\")\n",
        "  mentioned_user = []\n",
        "  for i, user in enumerate(df['mentioned_users']):\n",
        "    usernames = user.split(\"username='\")\n",
        "    username_list = []\n",
        "    for username in usernames:\n",
        "      username_list.append(re.findall(\"^(.+?)'\", username))\n",
        "    mentioned_user.append(username_list[1:])\n",
        "  df = df.drop(columns=['mentioned_users'])\n",
        "  df['mentioned_users'] = mentioned_user\n",
        "  df['mentioned_users'] = df['mentioned_users'].apply(lambda x: np.nan if len(x)==0 else x)\n",
        "\n",
        "  df['quotedTweet_mentionedUsers']=df['quotedTweet_mentionedUsers'].fillna(\"\")\n",
        "  mentioned_user = []\n",
        "  for i, user in enumerate(df['quotedTweet_mentionedUsers']):\n",
        "    usernames = user.split(\"username='\")\n",
        "    username_list = []\n",
        "    for username in usernames:\n",
        "      username_list.append(re.findall(\"^(.+?)'\", username))\n",
        "    mentioned_user.append(username_list[1:])\n",
        "  df = df.drop(columns=['quotedTweet_mentionedUsers'])\n",
        "  df['quotedTweet_mentionedUsers'] = mentioned_user\n",
        "  df['quotedTweet_mentionedUsers'] = df['quotedTweet_mentionedUsers'].apply(lambda x: np.nan if len(x)==0 else x)\n",
        "\n",
        "  return df"
      ],
      "execution_count": 53,
      "outputs": []
    },
    {
      "cell_type": "code",
      "metadata": {
        "id": "ys47Gh94KZCh"
      },
      "source": [
        "def clean_sentiment(s):\n",
        "  clean_tweets = []\n",
        "  for i in s:\n",
        "    x = join_punct(remove_url(i.lower()))\n",
        "    clean_tweets.append(x)\n",
        "  return clean_tweets"
      ],
      "execution_count": 54,
      "outputs": []
    },
    {
      "cell_type": "code",
      "metadata": {
        "id": "DgaVZCLFMGyF"
      },
      "source": [
        "def sentiment(df, col):\n",
        "  rows = []\n",
        "  for tweet in df[col]:\n",
        "    doc = nlp(tweet)\n",
        "    for sentence in doc.sentences:\n",
        "      row={\n",
        "          'text_'+col: sentence.text,\n",
        "          'sentiment_'+col: sentence.sentiment\n",
        "      }\n",
        "    rows.append(row)\n",
        "  return pd.DataFrame(rows)"
      ],
      "execution_count": 75,
      "outputs": []
    },
    {
      "cell_type": "code",
      "metadata": {
        "id": "q_gKI71aVb8m",
        "outputId": "e1032981-7079-443c-9636-9cdf8d79e011",
        "colab": {
          "base_uri": "https://localhost:8080/"
        }
      },
      "source": [
        "bot_df = fix_encode(bot_df)\n",
        "bot_df['hashtags'] = hashtag_extract(bot_df['tweet_content'])\n",
        "bot_df['quoted_hashtags'] = hashtag_extract(bot_df['quotedTweet_content'])\n",
        "bot_df['clean_tweet_content'] = clean_tweet(bot_df['tweet_content'])\n",
        "bot_df['clean_quotedTweet_content'] = clean_tweet(bot_df['quotedTweet_content'])\n",
        "bot_df = preprocessing_user(bot_df)\n",
        "# bot_df['clean_sentiment_content'] = clean_sentiment(bot_df['tweet_content'])\n",
        "# bot_df['clean_sentiment_quoted'] = clean_sentiment(bot_df['quotedTweet_content'])\n",
        "# sentiment_2019_df = sentiment(bot_df, 'clean_sentiment_content')\n",
        "# all_2019_sent_df=sentiment_2019_df.merge(right=bot_df, left_on='text_clean_sentiment_content', right_on='clean_sentiment_content')\n",
        "# sentiment_2019_quoted_df = sentiment(bot_df, 'clean_sentiment_quoted')\n",
        "# final_df=sentiment_2019_quoted_df.merge(right=all_2019_sent_df, left_on='text_clean_sentiment_quoted', right_on='clean_sentiment_quoted')\n",
        "# final_df = final_df.drop(columns=['text_clean_sentiment_quoted', 'text_clean_sentiment_content', 'clean_sentiment_content', 'clean_sentiment_quoted'])"
      ],
      "execution_count": 100,
      "outputs": [
        {
          "output_type": "stream",
          "text": [
            "/usr/local/lib/python3.7/dist-packages/ipykernel_launcher.py:2: SettingWithCopyWarning: \n",
            "A value is trying to be set on a copy of a slice from a DataFrame.\n",
            "Try using .loc[row_indexer,col_indexer] = value instead\n",
            "\n",
            "See the caveats in the documentation: https://pandas.pydata.org/pandas-docs/stable/user_guide/indexing.html#returning-a-view-versus-a-copy\n",
            "  \n",
            "/usr/local/lib/python3.7/dist-packages/ipykernel_launcher.py:3: SettingWithCopyWarning: \n",
            "A value is trying to be set on a copy of a slice from a DataFrame.\n",
            "Try using .loc[row_indexer,col_indexer] = value instead\n",
            "\n",
            "See the caveats in the documentation: https://pandas.pydata.org/pandas-docs/stable/user_guide/indexing.html#returning-a-view-versus-a-copy\n",
            "  This is separate from the ipykernel package so we can avoid doing imports until\n",
            "/usr/local/lib/python3.7/dist-packages/ipykernel_launcher.py:4: SettingWithCopyWarning: \n",
            "A value is trying to be set on a copy of a slice from a DataFrame.\n",
            "Try using .loc[row_indexer,col_indexer] = value instead\n",
            "\n",
            "See the caveats in the documentation: https://pandas.pydata.org/pandas-docs/stable/user_guide/indexing.html#returning-a-view-versus-a-copy\n",
            "  after removing the cwd from sys.path.\n",
            "/usr/local/lib/python3.7/dist-packages/ipykernel_launcher.py:5: SettingWithCopyWarning: \n",
            "A value is trying to be set on a copy of a slice from a DataFrame.\n",
            "Try using .loc[row_indexer,col_indexer] = value instead\n",
            "\n",
            "See the caveats in the documentation: https://pandas.pydata.org/pandas-docs/stable/user_guide/indexing.html#returning-a-view-versus-a-copy\n",
            "  \"\"\"\n"
          ],
          "name": "stderr"
        }
      ]
    },
    {
      "cell_type": "code",
      "metadata": {
        "id": "mfpaKmVzea_W",
        "outputId": "884c8e28-251c-4b7f-8560-6f1aed723ff9",
        "colab": {
          "base_uri": "https://localhost:8080/",
          "height": 847
        }
      },
      "source": [
        "bot_df"
      ],
      "execution_count": 102,
      "outputs": [
        {
          "output_type": "execute_result",
          "data": {
            "text/html": [
              "<div>\n",
              "<style scoped>\n",
              "    .dataframe tbody tr th:only-of-type {\n",
              "        vertical-align: middle;\n",
              "    }\n",
              "\n",
              "    .dataframe tbody tr th {\n",
              "        vertical-align: top;\n",
              "    }\n",
              "\n",
              "    .dataframe thead th {\n",
              "        text-align: right;\n",
              "    }\n",
              "</style>\n",
              "<table border=\"1\" class=\"dataframe\">\n",
              "  <thead>\n",
              "    <tr style=\"text-align: right;\">\n",
              "      <th></th>\n",
              "      <th>score</th>\n",
              "      <th>tweet_date</th>\n",
              "      <th>tweet_content</th>\n",
              "      <th>tweet_id</th>\n",
              "      <th>tweet_likes</th>\n",
              "      <th>tweet_replies</th>\n",
              "      <th>tweet_retweets</th>\n",
              "      <th>tweet_quotes</th>\n",
              "      <th>user_username</th>\n",
              "      <th>user_id</th>\n",
              "      <th>user_followers</th>\n",
              "      <th>user_friends</th>\n",
              "      <th>user_statuses</th>\n",
              "      <th>user_verified</th>\n",
              "      <th>user_url</th>\n",
              "      <th>tweet_url</th>\n",
              "      <th>quotedTweet_id</th>\n",
              "      <th>quotedTweet_content</th>\n",
              "      <th>quotedTweet_username</th>\n",
              "      <th>quotedTweet_userID</th>\n",
              "      <th>hashtags</th>\n",
              "      <th>quoted_hashtags</th>\n",
              "      <th>clean_tweet_content</th>\n",
              "      <th>clean_quotedTweet_content</th>\n",
              "      <th>mentioned_users</th>\n",
              "      <th>quotedTweet_mentionedUsers</th>\n",
              "    </tr>\n",
              "  </thead>\n",
              "  <tbody>\n",
              "    <tr>\n",
              "      <th>126299</th>\n",
              "      <td>0.88</td>\n",
              "      <td>2019-12-12</td>\n",
              "      <td>After more than 30 yrs paying tax, when I was ...</td>\n",
              "      <td>1205238885808254977</td>\n",
              "      <td>2</td>\n",
              "      <td>0</td>\n",
              "      <td>1</td>\n",
              "      <td>0</td>\n",
              "      <td>EvadneyC</td>\n",
              "      <td>176166517</td>\n",
              "      <td>2523</td>\n",
              "      <td>1751</td>\n",
              "      <td>15525</td>\n",
              "      <td>False</td>\n",
              "      <td>https://twitter.com/EvadneyC</td>\n",
              "      <td>https://twitter.com/EvadneyC/status/1205238885...</td>\n",
              "      <td>1.205117e+18</td>\n",
              "      <td>b'DISGUSTING: Man is given just \\xc2\\xa37 in U...</td>\n",
              "      <td>pauldashworth</td>\n",
              "      <td>2.591720e+09</td>\n",
              "      <td>[GE2019]</td>\n",
              "      <td>[GE2019, UKElection, BorisOut, ToriesOut, Tact...</td>\n",
              "      <td>[30, yrs, paying, tax, diagnosed, cancer, 2, y...</td>\n",
              "      <td>[bdisgusting, man, given, xc2xa37, universal, ...</td>\n",
              "      <td>NaN</td>\n",
              "      <td>NaN</td>\n",
              "    </tr>\n",
              "    <tr>\n",
              "      <th>126300</th>\n",
              "      <td>0.88</td>\n",
              "      <td>2019-12-12</td>\n",
              "      <td>#stillTime to #saveourNHS https://t.co/VmSJx2J...</td>\n",
              "      <td>1205236210479828992</td>\n",
              "      <td>1</td>\n",
              "      <td>0</td>\n",
              "      <td>0</td>\n",
              "      <td>0</td>\n",
              "      <td>vicofstswithuns</td>\n",
              "      <td>277624909</td>\n",
              "      <td>665</td>\n",
              "      <td>640</td>\n",
              "      <td>21987</td>\n",
              "      <td>False</td>\n",
              "      <td>https://twitter.com/vicofstswithuns</td>\n",
              "      <td>https://twitter.com/vicofstswithuns/status/120...</td>\n",
              "      <td>1.205117e+18</td>\n",
              "      <td>b'STARS FOR LABOUR: The biggest names in showb...</td>\n",
              "      <td>pauldashworth</td>\n",
              "      <td>2.591720e+09</td>\n",
              "      <td>[stillTime, saveourNHS]</td>\n",
              "      <td>[GE2019, UKElection, BorisOut, ToriesOut, Tact...</td>\n",
              "      <td>[stilltime, saveournhs]</td>\n",
              "      <td>[bstars, labour, biggest, names, showbiz, voti...</td>\n",
              "      <td>NaN</td>\n",
              "      <td>NaN</td>\n",
              "    </tr>\n",
              "    <tr>\n",
              "      <th>126301</th>\n",
              "      <td>0.88</td>\n",
              "      <td>2019-12-12</td>\n",
              "      <td>\\xf0\\x9f\\x98\\xa1\\n#GE2019 https://t.co/qxjvUS2...</td>\n",
              "      <td>1205208036245151745</td>\n",
              "      <td>1</td>\n",
              "      <td>0</td>\n",
              "      <td>2</td>\n",
              "      <td>0</td>\n",
              "      <td>Gill_666</td>\n",
              "      <td>212628855</td>\n",
              "      <td>2216</td>\n",
              "      <td>2482</td>\n",
              "      <td>28455</td>\n",
              "      <td>False</td>\n",
              "      <td>https://twitter.com/Gill_666</td>\n",
              "      <td>https://twitter.com/Gill_666/status/1205208036...</td>\n",
              "      <td>1.205117e+18</td>\n",
              "      <td>b'DISGUSTING: Man is given just \\xc2\\xa37 in U...</td>\n",
              "      <td>pauldashworth</td>\n",
              "      <td>2.591720e+09</td>\n",
              "      <td>[GE2019]</td>\n",
              "      <td>[GE2019, UKElection, BorisOut, ToriesOut, Tact...</td>\n",
              "      <td>[xf0x9fx98xa1nge2019]</td>\n",
              "      <td>[bdisgusting, man, given, xc2xa37, universal, ...</td>\n",
              "      <td>NaN</td>\n",
              "      <td>NaN</td>\n",
              "    </tr>\n",
              "    <tr>\n",
              "      <th>126302</th>\n",
              "      <td>0.88</td>\n",
              "      <td>2019-12-12</td>\n",
              "      <td>Blind sided Boris... \\xf0\\x9f\\x8c\\xb9\\n\\nWatch...</td>\n",
              "      <td>1205207864853352450</td>\n",
              "      <td>0</td>\n",
              "      <td>0</td>\n",
              "      <td>0</td>\n",
              "      <td>0</td>\n",
              "      <td>SirClouseau</td>\n",
              "      <td>1199334401349476353</td>\n",
              "      <td>131</td>\n",
              "      <td>687</td>\n",
              "      <td>5743</td>\n",
              "      <td>False</td>\n",
              "      <td>https://twitter.com/SirClouseau</td>\n",
              "      <td>https://twitter.com/SirClouseau/status/1205207...</td>\n",
              "      <td>1.205153e+18</td>\n",
              "      <td>b'To save our #NHS, to protect public services...</td>\n",
              "      <td>pauldashworth</td>\n",
              "      <td>2.591720e+09</td>\n",
              "      <td>[VoteLabourToday, VotingLabour, GE2019, YouthQ...</td>\n",
              "      <td>[NHS, Tory, GE2019, UKElection, BorisOut, Tori...</td>\n",
              "      <td>[blind, sided, boris, xf0x9fx8cxb9nnwatch, lik...</td>\n",
              "      <td>[bto, save, nhs, protect, public, services, co...</td>\n",
              "      <td>NaN</td>\n",
              "      <td>NaN</td>\n",
              "    </tr>\n",
              "    <tr>\n",
              "      <th>126303</th>\n",
              "      <td>0.88</td>\n",
              "      <td>2019-12-12</td>\n",
              "      <td>#SaveOurNHS #VoteTactically #GeneralElection20...</td>\n",
              "      <td>1205201128343949313</td>\n",
              "      <td>1</td>\n",
              "      <td>0</td>\n",
              "      <td>0</td>\n",
              "      <td>0</td>\n",
              "      <td>Socialistdawn</td>\n",
              "      <td>221310328</td>\n",
              "      <td>11354</td>\n",
              "      <td>10328</td>\n",
              "      <td>225026</td>\n",
              "      <td>False</td>\n",
              "      <td>https://twitter.com/Socialistdawn</td>\n",
              "      <td>https://twitter.com/Socialistdawn/status/12052...</td>\n",
              "      <td>1.205153e+18</td>\n",
              "      <td>b'To save our #NHS, to protect public services...</td>\n",
              "      <td>pauldashworth</td>\n",
              "      <td>2.591720e+09</td>\n",
              "      <td>[SaveOurNHS, VoteTactically, GeneralElection2019]</td>\n",
              "      <td>[NHS, Tory, GE2019, UKElection, BorisOut, Tori...</td>\n",
              "      <td>[saveournhs, votetactically, generalelection, ...</td>\n",
              "      <td>[bto, save, nhs, protect, public, services, co...</td>\n",
              "      <td>NaN</td>\n",
              "      <td>NaN</td>\n",
              "    </tr>\n",
              "    <tr>\n",
              "      <th>...</th>\n",
              "      <td>...</td>\n",
              "      <td>...</td>\n",
              "      <td>...</td>\n",
              "      <td>...</td>\n",
              "      <td>...</td>\n",
              "      <td>...</td>\n",
              "      <td>...</td>\n",
              "      <td>...</td>\n",
              "      <td>...</td>\n",
              "      <td>...</td>\n",
              "      <td>...</td>\n",
              "      <td>...</td>\n",
              "      <td>...</td>\n",
              "      <td>...</td>\n",
              "      <td>...</td>\n",
              "      <td>...</td>\n",
              "      <td>...</td>\n",
              "      <td>...</td>\n",
              "      <td>...</td>\n",
              "      <td>...</td>\n",
              "      <td>...</td>\n",
              "      <td>...</td>\n",
              "      <td>...</td>\n",
              "      <td>...</td>\n",
              "      <td>...</td>\n",
              "      <td>...</td>\n",
              "    </tr>\n",
              "    <tr>\n",
              "      <th>255097</th>\n",
              "      <td>0.89</td>\n",
              "      <td>2019-11-23</td>\n",
              "      <td>But when I'm in power I will do exactly what M...</td>\n",
              "      <td>1198251666895712259</td>\n",
              "      <td>2</td>\n",
              "      <td>1</td>\n",
              "      <td>0</td>\n",
              "      <td>0</td>\n",
              "      <td>SLOTE3</td>\n",
              "      <td>1387392716</td>\n",
              "      <td>3117</td>\n",
              "      <td>2907</td>\n",
              "      <td>53811</td>\n",
              "      <td>False</td>\n",
              "      <td>https://twitter.com/SLOTE3</td>\n",
              "      <td>https://twitter.com/SLOTE3/status/119825166689...</td>\n",
              "      <td>1.198250e+18</td>\n",
              "      <td>b'There is a snag with Corbyn\\xe2\\x80\\x99s sta...</td>\n",
              "      <td>Gemac91138162</td>\n",
              "      <td>1.086001e+18</td>\n",
              "      <td>[Corbyn]</td>\n",
              "      <td>[]</td>\n",
              "      <td>[im, power, exactly, momentum, want, ill, revo...</td>\n",
              "      <td>[bthere, snag, corbynxe, 2x80x99s, stance, bre...</td>\n",
              "      <td>NaN</td>\n",
              "      <td>NaN</td>\n",
              "    </tr>\n",
              "    <tr>\n",
              "      <th>255163</th>\n",
              "      <td>0.87</td>\n",
              "      <td>2019-11-25</td>\n",
              "      <td>At least the spending on EV infrastructure may...</td>\n",
              "      <td>1198946334860021760</td>\n",
              "      <td>0</td>\n",
              "      <td>0</td>\n",
              "      <td>0</td>\n",
              "      <td>0</td>\n",
              "      <td>GraniteSharesUK</td>\n",
              "      <td>1142048307566583808</td>\n",
              "      <td>199</td>\n",
              "      <td>288</td>\n",
              "      <td>920</td>\n",
              "      <td>False</td>\n",
              "      <td>https://twitter.com/GraniteSharesUK</td>\n",
              "      <td>https://twitter.com/GraniteSharesUK/status/119...</td>\n",
              "      <td>1.198930e+18</td>\n",
              "      <td>b'The \\xc2\\xa33bn hole in the Tory manifesto h...</td>\n",
              "      <td>FTAlphaville</td>\n",
              "      <td>1.446564e+07</td>\n",
              "      <td>[EV, techdisruption, GE2019]</td>\n",
              "      <td>[]</td>\n",
              "      <td>[least, spending, ev, infrastructure, may, rea...</td>\n",
              "      <td>[bthe, xc2xa33bn, hole, tory, manifesto]</td>\n",
              "      <td>NaN</td>\n",
              "      <td>NaN</td>\n",
              "    </tr>\n",
              "    <tr>\n",
              "      <th>255180</th>\n",
              "      <td>0.92</td>\n",
              "      <td>2019-12-12</td>\n",
              "      <td>#GE19 for those not liking the projected outco...</td>\n",
              "      <td>1205264138408099840</td>\n",
              "      <td>0</td>\n",
              "      <td>0</td>\n",
              "      <td>0</td>\n",
              "      <td>0</td>\n",
              "      <td>NickPfitzner</td>\n",
              "      <td>309526317</td>\n",
              "      <td>665</td>\n",
              "      <td>701</td>\n",
              "      <td>40657</td>\n",
              "      <td>False</td>\n",
              "      <td>https://twitter.com/NickPfitzner</td>\n",
              "      <td>https://twitter.com/NickPfitzner/status/120526...</td>\n",
              "      <td>1.205261e+18</td>\n",
              "      <td>b'https://t.co/ICQG0iU5lS'</td>\n",
              "      <td>heelersbot</td>\n",
              "      <td>7.272298e+17</td>\n",
              "      <td>[GE19]</td>\n",
              "      <td>[]</td>\n",
              "      <td>[ge19, liking, projected, outcome]</td>\n",
              "      <td>[b]</td>\n",
              "      <td>NaN</td>\n",
              "      <td>NaN</td>\n",
              "    </tr>\n",
              "    <tr>\n",
              "      <th>255226</th>\n",
              "      <td>0.95</td>\n",
              "      <td>2019-11-15</td>\n",
              "      <td>Every time I see a tweet that corbyns an IRA s...</td>\n",
              "      <td>1195391816130072576</td>\n",
              "      <td>0</td>\n",
              "      <td>0</td>\n",
              "      <td>0</td>\n",
              "      <td>0</td>\n",
              "      <td>JMAG1892_2</td>\n",
              "      <td>1173998229148569601</td>\n",
              "      <td>94</td>\n",
              "      <td>348</td>\n",
              "      <td>5586</td>\n",
              "      <td>False</td>\n",
              "      <td>https://twitter.com/JMAG1892_2</td>\n",
              "      <td>https://twitter.com/JMAG1892_2/status/11953918...</td>\n",
              "      <td>1.195009e+18</td>\n",
              "      <td>b'https://t.co/iaG6G3WJrR'</td>\n",
              "      <td>binksOutContext</td>\n",
              "      <td>1.195008e+18</td>\n",
              "      <td>[JC4PM]</td>\n",
              "      <td>[]</td>\n",
              "      <td>[every, time, see, tweet, corbyns, ira, sympat...</td>\n",
              "      <td>[b]</td>\n",
              "      <td>NaN</td>\n",
              "      <td>NaN</td>\n",
              "    </tr>\n",
              "    <tr>\n",
              "      <th>255283</th>\n",
              "      <td>0.87</td>\n",
              "      <td>2019-11-26</td>\n",
              "      <td>#VoteLabourDecember12 #VoteLabour2019 #NHS #NH...</td>\n",
              "      <td>1199453577686605824</td>\n",
              "      <td>0</td>\n",
              "      <td>0</td>\n",
              "      <td>0</td>\n",
              "      <td>0</td>\n",
              "      <td>CorruptNSW</td>\n",
              "      <td>158123632</td>\n",
              "      <td>5432</td>\n",
              "      <td>5967</td>\n",
              "      <td>529388</td>\n",
              "      <td>False</td>\n",
              "      <td>https://twitter.com/CorruptNSW</td>\n",
              "      <td>https://twitter.com/CorruptNSW/status/11994535...</td>\n",
              "      <td>1.199450e+18</td>\n",
              "      <td>b'General Election: The 25 Key Seats That Coul...</td>\n",
              "      <td>HuffPostAU</td>\n",
              "      <td>2.707159e+09</td>\n",
              "      <td>[VoteLabourDecember12, VoteLabour2019, NHS, NH...</td>\n",
              "      <td>[]</td>\n",
              "      <td>[votelabourdecember, 12, votelabour, 2019, nhs...</td>\n",
              "      <td>[bgeneral, election, 25, key, seats, could, st...</td>\n",
              "      <td>[[BorisJohnson], [NHSuk], [realDonaldTrump]]</td>\n",
              "      <td>NaN</td>\n",
              "    </tr>\n",
              "  </tbody>\n",
              "</table>\n",
              "<p>2895 rows × 26 columns</p>\n",
              "</div>"
            ],
            "text/plain": [
              "        score  ... quotedTweet_mentionedUsers\n",
              "126299   0.88  ...                        NaN\n",
              "126300   0.88  ...                        NaN\n",
              "126301   0.88  ...                        NaN\n",
              "126302   0.88  ...                        NaN\n",
              "126303   0.88  ...                        NaN\n",
              "...       ...  ...                        ...\n",
              "255097   0.89  ...                        NaN\n",
              "255163   0.87  ...                        NaN\n",
              "255180   0.92  ...                        NaN\n",
              "255226   0.95  ...                        NaN\n",
              "255283   0.87  ...                        NaN\n",
              "\n",
              "[2895 rows x 26 columns]"
            ]
          },
          "metadata": {
            "tags": []
          },
          "execution_count": 102
        }
      ]
    },
    {
      "cell_type": "code",
      "metadata": {
        "id": "xfTutR5_GDSf"
      },
      "source": [
        "fig, ax = plt.subplots(figsize=(20,10))\n",
        "g = sns.histplot(data=all_2019_sent_df, x='tweet_date')\n",
        "plt.setp(g.get_xticklabels(), rotation=45)\n",
        "plt.show()"
      ],
      "execution_count": null,
      "outputs": []
    },
    {
      "cell_type": "code",
      "metadata": {
        "id": "j4ax6DY4Xx7N"
      },
      "source": [
        "!mkdir output"
      ],
      "execution_count": 103,
      "outputs": []
    },
    {
      "cell_type": "code",
      "metadata": {
        "id": "wWGaE2whrOct"
      },
      "source": [
        "bot_df.to_csv('output/bot_df.csv')"
      ],
      "execution_count": 106,
      "outputs": []
    },
    {
      "cell_type": "code",
      "metadata": {
        "id": "Wj_YknZZYeAZ"
      },
      "source": [
        "cand_sent_df.to_csv('output/pol_actor_users.csv')\n",
        "all_sent_df.to_csv('output/all_users.csv')"
      ],
      "execution_count": null,
      "outputs": []
    },
    {
      "cell_type": "code",
      "metadata": {
        "colab": {
          "base_uri": "https://localhost:8080/"
        },
        "id": "btCuBj3YY9Y8",
        "outputId": "abf353b1-f32f-4095-a058-68f03519735e"
      },
      "source": [
        "!zip -r /content/output.zip /content/output"
      ],
      "execution_count": null,
      "outputs": [
        {
          "output_type": "stream",
          "text": [
            "  adding: content/output/ (stored 0%)\n",
            "  adding: content/output/all_users.csv (deflated 83%)\n",
            "  adding: content/output/pol_actor_users.csv (deflated 87%)\n"
          ],
          "name": "stdout"
        }
      ]
    }
  ]
}