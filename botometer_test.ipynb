{
  "nbformat": 4,
  "nbformat_minor": 0,
  "metadata": {
    "colab": {
      "name": "botometer_test.ipynb",
      "provenance": []
    },
    "kernelspec": {
      "name": "python3",
      "display_name": "Python 3"
    }
  },
  "cells": [
    {
      "cell_type": "code",
      "metadata": {
        "colab": {
          "base_uri": "https://localhost:8080/"
        },
        "id": "klJPG763_7-h",
        "outputId": "36e8e236-2c25-4279-b21f-93a3c90a9095"
      },
      "source": [
        " !pip install botometer"
      ],
      "execution_count": 3,
      "outputs": [
        {
          "output_type": "stream",
          "text": [
            "Requirement already satisfied: botometer in /usr/local/lib/python3.7/dist-packages (1.6)\n",
            "Requirement already satisfied: requests in /usr/local/lib/python3.7/dist-packages (from botometer) (2.23.0)\n",
            "Requirement already satisfied: tweepy>=3.5.0 in /usr/local/lib/python3.7/dist-packages (from botometer) (3.10.0)\n",
            "Requirement already satisfied: idna<3,>=2.5 in /usr/local/lib/python3.7/dist-packages (from requests->botometer) (2.10)\n",
            "Requirement already satisfied: chardet<4,>=3.0.2 in /usr/local/lib/python3.7/dist-packages (from requests->botometer) (3.0.4)\n",
            "Requirement already satisfied: urllib3!=1.25.0,!=1.25.1,<1.26,>=1.21.1 in /usr/local/lib/python3.7/dist-packages (from requests->botometer) (1.24.3)\n",
            "Requirement already satisfied: certifi>=2017.4.17 in /usr/local/lib/python3.7/dist-packages (from requests->botometer) (2020.12.5)\n",
            "Requirement already satisfied: requests-oauthlib>=0.7.0 in /usr/local/lib/python3.7/dist-packages (from tweepy>=3.5.0->botometer) (1.3.0)\n",
            "Requirement already satisfied: six>=1.10.0 in /usr/local/lib/python3.7/dist-packages (from tweepy>=3.5.0->botometer) (1.15.0)\n",
            "Requirement already satisfied: oauthlib>=3.0.0 in /usr/local/lib/python3.7/dist-packages (from requests-oauthlib>=0.7.0->tweepy>=3.5.0->botometer) (3.1.0)\n"
          ],
          "name": "stdout"
        }
      ]
    },
    {
      "cell_type": "code",
      "metadata": {
        "id": "Oip8w57pNLtK"
      },
      "source": [
        "import tweepy\r\n",
        "from tweepy import OAuthHandler, Stream, StreamListener\r\n",
        "import botometer\r\n",
        "\r\n",
        "import pprint"
      ],
      "execution_count": 4,
      "outputs": []
    },
    {
      "cell_type": "code",
      "metadata": {
        "id": "XZI0IMMEMzFH"
      },
      "source": [
        "consumer_key = '9CtULzOKwtotSBbgmqqF5ZSE1'\r\n",
        "consumer_secret = 'SFDNiyOXgkPjQvETZXnQOWemCqrssBsZVe3ACYHF2AkA0giPNm'\r\n",
        "access_token = '711310452815503360-SfHfZuJSf5vOLBQQOdZGN7GNxaMTNS0'\r\n",
        "access_token_secret = 'ybUU3Sq5lWNMpZAyRgJZIPRW960PtwT2jFrfOAQIKEXp1'\r\n",
        "\r\n",
        "rapidapi_key = \"7e38491e0cmsh80902d236c170efp1036e5jsn3446da214e2d\""
      ],
      "execution_count": 5,
      "outputs": []
    },
    {
      "cell_type": "code",
      "metadata": {
        "id": "7jFY84awNaIP"
      },
      "source": [
        "auth = OAuthHandler(consumer_key, consumer_secret)\r\n",
        "auth.set_access_token(access_token, access_token_secret)\r\n",
        "twitter_api = tweepy.API(auth,  wait_on_rate_limit=True)\r\n",
        "\r\n",
        "twitter_app_auth = {\r\n",
        "    'consumer_key': consumer_key,\r\n",
        "    'consumer_secret': consumer_secret,\r\n",
        "    'access_token': access_token,\r\n",
        "    'access_token_secret': access_token_secret,\r\n",
        "  }\r\n",
        "bom = botometer.Botometer(wait_on_ratelimit=True,\r\n",
        "                          rapidapi_key=rapidapi_key,\r\n",
        "                          **twitter_app_auth)\r\n",
        "\r\n",
        "pp = pprint.PrettyPrinter(indent=4)\r\n"
      ],
      "execution_count": 6,
      "outputs": []
    },
    {
      "cell_type": "code",
      "metadata": {
        "colab": {
          "base_uri": "https://localhost:8080/"
        },
        "id": "ztJ_n_ZmAELL",
        "outputId": "fab3ce57-0ac9-46c9-b0e7-7a2c9f9e7c9b"
      },
      "source": [
        "# Check a single account by screen name\r\n",
        "result = bom.check_account('@Hombo_')\r\n",
        "print(result['raw_scores']['english']['overall'], result['user']['user_data']['screen_name'])\r\n"
      ],
      "execution_count": 7,
      "outputs": [
        {
          "output_type": "stream",
          "text": [
            "1.0 Hombo_\n"
          ],
          "name": "stdout"
        }
      ]
    },
    {
      "cell_type": "code",
      "metadata": {
        "id": "PyOTs4c7Rndi"
      },
      "source": [
        "data = tweepy.Cursor(twitter_api.friends, screen_name='@Hombo_')"
      ],
      "execution_count": 8,
      "outputs": []
    },
    {
      "cell_type": "code",
      "metadata": {
        "id": "8lVHPSN9OXzd"
      },
      "source": [
        "followers = []\r\n",
        "for user in data.items():\r\n",
        "  followers.append(user.screen_name)\r\n"
      ],
      "execution_count": 9,
      "outputs": []
    },
    {
      "cell_type": "code",
      "metadata": {
        "id": "xWoV2mwLQkiF"
      },
      "source": [
        "for screen_name, result in bom.check_accounts_in(followers):\r\n",
        "  print(result['raw_scores']['english']['overall'], result['user']['user_data']['screen_name'])"
      ],
      "execution_count": null,
      "outputs": []
    }
  ]
}