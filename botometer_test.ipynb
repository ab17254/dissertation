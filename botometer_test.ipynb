{
  "nbformat": 4,
  "nbformat_minor": 0,
  "metadata": {
    "colab": {
      "name": "botometer_test.ipynb",
      "provenance": []
    },
    "kernelspec": {
      "name": "python3",
      "display_name": "Python 3"
    }
  },
  "cells": [
    {
      "cell_type": "code",
      "metadata": {
        "colab": {
          "base_uri": "https://localhost:8080/"
        },
        "id": "klJPG763_7-h",
        "outputId": "77e87893-e6e6-49b3-fc27-d58e1b50114e"
      },
      "source": [
        " !pip install botometer"
      ],
      "execution_count": 1,
      "outputs": [
        {
          "output_type": "stream",
          "text": [
            "Collecting botometer\n",
            "  Downloading https://files.pythonhosted.org/packages/67/0f/e279e1e188d65613c1dd6256e10b4d3f7ef31412ae59f703888ecab966f9/botometer-1.6-py3-none-any.whl\n",
            "Requirement already satisfied: requests in /usr/local/lib/python3.7/dist-packages (from botometer) (2.23.0)\n",
            "Requirement already satisfied: tweepy>=3.5.0 in /usr/local/lib/python3.7/dist-packages (from botometer) (3.10.0)\n",
            "Requirement already satisfied: certifi>=2017.4.17 in /usr/local/lib/python3.7/dist-packages (from requests->botometer) (2020.12.5)\n",
            "Requirement already satisfied: idna<3,>=2.5 in /usr/local/lib/python3.7/dist-packages (from requests->botometer) (2.10)\n",
            "Requirement already satisfied: urllib3!=1.25.0,!=1.25.1,<1.26,>=1.21.1 in /usr/local/lib/python3.7/dist-packages (from requests->botometer) (1.24.3)\n",
            "Requirement already satisfied: chardet<4,>=3.0.2 in /usr/local/lib/python3.7/dist-packages (from requests->botometer) (3.0.4)\n",
            "Requirement already satisfied: requests-oauthlib>=0.7.0 in /usr/local/lib/python3.7/dist-packages (from tweepy>=3.5.0->botometer) (1.3.0)\n",
            "Requirement already satisfied: six>=1.10.0 in /usr/local/lib/python3.7/dist-packages (from tweepy>=3.5.0->botometer) (1.15.0)\n",
            "Requirement already satisfied: oauthlib>=3.0.0 in /usr/local/lib/python3.7/dist-packages (from requests-oauthlib>=0.7.0->tweepy>=3.5.0->botometer) (3.1.0)\n",
            "Installing collected packages: botometer\n",
            "Successfully installed botometer-1.6\n"
          ],
          "name": "stdout"
        }
      ]
    },
    {
      "cell_type": "code",
      "metadata": {
        "colab": {
          "base_uri": "https://localhost:8080/"
        },
        "id": "ztJ_n_ZmAELL",
        "outputId": "199d7b37-83b9-4961-b1d7-79404170dbc9"
      },
      "source": [
        "import botometer\r\n",
        "\r\n",
        "rapidapi_key = \"7e38491e0cmsh80902d236c170efp1036e5jsn3446da214e2d\"\r\n",
        "twitter_app_auth = {\r\n",
        "    'consumer_key': '9CtULzOKwtotSBbgmqqF5ZSE1',\r\n",
        "    'consumer_secret': 'SFDNiyOXgkPjQvETZXnQOWemCqrssBsZVe3ACYHF2AkA0giPNm',\r\n",
        "    'access_token': '711310452815503360-SfHfZuJSf5vOLBQQOdZGN7GNxaMTNS0',\r\n",
        "    'access_token_secret': 'ybUU3Sq5lWNMpZAyRgJZIPRW960PtwT2jFrfOAQIKEXp1',\r\n",
        "  }\r\n",
        "bom = botometer.Botometer(wait_on_ratelimit=True,\r\n",
        "                          rapidapi_key=rapidapi_key,\r\n",
        "                          **twitter_app_auth)\r\n",
        "\r\n",
        "# Check a single account by screen name\r\n",
        "result = bom.check_account('@Hombo_')\r\n",
        "print(result['raw_scores']['english']['overall'], result['user']['user_data']['screen_name'])\r\n"
      ],
      "execution_count": 20,
      "outputs": [
        {
          "output_type": "stream",
          "text": [
            "1.0 Hombo_\n"
          ],
          "name": "stdout"
        }
      ]
    },
    {
      "cell_type": "code",
      "metadata": {
        "id": "AgBUGtniD_8t"
      },
      "source": [
        "\r\n",
        "# Check a sequence of accounts\r\n",
        "accounts = ['@clayadavis', '@onurvarol', '@jabawack']\r\n",
        "for screen_name, result in bom.check_accounts_in(accounts):\r\n",
        "    # Do stuff with `screen_name` and `result`"
      ],
      "execution_count": null,
      "outputs": []
    }
  ]
}