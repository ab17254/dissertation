{
  "nbformat": 4,
  "nbformat_minor": 0,
  "metadata": {
    "kernelspec": {
      "display_name": "Python 3",
      "language": "python",
      "name": "python3"
    },
    "language_info": {
      "codemirror_mode": {
        "name": "ipython",
        "version": 3
      },
      "file_extension": ".py",
      "mimetype": "text/x-python",
      "name": "python",
      "nbconvert_exporter": "python",
      "pygments_lexer": "ipython3",
      "version": "3.7.3"
    },
    "colab": {
      "name": "Older_Tweets_Retrieval.ipynb",
      "provenance": [],
      "toc_visible": true,
      "include_colab_link": true
    }
  },
  "cells": [
    {
      "cell_type": "markdown",
      "metadata": {
        "id": "view-in-github",
        "colab_type": "text"
      },
      "source": [
        "<a href=\"https://colab.research.google.com/github/ab17254/dissertation/blob/main/Older_Tweets_Retrieval.ipynb\" target=\"_parent\"><img src=\"https://colab.research.google.com/assets/colab-badge.svg\" alt=\"Open In Colab\"/></a>"
      ]
    },
    {
      "cell_type": "code",
      "metadata": {
        "id": "HE_PJJwUAaVH"
      },
      "source": [
        "#Tweepy is a python library to access Twitter API.\n",
        "import tweepy\n",
        "import csv\n",
        "import pandas as pd"
      ],
      "execution_count": 1,
      "outputs": []
    },
    {
      "cell_type": "code",
      "metadata": {
        "id": "MM-DVcG9AaVK"
      },
      "source": [
        "#Provide your own credentials here.\n",
        "consumer_key = '9CtULzOKwtotSBbgmqqF5ZSE1'\n",
        "consumer_secret = 'SFDNiyOXgkPjQvETZXnQOWemCqrssBsZVe3ACYHF2AkA0giPNm'\n",
        "access_token = '711310452815503360-SfHfZuJSf5vOLBQQOdZGN7GNxaMTNS0'\n",
        "access_token_secret = 'ybUU3Sq5lWNMpZAyRgJZIPRW960PtwT2jFrfOAQIKEXp1'"
      ],
      "execution_count": 2,
      "outputs": []
    },
    {
      "cell_type": "code",
      "metadata": {
        "id": "5IVb7cIwAaVL"
      },
      "source": [
        "auth = tweepy.OAuthHandler(consumer_key, consumer_secret)\n",
        "auth.set_access_token(access_token, access_token_secret)\n",
        "api = tweepy.API(auth,wait_on_rate_limit=True)"
      ],
      "execution_count": 3,
      "outputs": []
    },
    {
      "cell_type": "markdown",
      "metadata": {
        "id": "RJUTIjcLAaVM"
      },
      "source": [
        "snscrape → snscrape is a scraper for social networking services (SNS). We need to install this."
      ]
    },
    {
      "cell_type": "code",
      "metadata": {
        "colab": {
          "base_uri": "https://localhost:8080/"
        },
        "id": "Fvx57SzuAaVN",
        "outputId": "d8fb9f9f-0083-49d0-899b-6fb1362ecf28"
      },
      "source": [
        "!pip install snscrape"
      ],
      "execution_count": 6,
      "outputs": [
        {
          "output_type": "stream",
          "text": [
            "Collecting snscrape\n",
            "  Downloading https://files.pythonhosted.org/packages/81/dd/4a4ec9eedd8cc85ced7c5a6a23853965195203aec825ef3f7778a0c3b69e/snscrape-0.3.4-py3-none-any.whl\n",
            "Requirement already satisfied: beautifulsoup4 in /usr/local/lib/python3.7/dist-packages (from snscrape) (4.6.3)\n",
            "Requirement already satisfied: lxml in /usr/local/lib/python3.7/dist-packages (from snscrape) (4.2.6)\n",
            "Requirement already satisfied: requests[socks] in /usr/local/lib/python3.7/dist-packages (from snscrape) (2.23.0)\n",
            "Requirement already satisfied: urllib3!=1.25.0,!=1.25.1,<1.26,>=1.21.1 in /usr/local/lib/python3.7/dist-packages (from requests[socks]->snscrape) (1.24.3)\n",
            "Requirement already satisfied: chardet<4,>=3.0.2 in /usr/local/lib/python3.7/dist-packages (from requests[socks]->snscrape) (3.0.4)\n",
            "Requirement already satisfied: idna<3,>=2.5 in /usr/local/lib/python3.7/dist-packages (from requests[socks]->snscrape) (2.10)\n",
            "Requirement already satisfied: certifi>=2017.4.17 in /usr/local/lib/python3.7/dist-packages (from requests[socks]->snscrape) (2020.12.5)\n",
            "Requirement already satisfied: PySocks!=1.5.7,>=1.5.6; extra == \"socks\" in /usr/local/lib/python3.7/dist-packages (from requests[socks]->snscrape) (1.7.1)\n",
            "Installing collected packages: snscrape\n",
            "Successfully installed snscrape-0.3.4\n"
          ],
          "name": "stdout"
        }
      ]
    },
    {
      "cell_type": "code",
      "metadata": {
        "id": "NaOzR3JHAaVN"
      },
      "source": [
        "import snscrape.modules.twitter as sntwitter"
      ],
      "execution_count": 7,
      "outputs": []
    },
    {
      "cell_type": "code",
      "metadata": {
        "id": "CfCn8nb8AaVO"
      },
      "source": [
        "csvFile = open('output.csv', 'a') #creates a file in which you want to store the data.\n",
        "csvWriter = csv.writer(csvFile)"
      ],
      "execution_count": 22,
      "outputs": []
    },
    {
      "cell_type": "code",
      "metadata": {
        "colab": {
          "base_uri": "https://localhost:8080/"
        },
        "id": "l2YCz2e8AaVO",
        "outputId": "2fa1945c-9bba-43f6-d0ca-2571dfac57c3"
      },
      "source": [
        "maxTweets = 100000  # the number of tweets you require\n",
        "for i,tweet in enumerate(sntwitter.TwitterSearchScraper('#GE2017' + 'since:2017-06-01 until:2017-06-10').get_items()) :\n",
        "        if i > maxTweets :\n",
        "            break\n",
        "        if tweet.username == 'UKLabour':\n",
        "          csvWriter.writerow([tweet.date, tweet.content.encode('utf-8'), tweet.username, tweet.id]) #If you need more information, just provide the attributes\n",
        "          print(tweet.date)"
      ],
      "execution_count": 25,
      "outputs": [
        {
          "output_type": "stream",
          "text": [
            "2017-06-09 20:13:18+00:00\n"
          ],
          "name": "stdout"
        },
        {
          "output_type": "stream",
          "text": [
            "Error retrieving https://twitter.com/search?f=live&lang=en&q=%23GE2017since%3A2017-06-01+until%3A2017-06-10&src=spelling_expansion_revert_click: ConnectionError(ProtocolError('Connection aborted.', ConnectionResetError(104, 'Connection reset by peer'))), retrying\n"
          ],
          "name": "stderr"
        },
        {
          "output_type": "stream",
          "text": [
            "2017-06-09 05:31:33+00:00\n"
          ],
          "name": "stdout"
        }
      ]
    }
  ]
}